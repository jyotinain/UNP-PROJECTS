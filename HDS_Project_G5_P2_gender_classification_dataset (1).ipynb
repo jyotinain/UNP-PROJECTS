{
  "cells": [
    {
      "cell_type": "code",
      "execution_count": 1,
      "metadata": {
        "id": "7ReMCTjembmb"
      },
      "outputs": [],
      "source": [
        "import numpy as np\n",
        "import pandas as pd\n",
        "import seaborn as sns\n",
        "import matplotlib.pyplot as plt\n",
        "import statsmodels.api as sm\n",
        "from statsmodels.formula.api import ols\n",
        "import statsmodels.formula.api as smf\n",
        "%matplotlib inline\n",
        "sns.set(font_scale=1.5)"
      ]
    },
    {
      "cell_type": "code",
      "execution_count": 2,
      "metadata": {
        "colab": {
          "base_uri": "https://localhost:8080/",
          "height": 423
        },
        "id": "xbLShEDPm0H5",
        "outputId": "664ce824-ac87-45ba-b2bf-411b8e637b22"
      },
      "outputs": [
        {
          "output_type": "execute_result",
          "data": {
            "text/plain": [
              "      long_hair  forehead_width_cm  forehead_height_cm  nose_wide  nose_long  \\\n",
              "0             1               11.8                 6.1          1          0   \n",
              "1             0               14.0                 5.4          0          0   \n",
              "2             0               11.8                 6.3          1          1   \n",
              "3             0               14.4                 6.1          0          1   \n",
              "4             1               13.5                 5.9          0          0   \n",
              "...         ...                ...                 ...        ...        ...   \n",
              "4996          1               13.6                 5.1          0          0   \n",
              "4997          1               11.9                 5.4          0          0   \n",
              "4998          1               12.9                 5.7          0          0   \n",
              "4999          1               13.2                 6.2          0          0   \n",
              "5000          1               15.4                 5.4          1          1   \n",
              "\n",
              "      lips_thin  distance_nose_to_lip_long  gender  \n",
              "0             1                          1    Male  \n",
              "1             1                          0  Female  \n",
              "2             1                          1    Male  \n",
              "3             1                          1    Male  \n",
              "4             0                          0  Female  \n",
              "...         ...                        ...     ...  \n",
              "4996          0                          0  Female  \n",
              "4997          0                          0  Female  \n",
              "4998          0                          0  Female  \n",
              "4999          0                          0  Female  \n",
              "5000          1                          1    Male  \n",
              "\n",
              "[5001 rows x 8 columns]"
            ],
            "text/html": [
              "\n",
              "  <div id=\"df-c42746af-b4bc-4a66-b9c5-8ccd89da6580\">\n",
              "    <div class=\"colab-df-container\">\n",
              "      <div>\n",
              "<style scoped>\n",
              "    .dataframe tbody tr th:only-of-type {\n",
              "        vertical-align: middle;\n",
              "    }\n",
              "\n",
              "    .dataframe tbody tr th {\n",
              "        vertical-align: top;\n",
              "    }\n",
              "\n",
              "    .dataframe thead th {\n",
              "        text-align: right;\n",
              "    }\n",
              "</style>\n",
              "<table border=\"1\" class=\"dataframe\">\n",
              "  <thead>\n",
              "    <tr style=\"text-align: right;\">\n",
              "      <th></th>\n",
              "      <th>long_hair</th>\n",
              "      <th>forehead_width_cm</th>\n",
              "      <th>forehead_height_cm</th>\n",
              "      <th>nose_wide</th>\n",
              "      <th>nose_long</th>\n",
              "      <th>lips_thin</th>\n",
              "      <th>distance_nose_to_lip_long</th>\n",
              "      <th>gender</th>\n",
              "    </tr>\n",
              "  </thead>\n",
              "  <tbody>\n",
              "    <tr>\n",
              "      <th>0</th>\n",
              "      <td>1</td>\n",
              "      <td>11.8</td>\n",
              "      <td>6.1</td>\n",
              "      <td>1</td>\n",
              "      <td>0</td>\n",
              "      <td>1</td>\n",
              "      <td>1</td>\n",
              "      <td>Male</td>\n",
              "    </tr>\n",
              "    <tr>\n",
              "      <th>1</th>\n",
              "      <td>0</td>\n",
              "      <td>14.0</td>\n",
              "      <td>5.4</td>\n",
              "      <td>0</td>\n",
              "      <td>0</td>\n",
              "      <td>1</td>\n",
              "      <td>0</td>\n",
              "      <td>Female</td>\n",
              "    </tr>\n",
              "    <tr>\n",
              "      <th>2</th>\n",
              "      <td>0</td>\n",
              "      <td>11.8</td>\n",
              "      <td>6.3</td>\n",
              "      <td>1</td>\n",
              "      <td>1</td>\n",
              "      <td>1</td>\n",
              "      <td>1</td>\n",
              "      <td>Male</td>\n",
              "    </tr>\n",
              "    <tr>\n",
              "      <th>3</th>\n",
              "      <td>0</td>\n",
              "      <td>14.4</td>\n",
              "      <td>6.1</td>\n",
              "      <td>0</td>\n",
              "      <td>1</td>\n",
              "      <td>1</td>\n",
              "      <td>1</td>\n",
              "      <td>Male</td>\n",
              "    </tr>\n",
              "    <tr>\n",
              "      <th>4</th>\n",
              "      <td>1</td>\n",
              "      <td>13.5</td>\n",
              "      <td>5.9</td>\n",
              "      <td>0</td>\n",
              "      <td>0</td>\n",
              "      <td>0</td>\n",
              "      <td>0</td>\n",
              "      <td>Female</td>\n",
              "    </tr>\n",
              "    <tr>\n",
              "      <th>...</th>\n",
              "      <td>...</td>\n",
              "      <td>...</td>\n",
              "      <td>...</td>\n",
              "      <td>...</td>\n",
              "      <td>...</td>\n",
              "      <td>...</td>\n",
              "      <td>...</td>\n",
              "      <td>...</td>\n",
              "    </tr>\n",
              "    <tr>\n",
              "      <th>4996</th>\n",
              "      <td>1</td>\n",
              "      <td>13.6</td>\n",
              "      <td>5.1</td>\n",
              "      <td>0</td>\n",
              "      <td>0</td>\n",
              "      <td>0</td>\n",
              "      <td>0</td>\n",
              "      <td>Female</td>\n",
              "    </tr>\n",
              "    <tr>\n",
              "      <th>4997</th>\n",
              "      <td>1</td>\n",
              "      <td>11.9</td>\n",
              "      <td>5.4</td>\n",
              "      <td>0</td>\n",
              "      <td>0</td>\n",
              "      <td>0</td>\n",
              "      <td>0</td>\n",
              "      <td>Female</td>\n",
              "    </tr>\n",
              "    <tr>\n",
              "      <th>4998</th>\n",
              "      <td>1</td>\n",
              "      <td>12.9</td>\n",
              "      <td>5.7</td>\n",
              "      <td>0</td>\n",
              "      <td>0</td>\n",
              "      <td>0</td>\n",
              "      <td>0</td>\n",
              "      <td>Female</td>\n",
              "    </tr>\n",
              "    <tr>\n",
              "      <th>4999</th>\n",
              "      <td>1</td>\n",
              "      <td>13.2</td>\n",
              "      <td>6.2</td>\n",
              "      <td>0</td>\n",
              "      <td>0</td>\n",
              "      <td>0</td>\n",
              "      <td>0</td>\n",
              "      <td>Female</td>\n",
              "    </tr>\n",
              "    <tr>\n",
              "      <th>5000</th>\n",
              "      <td>1</td>\n",
              "      <td>15.4</td>\n",
              "      <td>5.4</td>\n",
              "      <td>1</td>\n",
              "      <td>1</td>\n",
              "      <td>1</td>\n",
              "      <td>1</td>\n",
              "      <td>Male</td>\n",
              "    </tr>\n",
              "  </tbody>\n",
              "</table>\n",
              "<p>5001 rows × 8 columns</p>\n",
              "</div>\n",
              "      <button class=\"colab-df-convert\" onclick=\"convertToInteractive('df-c42746af-b4bc-4a66-b9c5-8ccd89da6580')\"\n",
              "              title=\"Convert this dataframe to an interactive table.\"\n",
              "              style=\"display:none;\">\n",
              "        \n",
              "  <svg xmlns=\"http://www.w3.org/2000/svg\" height=\"24px\"viewBox=\"0 0 24 24\"\n",
              "       width=\"24px\">\n",
              "    <path d=\"M0 0h24v24H0V0z\" fill=\"none\"/>\n",
              "    <path d=\"M18.56 5.44l.94 2.06.94-2.06 2.06-.94-2.06-.94-.94-2.06-.94 2.06-2.06.94zm-11 1L8.5 8.5l.94-2.06 2.06-.94-2.06-.94L8.5 2.5l-.94 2.06-2.06.94zm10 10l.94 2.06.94-2.06 2.06-.94-2.06-.94-.94-2.06-.94 2.06-2.06.94z\"/><path d=\"M17.41 7.96l-1.37-1.37c-.4-.4-.92-.59-1.43-.59-.52 0-1.04.2-1.43.59L10.3 9.45l-7.72 7.72c-.78.78-.78 2.05 0 2.83L4 21.41c.39.39.9.59 1.41.59.51 0 1.02-.2 1.41-.59l7.78-7.78 2.81-2.81c.8-.78.8-2.07 0-2.86zM5.41 20L4 18.59l7.72-7.72 1.47 1.35L5.41 20z\"/>\n",
              "  </svg>\n",
              "      </button>\n",
              "      \n",
              "  <style>\n",
              "    .colab-df-container {\n",
              "      display:flex;\n",
              "      flex-wrap:wrap;\n",
              "      gap: 12px;\n",
              "    }\n",
              "\n",
              "    .colab-df-convert {\n",
              "      background-color: #E8F0FE;\n",
              "      border: none;\n",
              "      border-radius: 50%;\n",
              "      cursor: pointer;\n",
              "      display: none;\n",
              "      fill: #1967D2;\n",
              "      height: 32px;\n",
              "      padding: 0 0 0 0;\n",
              "      width: 32px;\n",
              "    }\n",
              "\n",
              "    .colab-df-convert:hover {\n",
              "      background-color: #E2EBFA;\n",
              "      box-shadow: 0px 1px 2px rgba(60, 64, 67, 0.3), 0px 1px 3px 1px rgba(60, 64, 67, 0.15);\n",
              "      fill: #174EA6;\n",
              "    }\n",
              "\n",
              "    [theme=dark] .colab-df-convert {\n",
              "      background-color: #3B4455;\n",
              "      fill: #D2E3FC;\n",
              "    }\n",
              "\n",
              "    [theme=dark] .colab-df-convert:hover {\n",
              "      background-color: #434B5C;\n",
              "      box-shadow: 0px 1px 3px 1px rgba(0, 0, 0, 0.15);\n",
              "      filter: drop-shadow(0px 1px 2px rgba(0, 0, 0, 0.3));\n",
              "      fill: #FFFFFF;\n",
              "    }\n",
              "  </style>\n",
              "\n",
              "      <script>\n",
              "        const buttonEl =\n",
              "          document.querySelector('#df-c42746af-b4bc-4a66-b9c5-8ccd89da6580 button.colab-df-convert');\n",
              "        buttonEl.style.display =\n",
              "          google.colab.kernel.accessAllowed ? 'block' : 'none';\n",
              "\n",
              "        async function convertToInteractive(key) {\n",
              "          const element = document.querySelector('#df-c42746af-b4bc-4a66-b9c5-8ccd89da6580');\n",
              "          const dataTable =\n",
              "            await google.colab.kernel.invokeFunction('convertToInteractive',\n",
              "                                                     [key], {});\n",
              "          if (!dataTable) return;\n",
              "\n",
              "          const docLinkHtml = 'Like what you see? Visit the ' +\n",
              "            '<a target=\"_blank\" href=https://colab.research.google.com/notebooks/data_table.ipynb>data table notebook</a>'\n",
              "            + ' to learn more about interactive tables.';\n",
              "          element.innerHTML = '';\n",
              "          dataTable['output_type'] = 'display_data';\n",
              "          await google.colab.output.renderOutput(dataTable, element);\n",
              "          const docLink = document.createElement('div');\n",
              "          docLink.innerHTML = docLinkHtml;\n",
              "          element.appendChild(docLink);\n",
              "        }\n",
              "      </script>\n",
              "    </div>\n",
              "  </div>\n",
              "  "
            ]
          },
          "metadata": {},
          "execution_count": 2
        }
      ],
      "source": [
        "data=pd.read_excel(\"gender_classification_v7.xlsx\",header=0)\n",
        "data"
      ]
    },
    {
      "cell_type": "markdown",
      "metadata": {
        "id": "SmUmBtQlEjUH"
      },
      "source": [
        "# DATA CLEANING"
      ]
    },
    {
      "cell_type": "code",
      "execution_count": 3,
      "metadata": {
        "colab": {
          "base_uri": "https://localhost:8080/"
        },
        "id": "ten553uroLA8",
        "outputId": "20169fa7-01ec-4855-b0bb-24b4a6f6a2d2"
      },
      "outputs": [
        {
          "output_type": "execute_result",
          "data": {
            "text/plain": [
              "long_hair                    0\n",
              "forehead_width_cm            0\n",
              "forehead_height_cm           0\n",
              "nose_wide                    0\n",
              "nose_long                    0\n",
              "lips_thin                    0\n",
              "distance_nose_to_lip_long    0\n",
              "gender                       0\n",
              "dtype: int64"
            ]
          },
          "metadata": {},
          "execution_count": 3
        }
      ],
      "source": [
        "data.isna().sum()  #to check null vales"
      ]
    },
    {
      "cell_type": "code",
      "execution_count": 4,
      "metadata": {
        "colab": {
          "base_uri": "https://localhost:8080/"
        },
        "id": "K7VldJqFEjUK",
        "outputId": "129414a5-b498-4eae-ec3e-199b06a37edc"
      },
      "outputs": [
        {
          "output_type": "execute_result",
          "data": {
            "text/plain": [
              "(5001, 8)"
            ]
          },
          "metadata": {},
          "execution_count": 4
        }
      ],
      "source": [
        "data.shape  #gives us the number of rows and columns"
      ]
    },
    {
      "cell_type": "code",
      "execution_count": 5,
      "metadata": {
        "colab": {
          "base_uri": "https://localhost:8080/"
        },
        "id": "qaQ0EUxmoXe5",
        "outputId": "3973e9af-b75a-46cd-97f5-ec2254ae2c93"
      },
      "outputs": [
        {
          "output_type": "stream",
          "name": "stdout",
          "text": [
            "[1 0]\n",
            "[11.8 14.  14.4 13.5 13.  15.3 11.9 12.1 12.5 15.5 14.7 14.5 14.2 15.2\n",
            " 14.6 12.8 12.9 12.2 12.3 12.7 14.1 11.5 13.8 13.7 12.  11.4 15.4 13.3\n",
            " 13.2 14.3 13.9 11.7 15.1 15.  12.4 11.6 12.6 14.8 13.1 13.4 13.6 14.9]\n",
            "[6.1 5.4 6.3 5.9 6.8 6.2 5.2 5.8 6.7 6.5 6.  5.6 7.  6.4 5.3 5.7 5.1 5.5\n",
            " 7.1 6.6 6.9]\n",
            "[1 0]\n",
            "[0 1]\n",
            "[1 0]\n",
            "[1 0]\n",
            "['Male' 'Female']\n"
          ]
        }
      ],
      "source": [
        "for i in range(data.shape[1]):\n",
        "    print(data.iloc[:,i].unique())      #gives the unique values in each column"
      ]
    },
    {
      "cell_type": "code",
      "execution_count": 6,
      "metadata": {
        "colab": {
          "base_uri": "https://localhost:8080/"
        },
        "id": "2F3jGbnMof6D",
        "outputId": "8ae87e9b-8e23-4546-dd88-435fc9daefe3"
      },
      "outputs": [
        {
          "output_type": "stream",
          "name": "stdout",
          "text": [
            "1    4349\n",
            "0     652\n",
            "Name: long_hair, dtype: int64\n",
            "12.0    168\n",
            "11.8    161\n",
            "14.1    155\n",
            "14.0    154\n",
            "11.5    154\n",
            "11.6    152\n",
            "11.9    150\n",
            "13.3    149\n",
            "14.2    149\n",
            "12.2    145\n",
            "12.6    145\n",
            "12.1    145\n",
            "13.2    143\n",
            "14.3    143\n",
            "12.9    141\n",
            "12.5    141\n",
            "13.7    140\n",
            "12.8    138\n",
            "12.3    138\n",
            "13.6    138\n",
            "13.0    137\n",
            "13.4    137\n",
            "13.5    136\n",
            "13.8    134\n",
            "11.7    133\n",
            "13.1    131\n",
            "13.9    131\n",
            "12.7    130\n",
            "12.4    127\n",
            "11.4     84\n",
            "14.9     79\n",
            "14.5     72\n",
            "15.2     71\n",
            "15.5     66\n",
            "15.1     65\n",
            "15.4     64\n",
            "15.3     64\n",
            "14.4     63\n",
            "14.6     61\n",
            "15.0     60\n",
            "14.7     59\n",
            "14.8     48\n",
            "Name: forehead_width_cm, dtype: int64\n",
            "5.7    306\n",
            "5.9    303\n",
            "5.3    301\n",
            "5.5    299\n",
            "6.1    296\n",
            "5.1    293\n",
            "6.2    290\n",
            "5.8    290\n",
            "6.4    287\n",
            "6.3    285\n",
            "6.5    285\n",
            "5.6    279\n",
            "6.0    275\n",
            "5.4    265\n",
            "5.2    259\n",
            "6.6    126\n",
            "6.8    118\n",
            "7.0    117\n",
            "7.1    113\n",
            "6.9    109\n",
            "6.7    105\n",
            "Name: forehead_height_cm, dtype: int64\n",
            "0    2531\n",
            "1    2470\n",
            "Name: nose_wide, dtype: int64\n",
            "1    2540\n",
            "0    2461\n",
            "Name: nose_long, dtype: int64\n",
            "0    2535\n",
            "1    2466\n",
            "Name: lips_thin, dtype: int64\n",
            "0    2506\n",
            "1    2495\n",
            "Name: distance_nose_to_lip_long, dtype: int64\n",
            "Female    2501\n",
            "Male      2500\n",
            "Name: gender, dtype: int64\n"
          ]
        }
      ],
      "source": [
        "for i in range(data.shape[1]):\n",
        "    print(data.iloc[:,i].value_counts())     #gives the count of unique values in each column"
      ]
    },
    {
      "cell_type": "code",
      "execution_count": 7,
      "metadata": {
        "colab": {
          "base_uri": "https://localhost:8080/",
          "height": 206
        },
        "id": "pY1vcHBtEjUO",
        "outputId": "17aa4654-dd2e-42f3-d43a-7758767d00d6"
      },
      "outputs": [
        {
          "output_type": "execute_result",
          "data": {
            "text/plain": [
              "   long_hair  forehead_width_cm  forehead_height_cm  nose_wide  nose_long  \\\n",
              "0          1               11.8                 6.1          1          0   \n",
              "1          0               14.0                 5.4          0          0   \n",
              "2          0               11.8                 6.3          1          1   \n",
              "3          0               14.4                 6.1          0          1   \n",
              "4          1               13.5                 5.9          0          0   \n",
              "\n",
              "   lips_thin  distance_nose_to_lip_long  gender  \n",
              "0          1                          1    Male  \n",
              "1          1                          0  Female  \n",
              "2          1                          1    Male  \n",
              "3          1                          1    Male  \n",
              "4          0                          0  Female  "
            ],
            "text/html": [
              "\n",
              "  <div id=\"df-6ff6b429-ccad-47c4-8b30-deaae00d4b1c\">\n",
              "    <div class=\"colab-df-container\">\n",
              "      <div>\n",
              "<style scoped>\n",
              "    .dataframe tbody tr th:only-of-type {\n",
              "        vertical-align: middle;\n",
              "    }\n",
              "\n",
              "    .dataframe tbody tr th {\n",
              "        vertical-align: top;\n",
              "    }\n",
              "\n",
              "    .dataframe thead th {\n",
              "        text-align: right;\n",
              "    }\n",
              "</style>\n",
              "<table border=\"1\" class=\"dataframe\">\n",
              "  <thead>\n",
              "    <tr style=\"text-align: right;\">\n",
              "      <th></th>\n",
              "      <th>long_hair</th>\n",
              "      <th>forehead_width_cm</th>\n",
              "      <th>forehead_height_cm</th>\n",
              "      <th>nose_wide</th>\n",
              "      <th>nose_long</th>\n",
              "      <th>lips_thin</th>\n",
              "      <th>distance_nose_to_lip_long</th>\n",
              "      <th>gender</th>\n",
              "    </tr>\n",
              "  </thead>\n",
              "  <tbody>\n",
              "    <tr>\n",
              "      <th>0</th>\n",
              "      <td>1</td>\n",
              "      <td>11.8</td>\n",
              "      <td>6.1</td>\n",
              "      <td>1</td>\n",
              "      <td>0</td>\n",
              "      <td>1</td>\n",
              "      <td>1</td>\n",
              "      <td>Male</td>\n",
              "    </tr>\n",
              "    <tr>\n",
              "      <th>1</th>\n",
              "      <td>0</td>\n",
              "      <td>14.0</td>\n",
              "      <td>5.4</td>\n",
              "      <td>0</td>\n",
              "      <td>0</td>\n",
              "      <td>1</td>\n",
              "      <td>0</td>\n",
              "      <td>Female</td>\n",
              "    </tr>\n",
              "    <tr>\n",
              "      <th>2</th>\n",
              "      <td>0</td>\n",
              "      <td>11.8</td>\n",
              "      <td>6.3</td>\n",
              "      <td>1</td>\n",
              "      <td>1</td>\n",
              "      <td>1</td>\n",
              "      <td>1</td>\n",
              "      <td>Male</td>\n",
              "    </tr>\n",
              "    <tr>\n",
              "      <th>3</th>\n",
              "      <td>0</td>\n",
              "      <td>14.4</td>\n",
              "      <td>6.1</td>\n",
              "      <td>0</td>\n",
              "      <td>1</td>\n",
              "      <td>1</td>\n",
              "      <td>1</td>\n",
              "      <td>Male</td>\n",
              "    </tr>\n",
              "    <tr>\n",
              "      <th>4</th>\n",
              "      <td>1</td>\n",
              "      <td>13.5</td>\n",
              "      <td>5.9</td>\n",
              "      <td>0</td>\n",
              "      <td>0</td>\n",
              "      <td>0</td>\n",
              "      <td>0</td>\n",
              "      <td>Female</td>\n",
              "    </tr>\n",
              "  </tbody>\n",
              "</table>\n",
              "</div>\n",
              "      <button class=\"colab-df-convert\" onclick=\"convertToInteractive('df-6ff6b429-ccad-47c4-8b30-deaae00d4b1c')\"\n",
              "              title=\"Convert this dataframe to an interactive table.\"\n",
              "              style=\"display:none;\">\n",
              "        \n",
              "  <svg xmlns=\"http://www.w3.org/2000/svg\" height=\"24px\"viewBox=\"0 0 24 24\"\n",
              "       width=\"24px\">\n",
              "    <path d=\"M0 0h24v24H0V0z\" fill=\"none\"/>\n",
              "    <path d=\"M18.56 5.44l.94 2.06.94-2.06 2.06-.94-2.06-.94-.94-2.06-.94 2.06-2.06.94zm-11 1L8.5 8.5l.94-2.06 2.06-.94-2.06-.94L8.5 2.5l-.94 2.06-2.06.94zm10 10l.94 2.06.94-2.06 2.06-.94-2.06-.94-.94-2.06-.94 2.06-2.06.94z\"/><path d=\"M17.41 7.96l-1.37-1.37c-.4-.4-.92-.59-1.43-.59-.52 0-1.04.2-1.43.59L10.3 9.45l-7.72 7.72c-.78.78-.78 2.05 0 2.83L4 21.41c.39.39.9.59 1.41.59.51 0 1.02-.2 1.41-.59l7.78-7.78 2.81-2.81c.8-.78.8-2.07 0-2.86zM5.41 20L4 18.59l7.72-7.72 1.47 1.35L5.41 20z\"/>\n",
              "  </svg>\n",
              "      </button>\n",
              "      \n",
              "  <style>\n",
              "    .colab-df-container {\n",
              "      display:flex;\n",
              "      flex-wrap:wrap;\n",
              "      gap: 12px;\n",
              "    }\n",
              "\n",
              "    .colab-df-convert {\n",
              "      background-color: #E8F0FE;\n",
              "      border: none;\n",
              "      border-radius: 50%;\n",
              "      cursor: pointer;\n",
              "      display: none;\n",
              "      fill: #1967D2;\n",
              "      height: 32px;\n",
              "      padding: 0 0 0 0;\n",
              "      width: 32px;\n",
              "    }\n",
              "\n",
              "    .colab-df-convert:hover {\n",
              "      background-color: #E2EBFA;\n",
              "      box-shadow: 0px 1px 2px rgba(60, 64, 67, 0.3), 0px 1px 3px 1px rgba(60, 64, 67, 0.15);\n",
              "      fill: #174EA6;\n",
              "    }\n",
              "\n",
              "    [theme=dark] .colab-df-convert {\n",
              "      background-color: #3B4455;\n",
              "      fill: #D2E3FC;\n",
              "    }\n",
              "\n",
              "    [theme=dark] .colab-df-convert:hover {\n",
              "      background-color: #434B5C;\n",
              "      box-shadow: 0px 1px 3px 1px rgba(0, 0, 0, 0.15);\n",
              "      filter: drop-shadow(0px 1px 2px rgba(0, 0, 0, 0.3));\n",
              "      fill: #FFFFFF;\n",
              "    }\n",
              "  </style>\n",
              "\n",
              "      <script>\n",
              "        const buttonEl =\n",
              "          document.querySelector('#df-6ff6b429-ccad-47c4-8b30-deaae00d4b1c button.colab-df-convert');\n",
              "        buttonEl.style.display =\n",
              "          google.colab.kernel.accessAllowed ? 'block' : 'none';\n",
              "\n",
              "        async function convertToInteractive(key) {\n",
              "          const element = document.querySelector('#df-6ff6b429-ccad-47c4-8b30-deaae00d4b1c');\n",
              "          const dataTable =\n",
              "            await google.colab.kernel.invokeFunction('convertToInteractive',\n",
              "                                                     [key], {});\n",
              "          if (!dataTable) return;\n",
              "\n",
              "          const docLinkHtml = 'Like what you see? Visit the ' +\n",
              "            '<a target=\"_blank\" href=https://colab.research.google.com/notebooks/data_table.ipynb>data table notebook</a>'\n",
              "            + ' to learn more about interactive tables.';\n",
              "          element.innerHTML = '';\n",
              "          dataTable['output_type'] = 'display_data';\n",
              "          await google.colab.output.renderOutput(dataTable, element);\n",
              "          const docLink = document.createElement('div');\n",
              "          docLink.innerHTML = docLinkHtml;\n",
              "          element.appendChild(docLink);\n",
              "        }\n",
              "      </script>\n",
              "    </div>\n",
              "  </div>\n",
              "  "
            ]
          },
          "metadata": {},
          "execution_count": 7
        }
      ],
      "source": [
        "data.head()"
      ]
    },
    {
      "cell_type": "code",
      "execution_count": 8,
      "metadata": {
        "colab": {
          "base_uri": "https://localhost:8080/",
          "height": 373
        },
        "id": "fW-BGNTGEjUO",
        "outputId": "86cb4738-43b2-4704-b3ec-35ae72d9c85f"
      },
      "outputs": [
        {
          "output_type": "stream",
          "name": "stderr",
          "text": [
            "/usr/local/lib/python3.7/dist-packages/seaborn/_decorators.py:43: FutureWarning: Pass the following variable as a keyword arg: x. From version 0.12, the only valid positional argument will be `data`, and passing other arguments without an explicit keyword will result in an error or misinterpretation.\n",
            "  FutureWarning\n"
          ]
        },
        {
          "output_type": "execute_result",
          "data": {
            "text/plain": [
              "<matplotlib.axes._subplots.AxesSubplot at 0x7fdef9513890>"
            ]
          },
          "metadata": {},
          "execution_count": 8
        },
        {
          "output_type": "display_data",
          "data": {
            "text/plain": [
              "<Figure size 432x288 with 1 Axes>"
            ],
            "image/png": "[encoded data removed]"
          },
          "metadata": {}
        }
      ],
      "source": [
        "sns.boxplot(data['forehead_width_cm'])   #for checking outliers"
      ]
    },
    {
      "cell_type": "code",
      "execution_count": 9,
      "metadata": {
        "colab": {
          "base_uri": "https://localhost:8080/",
          "height": 316
        },
        "id": "rKhORWFWEjUP",
        "outputId": "f66e18fb-3564-4f47-e405-d0ab9e0bc9ea"
      },
      "outputs": [
        {
          "output_type": "execute_result",
          "data": {
            "text/plain": [
              "<matplotlib.axes._subplots.AxesSubplot at 0x7fdef9608650>"
            ]
          },
          "metadata": {},
          "execution_count": 9
        },
        {
          "output_type": "display_data",
          "data": {
            "text/plain": [
              "<Figure size 432x288 with 1 Axes>"
            ],
            "image/png": "[encoded data removed]"
          },
          "metadata": {}
        }
      ],
      "source": [
        "sns.kdeplot(data['forehead_height_cm'])    #for checking outliers"
      ]
    },
    {
      "cell_type": "markdown",
      "metadata": {
        "id": "IU1i1pGoEjUQ"
      },
      "source": [
        "# EDA"
      ]
    },
    {
      "cell_type": "code",
      "execution_count": 10,
      "metadata": {
        "colab": {
          "base_uri": "https://localhost:8080/",
          "height": 266
        },
        "id": "kq6AUebhP_IT",
        "outputId": "88ea4fce-9385-4f14-b2b8-50c45b9f8600"
      },
      "outputs": [
        {
          "output_type": "execute_result",
          "data": {
            "text/plain": [
              "<function matplotlib.pyplot.show(*args, **kw)>"
            ]
          },
          "metadata": {},
          "execution_count": 10
        },
        {
          "output_type": "display_data",
          "data": {
            "text/plain": [
              "<Figure size 432x288 with 1 Axes>"
            ],
            "image/png": "[encoded data removed]"
          },
          "metadata": {}
        }
      ],
      "source": [
        "y = data.groupby(\"gender\")[\"gender\"].count()\n",
        "y\n",
        "\n",
        "plt.pie(y, labels=y.index, autopct=\"%.2f%%\")\n",
        "plt.show"
      ]
    },
    {
      "cell_type": "code",
      "execution_count": 11,
      "metadata": {
        "colab": {
          "base_uri": "https://localhost:8080/"
        },
        "id": "VUgapHAXEjUR",
        "outputId": "b00bcf0b-afc5-4a10-d91e-fce983682c72"
      },
      "outputs": [
        {
          "output_type": "execute_result",
          "data": {
            "text/plain": [
              "gender\n",
              "Female    12.8\n",
              "Male      13.6\n",
              "Name: forehead_width_cm, dtype: float64"
            ]
          },
          "metadata": {},
          "execution_count": 11
        }
      ],
      "source": [
        "c = data.groupby('gender')['forehead_width_cm'].median()\n",
        "c"
      ]
    },
    {
      "cell_type": "code",
      "execution_count": 12,
      "metadata": {
        "colab": {
          "base_uri": "https://localhost:8080/",
          "height": 316
        },
        "id": "sOaH8VXjEjUS",
        "outputId": "7f9aaac4-9027-4093-cfb0-9d3031e98ba9"
      },
      "outputs": [
        {
          "output_type": "execute_result",
          "data": {
            "text/plain": [
              "<matplotlib.axes._subplots.AxesSubplot at 0x7fdef9080510>"
            ]
          },
          "metadata": {},
          "execution_count": 12
        },
        {
          "output_type": "display_data",
          "data": {
            "text/plain": [
              "<Figure size 432x288 with 1 Axes>"
            ],
            "image/png": "[encoded data removed]"
          },
          "metadata": {}
        }
      ],
      "source": [
        "sns.barplot(y=c.values,x=c.index)      "
      ]
    },
    {
      "cell_type": "code",
      "execution_count": 13,
      "metadata": {
        "colab": {
          "base_uri": "https://localhost:8080/"
        },
        "id": "a4d_dCtbEjUT",
        "outputId": "93feabe8-24e0-4426-ecd9-4b55773e7e58"
      },
      "outputs": [
        {
          "output_type": "execute_result",
          "data": {
            "text/plain": [
              "gender\n",
              "Female    5.8\n",
              "Male      6.1\n",
              "Name: forehead_height_cm, dtype: float64"
            ]
          },
          "metadata": {},
          "execution_count": 13
        }
      ],
      "source": [
        "d = data.groupby('gender')['forehead_height_cm'].median()\n",
        "d"
      ]
    },
    {
      "cell_type": "code",
      "execution_count": 14,
      "metadata": {
        "colab": {
          "base_uri": "https://localhost:8080/",
          "height": 316
        },
        "id": "X2Usy7E5EjUT",
        "outputId": "e2eabd05-e10e-42b2-d877-e5d218ff6ab2"
      },
      "outputs": [
        {
          "output_type": "execute_result",
          "data": {
            "text/plain": [
              "<matplotlib.axes._subplots.AxesSubplot at 0x7fdef8fd7750>"
            ]
          },
          "metadata": {},
          "execution_count": 14
        },
        {
          "output_type": "display_data",
          "data": {
            "text/plain": [
              "<Figure size 432x288 with 1 Axes>"
            ],
            "image/png": "[encoded data removed]"
          },
          "metadata": {}
        }
      ],
      "source": [
        "sns.barplot(y=d.values,x=d.index)"
      ]
    },
    {
      "cell_type": "markdown",
      "metadata": {
        "id": "Nr9LOBitEjUU"
      },
      "source": [
        "we observe that there is not much difference between the average height and width of forehead between male and female"
      ]
    },
    {
      "cell_type": "code",
      "execution_count": 15,
      "metadata": {
        "colab": {
          "base_uri": "https://localhost:8080/",
          "height": 206
        },
        "id": "OzgA3zFDEjUU",
        "outputId": "afc09b02-1461-435f-a118-3a7124ae4436"
      },
      "outputs": [
        {
          "output_type": "execute_result",
          "data": {
            "text/plain": [
              "   long_hair  forehead_width_cm  forehead_height_cm  nose_wide  nose_long  \\\n",
              "0          1               11.8                 6.1          1          0   \n",
              "1          0               14.0                 5.4          0          0   \n",
              "2          0               11.8                 6.3          1          1   \n",
              "3          0               14.4                 6.1          0          1   \n",
              "4          1               13.5                 5.9          0          0   \n",
              "\n",
              "   lips_thin  distance_nose_to_lip_long  gender  \n",
              "0          1                          1    Male  \n",
              "1          1                          0  Female  \n",
              "2          1                          1    Male  \n",
              "3          1                          1    Male  \n",
              "4          0                          0  Female  "
            ],
            "text/html": [
              "\n",
              "  <div id=\"df-65e15045-d762-4a56-b53b-d6250f1b7316\">\n",
              "    <div class=\"colab-df-container\">\n",
              "      <div>\n",
              "<style scoped>\n",
              "    .dataframe tbody tr th:only-of-type {\n",
              "        vertical-align: middle;\n",
              "    }\n",
              "\n",
              "    .dataframe tbody tr th {\n",
              "        vertical-align: top;\n",
              "    }\n",
              "\n",
              "    .dataframe thead th {\n",
              "        text-align: right;\n",
              "    }\n",
              "</style>\n",
              "<table border=\"1\" class=\"dataframe\">\n",
              "  <thead>\n",
              "    <tr style=\"text-align: right;\">\n",
              "      <th></th>\n",
              "      <th>long_hair</th>\n",
              "      <th>forehead_width_cm</th>\n",
              "      <th>forehead_height_cm</th>\n",
              "      <th>nose_wide</th>\n",
              "      <th>nose_long</th>\n",
              "      <th>lips_thin</th>\n",
              "      <th>distance_nose_to_lip_long</th>\n",
              "      <th>gender</th>\n",
              "    </tr>\n",
              "  </thead>\n",
              "  <tbody>\n",
              "    <tr>\n",
              "      <th>0</th>\n",
              "      <td>1</td>\n",
              "      <td>11.8</td>\n",
              "      <td>6.1</td>\n",
              "      <td>1</td>\n",
              "      <td>0</td>\n",
              "      <td>1</td>\n",
              "      <td>1</td>\n",
              "      <td>Male</td>\n",
              "    </tr>\n",
              "    <tr>\n",
              "      <th>1</th>\n",
              "      <td>0</td>\n",
              "      <td>14.0</td>\n",
              "      <td>5.4</td>\n",
              "      <td>0</td>\n",
              "      <td>0</td>\n",
              "      <td>1</td>\n",
              "      <td>0</td>\n",
              "      <td>Female</td>\n",
              "    </tr>\n",
              "    <tr>\n",
              "      <th>2</th>\n",
              "      <td>0</td>\n",
              "      <td>11.8</td>\n",
              "      <td>6.3</td>\n",
              "      <td>1</td>\n",
              "      <td>1</td>\n",
              "      <td>1</td>\n",
              "      <td>1</td>\n",
              "      <td>Male</td>\n",
              "    </tr>\n",
              "    <tr>\n",
              "      <th>3</th>\n",
              "      <td>0</td>\n",
              "      <td>14.4</td>\n",
              "      <td>6.1</td>\n",
              "      <td>0</td>\n",
              "      <td>1</td>\n",
              "      <td>1</td>\n",
              "      <td>1</td>\n",
              "      <td>Male</td>\n",
              "    </tr>\n",
              "    <tr>\n",
              "      <th>4</th>\n",
              "      <td>1</td>\n",
              "      <td>13.5</td>\n",
              "      <td>5.9</td>\n",
              "      <td>0</td>\n",
              "      <td>0</td>\n",
              "      <td>0</td>\n",
              "      <td>0</td>\n",
              "      <td>Female</td>\n",
              "    </tr>\n",
              "  </tbody>\n",
              "</table>\n",
              "</div>\n",
              "      <button class=\"colab-df-convert\" onclick=\"convertToInteractive('df-65e15045-d762-4a56-b53b-d6250f1b7316')\"\n",
              "              title=\"Convert this dataframe to an interactive table.\"\n",
              "              style=\"display:none;\">\n",
              "        \n",
              "  <svg xmlns=\"http://www.w3.org/2000/svg\" height=\"24px\"viewBox=\"0 0 24 24\"\n",
              "       width=\"24px\">\n",
              "    <path d=\"M0 0h24v24H0V0z\" fill=\"none\"/>\n",
              "    <path d=\"M18.56 5.44l.94 2.06.94-2.06 2.06-.94-2.06-.94-.94-2.06-.94 2.06-2.06.94zm-11 1L8.5 8.5l.94-2.06 2.06-.94-2.06-.94L8.5 2.5l-.94 2.06-2.06.94zm10 10l.94 2.06.94-2.06 2.06-.94-2.06-.94-.94-2.06-.94 2.06-2.06.94z\"/><path d=\"M17.41 7.96l-1.37-1.37c-.4-.4-.92-.59-1.43-.59-.52 0-1.04.2-1.43.59L10.3 9.45l-7.72 7.72c-.78.78-.78 2.05 0 2.83L4 21.41c.39.39.9.59 1.41.59.51 0 1.02-.2 1.41-.59l7.78-7.78 2.81-2.81c.8-.78.8-2.07 0-2.86zM5.41 20L4 18.59l7.72-7.72 1.47 1.35L5.41 20z\"/>\n",
              "  </svg>\n",
              "      </button>\n",
              "      \n",
              "  <style>\n",
              "    .colab-df-container {\n",
              "      display:flex;\n",
              "      flex-wrap:wrap;\n",
              "      gap: 12px;\n",
              "    }\n",
              "\n",
              "    .colab-df-convert {\n",
              "      background-color: #E8F0FE;\n",
              "      border: none;\n",
              "      border-radius: 50%;\n",
              "      cursor: pointer;\n",
              "      display: none;\n",
              "      fill: #1967D2;\n",
              "      height: 32px;\n",
              "      padding: 0 0 0 0;\n",
              "      width: 32px;\n",
              "    }\n",
              "\n",
              "    .colab-df-convert:hover {\n",
              "      background-color: #E2EBFA;\n",
              "      box-shadow: 0px 1px 2px rgba(60, 64, 67, 0.3), 0px 1px 3px 1px rgba(60, 64, 67, 0.15);\n",
              "      fill: #174EA6;\n",
              "    }\n",
              "\n",
              "    [theme=dark] .colab-df-convert {\n",
              "      background-color: #3B4455;\n",
              "      fill: #D2E3FC;\n",
              "    }\n",
              "\n",
              "    [theme=dark] .colab-df-convert:hover {\n",
              "      background-color: #434B5C;\n",
              "      box-shadow: 0px 1px 3px 1px rgba(0, 0, 0, 0.15);\n",
              "      filter: drop-shadow(0px 1px 2px rgba(0, 0, 0, 0.3));\n",
              "      fill: #FFFFFF;\n",
              "    }\n",
              "  </style>\n",
              "\n",
              "      <script>\n",
              "        const buttonEl =\n",
              "          document.querySelector('#df-65e15045-d762-4a56-b53b-d6250f1b7316 button.colab-df-convert');\n",
              "        buttonEl.style.display =\n",
              "          google.colab.kernel.accessAllowed ? 'block' : 'none';\n",
              "\n",
              "        async function convertToInteractive(key) {\n",
              "          const element = document.querySelector('#df-65e15045-d762-4a56-b53b-d6250f1b7316');\n",
              "          const dataTable =\n",
              "            await google.colab.kernel.invokeFunction('convertToInteractive',\n",
              "                                                     [key], {});\n",
              "          if (!dataTable) return;\n",
              "\n",
              "          const docLinkHtml = 'Like what you see? Visit the ' +\n",
              "            '<a target=\"_blank\" href=https://colab.research.google.com/notebooks/data_table.ipynb>data table notebook</a>'\n",
              "            + ' to learn more about interactive tables.';\n",
              "          element.innerHTML = '';\n",
              "          dataTable['output_type'] = 'display_data';\n",
              "          await google.colab.output.renderOutput(dataTable, element);\n",
              "          const docLink = document.createElement('div');\n",
              "          docLink.innerHTML = docLinkHtml;\n",
              "          element.appendChild(docLink);\n",
              "        }\n",
              "      </script>\n",
              "    </div>\n",
              "  </div>\n",
              "  "
            ]
          },
          "metadata": {},
          "execution_count": 15
        }
      ],
      "source": [
        "data.head()"
      ]
    },
    {
      "cell_type": "code",
      "execution_count": 16,
      "metadata": {
        "colab": {
          "base_uri": "https://localhost:8080/"
        },
        "id": "W6Ysoyd6EjUV",
        "outputId": "a34f506c-982a-41b1-de52-5ea28c293a04"
      },
      "outputs": [
        {
          "output_type": "execute_result",
          "data": {
            "text/plain": [
              "gender\n",
              "Female    2184\n",
              "Male      2165\n",
              "Name: long_hair, dtype: int64"
            ]
          },
          "metadata": {},
          "execution_count": 16
        }
      ],
      "source": [
        "e = data.groupby('gender')['long_hair'].sum()\n",
        "e"
      ]
    },
    {
      "cell_type": "code",
      "execution_count": 17,
      "metadata": {
        "colab": {
          "base_uri": "https://localhost:8080/",
          "height": 316
        },
        "id": "91X6OgVbEjUW",
        "outputId": "326b1e7c-956e-4d58-bd2d-9dffb202b34e"
      },
      "outputs": [
        {
          "output_type": "execute_result",
          "data": {
            "text/plain": [
              "<matplotlib.axes._subplots.AxesSubplot at 0x7fdef8f47590>"
            ]
          },
          "metadata": {},
          "execution_count": 17
        },
        {
          "output_type": "display_data",
          "data": {
            "text/plain": [
              "<Figure size 432x288 with 1 Axes>"
            ],
            "image/png": "[encoded data removed]"
          },
          "metadata": {}
        }
      ],
      "source": [
        "sns.barplot(y=e.values,x=e.index)"
      ]
    },
    {
      "cell_type": "markdown",
      "metadata": {
        "id": "y_ucNA8_EjUX"
      },
      "source": [
        "we observe that there is not much difference between lengths of the hair between male and female according to the data"
      ]
    },
    {
      "cell_type": "code",
      "execution_count": 18,
      "metadata": {
        "colab": {
          "base_uri": "https://localhost:8080/"
        },
        "id": "tnfA3uSXEjUY",
        "outputId": "bcd7e758-8538-4a91-99e5-0bd0e50942d0"
      },
      "outputs": [
        {
          "output_type": "execute_result",
          "data": {
            "text/plain": [
              "gender\n",
              "Female     287\n",
              "Male      2183\n",
              "Name: nose_wide, dtype: int64"
            ]
          },
          "metadata": {},
          "execution_count": 18
        }
      ],
      "source": [
        "f = data.groupby('gender')['nose_wide'].sum()\n",
        "f "
      ]
    },
    {
      "cell_type": "code",
      "execution_count": 19,
      "metadata": {
        "colab": {
          "base_uri": "https://localhost:8080/",
          "height": 316
        },
        "id": "8PwNBqnwEjUY",
        "outputId": "039730fb-67f7-4134-f69f-c16a293d2105"
      },
      "outputs": [
        {
          "output_type": "execute_result",
          "data": {
            "text/plain": [
              "<matplotlib.axes._subplots.AxesSubplot at 0x7fdef8f0b750>"
            ]
          },
          "metadata": {},
          "execution_count": 19
        },
        {
          "output_type": "display_data",
          "data": {
            "text/plain": [
              "<Figure size 432x288 with 1 Axes>"
            ],
            "image/png": "[encoded data removed]"
          },
          "metadata": {}
        }
      ],
      "source": [
        "sns.barplot(y=f.values,x=f.index)         "
      ]
    },
    {
      "cell_type": "markdown",
      "metadata": {
        "id": "PHcb_q90EjUZ"
      },
      "source": [
        "we observe that majority of the males have a wider nose"
      ]
    },
    {
      "cell_type": "code",
      "execution_count": 20,
      "metadata": {
        "colab": {
          "base_uri": "https://localhost:8080/"
        },
        "id": "VLp0oq5oEjUa",
        "outputId": "7a8233b7-3740-41f4-ba4d-8926a0077065"
      },
      "outputs": [
        {
          "output_type": "execute_result",
          "data": {
            "text/plain": [
              "gender\n",
              "Female     340\n",
              "Male      2200\n",
              "Name: nose_long, dtype: int64"
            ]
          },
          "metadata": {},
          "execution_count": 20
        }
      ],
      "source": [
        "g = data.groupby('gender')['nose_long'].sum()\n",
        "g"
      ]
    },
    {
      "cell_type": "code",
      "execution_count": 21,
      "metadata": {
        "colab": {
          "base_uri": "https://localhost:8080/",
          "height": 316
        },
        "id": "GylcFjB2EjUa",
        "outputId": "1f1c98e7-eeee-4eb8-9535-03597f7f72c7"
      },
      "outputs": [
        {
          "output_type": "execute_result",
          "data": {
            "text/plain": [
              "<matplotlib.axes._subplots.AxesSubplot at 0x7fdef8decc50>"
            ]
          },
          "metadata": {},
          "execution_count": 21
        },
        {
          "output_type": "display_data",
          "data": {
            "text/plain": [
              "<Figure size 432x288 with 1 Axes>"
            ],
            "image/png": "[encoded data removed]"
          },
          "metadata": {}
        }
      ],
      "source": [
        "sns.barplot(y=g.values,x=g.index) "
      ]
    },
    {
      "cell_type": "markdown",
      "metadata": {
        "id": "VrCE5OLQEjUc"
      },
      "source": [
        "we observe that majority of the males also have longer nose"
      ]
    },
    {
      "cell_type": "code",
      "execution_count": 22,
      "metadata": {
        "colab": {
          "base_uri": "https://localhost:8080/"
        },
        "id": "dbOnQzSqEjUc",
        "outputId": "278c853d-7113-43ca-a427-40cd353eee7a"
      },
      "outputs": [
        {
          "output_type": "execute_result",
          "data": {
            "text/plain": [
              "gender\n",
              "Female     304\n",
              "Male      2162\n",
              "Name: lips_thin, dtype: int64"
            ]
          },
          "metadata": {},
          "execution_count": 22
        }
      ],
      "source": [
        "h = data.groupby('gender')['lips_thin'].sum()\n",
        "h"
      ]
    },
    {
      "cell_type": "code",
      "execution_count": 23,
      "metadata": {
        "colab": {
          "base_uri": "https://localhost:8080/",
          "height": 316
        },
        "id": "KldQ9MuXEjUd",
        "outputId": "19eb1554-de35-426a-9ebf-b1f5f8201e56"
      },
      "outputs": [
        {
          "output_type": "execute_result",
          "data": {
            "text/plain": [
              "<matplotlib.axes._subplots.AxesSubplot at 0x7fdef8dc01d0>"
            ]
          },
          "metadata": {},
          "execution_count": 23
        },
        {
          "output_type": "display_data",
          "data": {
            "text/plain": [
              "<Figure size 432x288 with 1 Axes>"
            ],
            "image/png": "[encoded data removed]"
          },
          "metadata": {}
        }
      ],
      "source": [
        "sns.barplot(y=h.values,x=h.index)"
      ]
    },
    {
      "cell_type": "markdown",
      "metadata": {
        "id": "0gtELv2oEjUd"
      },
      "source": [
        "we observe that majority of the males have thinner lips"
      ]
    },
    {
      "cell_type": "code",
      "execution_count": 24,
      "metadata": {
        "colab": {
          "base_uri": "https://localhost:8080/"
        },
        "id": "don_BndBEjUe",
        "outputId": "eb19d2e5-6dce-431c-f316-f7b900d37fd1"
      },
      "outputs": [
        {
          "output_type": "execute_result",
          "data": {
            "text/plain": [
              "gender\n",
              "Female     304\n",
              "Male      2191\n",
              "Name: distance_nose_to_lip_long, dtype: int64"
            ]
          },
          "metadata": {},
          "execution_count": 24
        }
      ],
      "source": [
        "i = data.groupby('gender')['distance_nose_to_lip_long'].sum()\n",
        "i"
      ]
    },
    {
      "cell_type": "code",
      "execution_count": 25,
      "metadata": {
        "colab": {
          "base_uri": "https://localhost:8080/",
          "height": 316
        },
        "id": "ozp3zlQjEjUe",
        "outputId": "5e7e6681-ae58-42d5-e26a-d56deecffc55"
      },
      "outputs": [
        {
          "output_type": "execute_result",
          "data": {
            "text/plain": [
              "<matplotlib.axes._subplots.AxesSubplot at 0x7fdef8d16350>"
            ]
          },
          "metadata": {},
          "execution_count": 25
        },
        {
          "output_type": "display_data",
          "data": {
            "text/plain": [
              "<Figure size 432x288 with 1 Axes>"
            ],
            "image/png": "[encoded data removed]"
          },
          "metadata": {}
        }
      ],
      "source": [
        "sns.barplot(y=i.values,x=i.index)"
      ]
    },
    {
      "cell_type": "markdown",
      "metadata": {
        "id": "i7rke0KBEjUf"
      },
      "source": [
        "even here we observe that majority of males have a long distance between nose and lip"
      ]
    },
    {
      "cell_type": "code",
      "execution_count": 26,
      "metadata": {
        "colab": {
          "base_uri": "https://localhost:8080/",
          "height": 206
        },
        "id": "P06Cc8z8EjUf",
        "outputId": "03cefdb8-0749-423f-e402-0e8dbbfc534a"
      },
      "outputs": [
        {
          "output_type": "execute_result",
          "data": {
            "text/plain": [
              "   long_hair  forehead_width_cm  forehead_height_cm  nose_wide  nose_long  \\\n",
              "0          1               11.8                 6.1          1          0   \n",
              "1          0               14.0                 5.4          0          0   \n",
              "2          0               11.8                 6.3          1          1   \n",
              "3          0               14.4                 6.1          0          1   \n",
              "4          1               13.5                 5.9          0          0   \n",
              "\n",
              "   lips_thin  distance_nose_to_lip_long  gender  \n",
              "0          1                          1    Male  \n",
              "1          1                          0  Female  \n",
              "2          1                          1    Male  \n",
              "3          1                          1    Male  \n",
              "4          0                          0  Female  "
            ],
            "text/html": [
              "\n",
              "  <div id=\"df-3aa7152e-dc88-4c41-930e-7bef3046e9d8\">\n",
              "    <div class=\"colab-df-container\">\n",
              "      <div>\n",
              "<style scoped>\n",
              "    .dataframe tbody tr th:only-of-type {\n",
              "        vertical-align: middle;\n",
              "    }\n",
              "\n",
              "    .dataframe tbody tr th {\n",
              "        vertical-align: top;\n",
              "    }\n",
              "\n",
              "    .dataframe thead th {\n",
              "        text-align: right;\n",
              "    }\n",
              "</style>\n",
              "<table border=\"1\" class=\"dataframe\">\n",
              "  <thead>\n",
              "    <tr style=\"text-align: right;\">\n",
              "      <th></th>\n",
              "      <th>long_hair</th>\n",
              "      <th>forehead_width_cm</th>\n",
              "      <th>forehead_height_cm</th>\n",
              "      <th>nose_wide</th>\n",
              "      <th>nose_long</th>\n",
              "      <th>lips_thin</th>\n",
              "      <th>distance_nose_to_lip_long</th>\n",
              "      <th>gender</th>\n",
              "    </tr>\n",
              "  </thead>\n",
              "  <tbody>\n",
              "    <tr>\n",
              "      <th>0</th>\n",
              "      <td>1</td>\n",
              "      <td>11.8</td>\n",
              "      <td>6.1</td>\n",
              "      <td>1</td>\n",
              "      <td>0</td>\n",
              "      <td>1</td>\n",
              "      <td>1</td>\n",
              "      <td>Male</td>\n",
              "    </tr>\n",
              "    <tr>\n",
              "      <th>1</th>\n",
              "      <td>0</td>\n",
              "      <td>14.0</td>\n",
              "      <td>5.4</td>\n",
              "      <td>0</td>\n",
              "      <td>0</td>\n",
              "      <td>1</td>\n",
              "      <td>0</td>\n",
              "      <td>Female</td>\n",
              "    </tr>\n",
              "    <tr>\n",
              "      <th>2</th>\n",
              "      <td>0</td>\n",
              "      <td>11.8</td>\n",
              "      <td>6.3</td>\n",
              "      <td>1</td>\n",
              "      <td>1</td>\n",
              "      <td>1</td>\n",
              "      <td>1</td>\n",
              "      <td>Male</td>\n",
              "    </tr>\n",
              "    <tr>\n",
              "      <th>3</th>\n",
              "      <td>0</td>\n",
              "      <td>14.4</td>\n",
              "      <td>6.1</td>\n",
              "      <td>0</td>\n",
              "      <td>1</td>\n",
              "      <td>1</td>\n",
              "      <td>1</td>\n",
              "      <td>Male</td>\n",
              "    </tr>\n",
              "    <tr>\n",
              "      <th>4</th>\n",
              "      <td>1</td>\n",
              "      <td>13.5</td>\n",
              "      <td>5.9</td>\n",
              "      <td>0</td>\n",
              "      <td>0</td>\n",
              "      <td>0</td>\n",
              "      <td>0</td>\n",
              "      <td>Female</td>\n",
              "    </tr>\n",
              "  </tbody>\n",
              "</table>\n",
              "</div>\n",
              "      <button class=\"colab-df-convert\" onclick=\"convertToInteractive('df-3aa7152e-dc88-4c41-930e-7bef3046e9d8')\"\n",
              "              title=\"Convert this dataframe to an interactive table.\"\n",
              "              style=\"display:none;\">\n",
              "        \n",
              "  <svg xmlns=\"http://www.w3.org/2000/svg\" height=\"24px\"viewBox=\"0 0 24 24\"\n",
              "       width=\"24px\">\n",
              "    <path d=\"M0 0h24v24H0V0z\" fill=\"none\"/>\n",
              "    <path d=\"M18.56 5.44l.94 2.06.94-2.06 2.06-.94-2.06-.94-.94-2.06-.94 2.06-2.06.94zm-11 1L8.5 8.5l.94-2.06 2.06-.94-2.06-.94L8.5 2.5l-.94 2.06-2.06.94zm10 10l.94 2.06.94-2.06 2.06-.94-2.06-.94-.94-2.06-.94 2.06-2.06.94z\"/><path d=\"M17.41 7.96l-1.37-1.37c-.4-.4-.92-.59-1.43-.59-.52 0-1.04.2-1.43.59L10.3 9.45l-7.72 7.72c-.78.78-.78 2.05 0 2.83L4 21.41c.39.39.9.59 1.41.59.51 0 1.02-.2 1.41-.59l7.78-7.78 2.81-2.81c.8-.78.8-2.07 0-2.86zM5.41 20L4 18.59l7.72-7.72 1.47 1.35L5.41 20z\"/>\n",
              "  </svg>\n",
              "      </button>\n",
              "      \n",
              "  <style>\n",
              "    .colab-df-container {\n",
              "      display:flex;\n",
              "      flex-wrap:wrap;\n",
              "      gap: 12px;\n",
              "    }\n",
              "\n",
              "    .colab-df-convert {\n",
              "      background-color: #E8F0FE;\n",
              "      border: none;\n",
              "      border-radius: 50%;\n",
              "      cursor: pointer;\n",
              "      display: none;\n",
              "      fill: #1967D2;\n",
              "      height: 32px;\n",
              "      padding: 0 0 0 0;\n",
              "      width: 32px;\n",
              "    }\n",
              "\n",
              "    .colab-df-convert:hover {\n",
              "      background-color: #E2EBFA;\n",
              "      box-shadow: 0px 1px 2px rgba(60, 64, 67, 0.3), 0px 1px 3px 1px rgba(60, 64, 67, 0.15);\n",
              "      fill: #174EA6;\n",
              "    }\n",
              "\n",
              "    [theme=dark] .colab-df-convert {\n",
              "      background-color: #3B4455;\n",
              "      fill: #D2E3FC;\n",
              "    }\n",
              "\n",
              "    [theme=dark] .colab-df-convert:hover {\n",
              "      background-color: #434B5C;\n",
              "      box-shadow: 0px 1px 3px 1px rgba(0, 0, 0, 0.15);\n",
              "      filter: drop-shadow(0px 1px 2px rgba(0, 0, 0, 0.3));\n",
              "      fill: #FFFFFF;\n",
              "    }\n",
              "  </style>\n",
              "\n",
              "      <script>\n",
              "        const buttonEl =\n",
              "          document.querySelector('#df-3aa7152e-dc88-4c41-930e-7bef3046e9d8 button.colab-df-convert');\n",
              "        buttonEl.style.display =\n",
              "          google.colab.kernel.accessAllowed ? 'block' : 'none';\n",
              "\n",
              "        async function convertToInteractive(key) {\n",
              "          const element = document.querySelector('#df-3aa7152e-dc88-4c41-930e-7bef3046e9d8');\n",
              "          const dataTable =\n",
              "            await google.colab.kernel.invokeFunction('convertToInteractive',\n",
              "                                                     [key], {});\n",
              "          if (!dataTable) return;\n",
              "\n",
              "          const docLinkHtml = 'Like what you see? Visit the ' +\n",
              "            '<a target=\"_blank\" href=https://colab.research.google.com/notebooks/data_table.ipynb>data table notebook</a>'\n",
              "            + ' to learn more about interactive tables.';\n",
              "          element.innerHTML = '';\n",
              "          dataTable['output_type'] = 'display_data';\n",
              "          await google.colab.output.renderOutput(dataTable, element);\n",
              "          const docLink = document.createElement('div');\n",
              "          docLink.innerHTML = docLinkHtml;\n",
              "          element.appendChild(docLink);\n",
              "        }\n",
              "      </script>\n",
              "    </div>\n",
              "  </div>\n",
              "  "
            ]
          },
          "metadata": {},
          "execution_count": 26
        }
      ],
      "source": [
        "data.head()"
      ]
    },
    {
      "cell_type": "code",
      "execution_count": 27,
      "metadata": {
        "id": "rV-bgc--X1Aq"
      },
      "outputs": [],
      "source": [
        "data[\"gender\"] = data[\"gender\"].replace({'Male': 0, 'Female': 1})"
      ]
    },
    {
      "cell_type": "markdown",
      "metadata": {
        "id": "lTN1zw5SEjUi"
      },
      "source": [
        "# Predictive analysis"
      ]
    },
    {
      "cell_type": "code",
      "execution_count": 28,
      "metadata": {
        "colab": {
          "base_uri": "https://localhost:8080/"
        },
        "id": "KbczsJBdEjUi",
        "outputId": "5ed9904f-2105-4047-c5fd-18d633e76ba3"
      },
      "outputs": [
        {
          "output_type": "execute_result",
          "data": {
            "text/plain": [
              "(   long_hair  forehead_width_cm  forehead_height_cm  nose_wide  nose_long  \\\n",
              " 0          1               11.8                 6.1          1          0   \n",
              " 1          0               14.0                 5.4          0          0   \n",
              " 2          0               11.8                 6.3          1          1   \n",
              " 3          0               14.4                 6.1          0          1   \n",
              " 4          1               13.5                 5.9          0          0   \n",
              " \n",
              "    lips_thin  distance_nose_to_lip_long  gender  \n",
              " 0          1                          1       0  \n",
              " 1          1                          0       1  \n",
              " 2          1                          1       0  \n",
              " 3          1                          1       0  \n",
              " 4          0                          0       1  ,\n",
              " 'forehead_width_cm',\n",
              " 'forehead_height_cm',\n",
              " 'long_hair')"
            ]
          },
          "metadata": {},
          "execution_count": 28
        }
      ],
      "source": [
        "data.head() ,\"forehead_width_cm\",\"forehead_height_cm\",\"long_hair\""
      ]
    },
    {
      "cell_type": "code",
      "execution_count": 29,
      "metadata": {
        "id": "8yBVD7PQEjUj"
      },
      "outputs": [],
      "source": [
        "from sklearn.model_selection import train_test_split"
      ]
    },
    {
      "cell_type": "code",
      "execution_count": 30,
      "metadata": {
        "id": "wD1ciIi1EjUj"
      },
      "outputs": [],
      "source": [
        "X = data.drop(\"gender\",axis=1)\n",
        "y = data[\"gender\"]"
      ]
    },
    {
      "cell_type": "code",
      "execution_count": 61,
      "metadata": {
        "id": "mcY7M5ctHZSM"
      },
      "outputs": [],
      "source": [
        "X_train, X_test, y_train, y_test= train_test_split(X, y, test_size=0.3, random_state=55)"
      ]
    },
    {
      "cell_type": "code",
      "execution_count": 32,
      "metadata": {
        "colab": {
          "base_uri": "https://localhost:8080/"
        },
        "id": "6HUaisOIEjUk",
        "outputId": "8669923f-1834-4ac0-fba4-141beb8398ce"
      },
      "outputs": [
        {
          "output_type": "execute_result",
          "data": {
            "text/plain": [
              "LogisticRegression(C=1000000000.0)"
            ]
          },
          "metadata": {},
          "execution_count": 32
        }
      ],
      "source": [
        "from sklearn.linear_model import LogisticRegression     #applying logistic regression\n",
        "\n",
        "logreg= LogisticRegression(C=1e9)\n",
        "logreg.fit(X_train,y_train)"
      ]
    },
    {
      "cell_type": "code",
      "execution_count": 33,
      "metadata": {
        "colab": {
          "base_uri": "https://localhost:8080/"
        },
        "id": "p_7XhN16EjUl",
        "outputId": "393a2ce0-172a-4fe8-9f98-4be82683651e"
      },
      "outputs": [
        {
          "output_type": "execute_result",
          "data": {
            "text/plain": [
              "array([0, 1, 1, ..., 0, 0, 0])"
            ]
          },
          "metadata": {},
          "execution_count": 33
        }
      ],
      "source": [
        "y_pred = logreg.predict(X_test)\n",
        "y_pred"
      ]
    },
    {
      "cell_type": "markdown",
      "metadata": {
        "id": "5gSHTogKEjUm"
      },
      "source": [
        "## Evaluating model"
      ]
    },
    {
      "cell_type": "code",
      "execution_count": 34,
      "metadata": {
        "colab": {
          "base_uri": "https://localhost:8080/"
        },
        "id": "UOvrwvuFEjUn",
        "outputId": "b83142a1-ac85-429a-d5b1-b28b94d4fa37"
      },
      "outputs": [
        {
          "output_type": "execute_result",
          "data": {
            "text/plain": [
              "0.8614079385203257"
            ]
          },
          "metadata": {},
          "execution_count": 34
        }
      ],
      "source": [
        "from sklearn.metrics import r2_score\n",
        "r2_score(y_test,y_pred)"
      ]
    },
    {
      "cell_type": "code",
      "execution_count": 35,
      "metadata": {
        "colab": {
          "base_uri": "https://localhost:8080/"
        },
        "id": "zbLOX64cJbNZ",
        "outputId": "7713f70e-876f-47a7-9c30-fc437fb864fe"
      },
      "outputs": [
        {
          "output_type": "execute_result",
          "data": {
            "text/plain": [
              "0.9653564290473018"
            ]
          },
          "metadata": {},
          "execution_count": 35
        }
      ],
      "source": [
        "from sklearn.metrics import accuracy_score\n",
        "accuracy_score(y_test,y_pred)"
      ]
    },
    {
      "cell_type": "markdown",
      "metadata": {
        "id": "lN1bn6_7Jf0P"
      },
      "source": [
        "The accuracy of the model is 97%"
      ]
    },
    {
      "cell_type": "markdown",
      "metadata": {
        "id": "JY3JdhWTbr7F"
      },
      "source": [
        "#Confusion Matrix"
      ]
    },
    {
      "cell_type": "code",
      "execution_count": 36,
      "metadata": {
        "colab": {
          "base_uri": "https://localhost:8080/"
        },
        "id": "CzxxS_32WBtg",
        "outputId": "adff0ccc-4a3c-4878-a334-c27f87db417c"
      },
      "outputs": [
        {
          "output_type": "execute_result",
          "data": {
            "text/plain": [
              "array([[738,  21],\n",
              "       [ 31, 711]])"
            ]
          },
          "metadata": {},
          "execution_count": 36
        }
      ],
      "source": [
        "from sklearn.metrics import confusion_matrix\n",
        "cm = confusion_matrix(y_test,y_pred)\n",
        "cm"
      ]
    },
    {
      "cell_type": "markdown",
      "metadata": {
        "id": "H4HliRneF3RL"
      },
      "source": [
        "#Neural Network"
      ]
    },
    {
      "cell_type": "code",
      "execution_count": 62,
      "metadata": {
        "id": "YCv63L6hGLP-"
      },
      "outputs": [],
      "source": [
        "import tensorflow as tf\n",
        "tf.random.set_seed(55)\n",
        "model= tf.keras.Sequential([\n",
        "                            tf.keras.layers.Dense(5, activation='relu'),\n",
        "                            tf.keras.layers.Dense(2, activation='relu'),\n",
        "                            tf.keras.layers.Dense(1, activation='sigmoid')\n",
        "])"
      ]
    },
    {
      "cell_type": "code",
      "execution_count": 63,
      "metadata": {
        "colab": {
          "base_uri": "https://localhost:8080/"
        },
        "id": "-fNerpiYJJjm",
        "outputId": "4777f379-0601-40df-a75b-6f66798e4ab2"
      },
      "outputs": [
        {
          "output_type": "stream",
          "name": "stderr",
          "text": [
            "/usr/local/lib/python3.7/dist-packages/keras/optimizer_v2/adam.py:105: UserWarning: The `lr` argument is deprecated, use `learning_rate` instead.\n",
            "  super(Adam, self).__init__(name, **kwargs)\n"
          ]
        }
      ],
      "source": [
        "model.compile(loss= tf.keras.losses.binary_crossentropy,\n",
        "              optimizer= tf.keras.optimizers.Adam(lr=0.01),\n",
        "              metrics= [tf.keras.metrics.BinaryAccuracy(name='accuracy'),\n",
        "                        tf.keras.metrics.Precision(name='precision'),\n",
        "                        tf.keras.metrics.Recall(name='a=recall')\n",
        "              ]\n",
        "              )"
      ]
    },
    {
      "cell_type": "code",
      "execution_count": 64,
      "metadata": {
        "colab": {
          "base_uri": "https://localhost:8080/"
        },
        "id": "YqLSTDKQJNIo",
        "outputId": "66d0843e-e1d9-4443-9d54-57b01cc29f78"
      },
      "outputs": [
        {
          "output_type": "stream",
          "name": "stdout",
          "text": [
            "Epoch 1/500\n",
            "110/110 [==============================] - 1s 2ms/step - loss: 0.6205 - accuracy: 0.7983 - precision: 0.9377 - a=recall: 0.6413\n",
            "Epoch 2/500\n",
            "110/110 [==============================] - 0s 2ms/step - loss: 0.2663 - accuracy: 0.9509 - precision: 0.9818 - a=recall: 0.9193\n",
            "Epoch 3/500\n",
            "110/110 [==============================] - 0s 2ms/step - loss: 0.1636 - accuracy: 0.9580 - precision: 0.9775 - a=recall: 0.9380\n",
            "Epoch 4/500\n",
            "110/110 [==============================] - 0s 2ms/step - loss: 0.1300 - accuracy: 0.9574 - precision: 0.9686 - a=recall: 0.9460\n",
            "Epoch 5/500\n",
            "110/110 [==============================] - 0s 2ms/step - loss: 0.1151 - accuracy: 0.9551 - precision: 0.9625 - a=recall: 0.9477\n",
            "Epoch 6/500\n",
            "110/110 [==============================] - 0s 2ms/step - loss: 0.1046 - accuracy: 0.9611 - precision: 0.9634 - a=recall: 0.9591\n",
            "Epoch 7/500\n",
            "110/110 [==============================] - 0s 2ms/step - loss: 0.1028 - accuracy: 0.9571 - precision: 0.9605 - a=recall: 0.9540\n",
            "Epoch 8/500\n",
            "110/110 [==============================] - 0s 2ms/step - loss: 0.0984 - accuracy: 0.9603 - precision: 0.9613 - a=recall: 0.9596\n",
            "Epoch 9/500\n",
            "110/110 [==============================] - 0s 2ms/step - loss: 0.0945 - accuracy: 0.9634 - precision: 0.9610 - a=recall: 0.9665\n",
            "Epoch 10/500\n",
            "110/110 [==============================] - 0s 2ms/step - loss: 0.0928 - accuracy: 0.9623 - precision: 0.9620 - a=recall: 0.9630\n",
            "Epoch 11/500\n",
            "110/110 [==============================] - 0s 2ms/step - loss: 0.0940 - accuracy: 0.9574 - precision: 0.9574 - a=recall: 0.9579\n",
            "Epoch 12/500\n",
            "110/110 [==============================] - 0s 2ms/step - loss: 0.0924 - accuracy: 0.9614 - precision: 0.9677 - a=recall: 0.9551\n",
            "Epoch 13/500\n",
            "110/110 [==============================] - 0s 2ms/step - loss: 0.0925 - accuracy: 0.9617 - precision: 0.9656 - a=recall: 0.9579\n",
            "Epoch 14/500\n",
            "110/110 [==============================] - 0s 2ms/step - loss: 0.0906 - accuracy: 0.9617 - precision: 0.9609 - a=recall: 0.9630\n",
            "Epoch 15/500\n",
            "110/110 [==============================] - 0s 2ms/step - loss: 0.0896 - accuracy: 0.9609 - precision: 0.9666 - a=recall: 0.9551\n",
            "Epoch 16/500\n",
            "110/110 [==============================] - 0s 2ms/step - loss: 0.0906 - accuracy: 0.9620 - precision: 0.9609 - a=recall: 0.9636\n",
            "Epoch 17/500\n",
            "110/110 [==============================] - 0s 2ms/step - loss: 0.0884 - accuracy: 0.9629 - precision: 0.9652 - a=recall: 0.9608\n",
            "Epoch 18/500\n",
            "110/110 [==============================] - 0s 2ms/step - loss: 0.0888 - accuracy: 0.9646 - precision: 0.9653 - a=recall: 0.9642\n",
            "Epoch 19/500\n",
            "110/110 [==============================] - 0s 2ms/step - loss: 0.0903 - accuracy: 0.9600 - precision: 0.9592 - a=recall: 0.9613\n",
            "Epoch 20/500\n",
            "110/110 [==============================] - 0s 2ms/step - loss: 0.0863 - accuracy: 0.9660 - precision: 0.9659 - a=recall: 0.9665\n",
            "Epoch 21/500\n",
            "110/110 [==============================] - 0s 2ms/step - loss: 0.0849 - accuracy: 0.9617 - precision: 0.9614 - a=recall: 0.9625\n",
            "Epoch 22/500\n",
            "110/110 [==============================] - 0s 2ms/step - loss: 0.0859 - accuracy: 0.9634 - precision: 0.9626 - a=recall: 0.9648\n",
            "Epoch 23/500\n",
            "110/110 [==============================] - 0s 2ms/step - loss: 0.0833 - accuracy: 0.9651 - precision: 0.9669 - a=recall: 0.9636\n",
            "Epoch 24/500\n",
            "110/110 [==============================] - 0s 2ms/step - loss: 0.0842 - accuracy: 0.9637 - precision: 0.9605 - a=recall: 0.9676\n",
            "Epoch 25/500\n",
            "110/110 [==============================] - 0s 2ms/step - loss: 0.0861 - accuracy: 0.9640 - precision: 0.9642 - a=recall: 0.9642\n",
            "Epoch 26/500\n",
            "110/110 [==============================] - 0s 2ms/step - loss: 0.0843 - accuracy: 0.9677 - precision: 0.9660 - a=recall: 0.9699\n",
            "Epoch 27/500\n",
            "110/110 [==============================] - 0s 2ms/step - loss: 0.0863 - accuracy: 0.9649 - precision: 0.9658 - a=recall: 0.9642\n",
            "Epoch 28/500\n",
            "110/110 [==============================] - 0s 2ms/step - loss: 0.0850 - accuracy: 0.9646 - precision: 0.9611 - a=recall: 0.9687\n",
            "Epoch 29/500\n",
            "110/110 [==============================] - 0s 2ms/step - loss: 0.0861 - accuracy: 0.9606 - precision: 0.9624 - a=recall: 0.9591\n",
            "Epoch 30/500\n",
            "110/110 [==============================] - 0s 2ms/step - loss: 0.0847 - accuracy: 0.9640 - precision: 0.9652 - a=recall: 0.9630\n",
            "Epoch 31/500\n",
            "110/110 [==============================] - 0s 2ms/step - loss: 0.0816 - accuracy: 0.9657 - precision: 0.9617 - a=recall: 0.9704\n",
            "Epoch 32/500\n",
            "110/110 [==============================] - 0s 2ms/step - loss: 0.0849 - accuracy: 0.9649 - precision: 0.9621 - a=recall: 0.9682\n",
            "Epoch 33/500\n",
            "110/110 [==============================] - 0s 2ms/step - loss: 0.0836 - accuracy: 0.9634 - precision: 0.9652 - a=recall: 0.9619\n",
            "Epoch 34/500\n",
            "110/110 [==============================] - 0s 2ms/step - loss: 0.0828 - accuracy: 0.9674 - precision: 0.9665 - a=recall: 0.9687\n",
            "Epoch 35/500\n",
            "110/110 [==============================] - 0s 2ms/step - loss: 0.0829 - accuracy: 0.9623 - precision: 0.9620 - a=recall: 0.9630\n",
            "Epoch 36/500\n",
            "110/110 [==============================] - 0s 2ms/step - loss: 0.0837 - accuracy: 0.9643 - precision: 0.9632 - a=recall: 0.9659\n",
            "Epoch 37/500\n",
            "110/110 [==============================] - 0s 2ms/step - loss: 0.0835 - accuracy: 0.9669 - precision: 0.9719 - a=recall: 0.9619\n",
            "Epoch 38/500\n",
            "110/110 [==============================] - 0s 2ms/step - loss: 0.0836 - accuracy: 0.9629 - precision: 0.9630 - a=recall: 0.9630\n",
            "Epoch 39/500\n",
            "110/110 [==============================] - 0s 2ms/step - loss: 0.0803 - accuracy: 0.9694 - precision: 0.9715 - a=recall: 0.9676\n",
            "Epoch 40/500\n",
            "110/110 [==============================] - 0s 2ms/step - loss: 0.0816 - accuracy: 0.9651 - precision: 0.9637 - a=recall: 0.9670\n",
            "Epoch 41/500\n",
            "110/110 [==============================] - 0s 2ms/step - loss: 0.0801 - accuracy: 0.9689 - precision: 0.9677 - a=recall: 0.9704\n",
            "Epoch 42/500\n",
            "110/110 [==============================] - 0s 2ms/step - loss: 0.0824 - accuracy: 0.9657 - precision: 0.9680 - a=recall: 0.9636\n",
            "Epoch 43/500\n",
            "110/110 [==============================] - 0s 2ms/step - loss: 0.0823 - accuracy: 0.9669 - precision: 0.9665 - a=recall: 0.9676\n",
            "Epoch 44/500\n",
            "110/110 [==============================] - 0s 2ms/step - loss: 0.0836 - accuracy: 0.9626 - precision: 0.9651 - a=recall: 0.9602\n",
            "Epoch 45/500\n",
            "110/110 [==============================] - 0s 2ms/step - loss: 0.0843 - accuracy: 0.9654 - precision: 0.9680 - a=recall: 0.9630\n",
            "Epoch 46/500\n",
            "110/110 [==============================] - 0s 2ms/step - loss: 0.0813 - accuracy: 0.9660 - precision: 0.9628 - a=recall: 0.9699\n",
            "Epoch 47/500\n",
            "110/110 [==============================] - 0s 2ms/step - loss: 0.0824 - accuracy: 0.9686 - precision: 0.9650 - a=recall: 0.9727\n",
            "Epoch 48/500\n",
            "110/110 [==============================] - 0s 2ms/step - loss: 0.0799 - accuracy: 0.9689 - precision: 0.9698 - a=recall: 0.9682\n",
            "Epoch 49/500\n",
            "110/110 [==============================] - 0s 2ms/step - loss: 0.0813 - accuracy: 0.9677 - precision: 0.9692 - a=recall: 0.9665\n",
            "Epoch 50/500\n",
            "110/110 [==============================] - 0s 2ms/step - loss: 0.0848 - accuracy: 0.9660 - precision: 0.9664 - a=recall: 0.9659\n",
            "Epoch 51/500\n",
            "110/110 [==============================] - 0s 2ms/step - loss: 0.0811 - accuracy: 0.9669 - precision: 0.9665 - a=recall: 0.9676\n",
            "Epoch 52/500\n",
            "110/110 [==============================] - 0s 2ms/step - loss: 0.0825 - accuracy: 0.9666 - precision: 0.9708 - a=recall: 0.9625\n",
            "Epoch 53/500\n",
            "110/110 [==============================] - 0s 2ms/step - loss: 0.0833 - accuracy: 0.9660 - precision: 0.9633 - a=recall: 0.9693\n",
            "Epoch 54/500\n",
            "110/110 [==============================] - 0s 2ms/step - loss: 0.0822 - accuracy: 0.9643 - precision: 0.9663 - a=recall: 0.9625\n",
            "Epoch 55/500\n",
            "110/110 [==============================] - 0s 2ms/step - loss: 0.0851 - accuracy: 0.9663 - precision: 0.9665 - a=recall: 0.9665\n",
            "Epoch 56/500\n",
            "110/110 [==============================] - 0s 2ms/step - loss: 0.0792 - accuracy: 0.9674 - precision: 0.9671 - a=recall: 0.9682\n",
            "Epoch 57/500\n",
            "110/110 [==============================] - 0s 2ms/step - loss: 0.0800 - accuracy: 0.9640 - precision: 0.9684 - a=recall: 0.9596\n",
            "Epoch 58/500\n",
            "110/110 [==============================] - 0s 2ms/step - loss: 0.0804 - accuracy: 0.9683 - precision: 0.9698 - a=recall: 0.9670\n",
            "Epoch 59/500\n",
            "110/110 [==============================] - 0s 2ms/step - loss: 0.0804 - accuracy: 0.9663 - precision: 0.9649 - a=recall: 0.9682\n",
            "Epoch 60/500\n",
            "110/110 [==============================] - 0s 2ms/step - loss: 0.0808 - accuracy: 0.9669 - precision: 0.9702 - a=recall: 0.9636\n",
            "Epoch 61/500\n",
            "110/110 [==============================] - 0s 2ms/step - loss: 0.0832 - accuracy: 0.9651 - precision: 0.9653 - a=recall: 0.9653\n",
            "Epoch 62/500\n",
            "110/110 [==============================] - 0s 2ms/step - loss: 0.0793 - accuracy: 0.9683 - precision: 0.9682 - a=recall: 0.9687\n",
            "Epoch 63/500\n",
            "110/110 [==============================] - 0s 2ms/step - loss: 0.0776 - accuracy: 0.9694 - precision: 0.9709 - a=recall: 0.9682\n",
            "Epoch 64/500\n",
            "110/110 [==============================] - 0s 2ms/step - loss: 0.0826 - accuracy: 0.9697 - precision: 0.9677 - a=recall: 0.9721\n",
            "Epoch 65/500\n",
            "110/110 [==============================] - 0s 2ms/step - loss: 0.0803 - accuracy: 0.9660 - precision: 0.9654 - a=recall: 0.9670\n",
            "Epoch 66/500\n",
            "110/110 [==============================] - 0s 2ms/step - loss: 0.0782 - accuracy: 0.9694 - precision: 0.9704 - a=recall: 0.9687\n",
            "Epoch 67/500\n",
            "110/110 [==============================] - 0s 2ms/step - loss: 0.0798 - accuracy: 0.9677 - precision: 0.9671 - a=recall: 0.9687\n",
            "Epoch 68/500\n",
            "110/110 [==============================] - 0s 2ms/step - loss: 0.0814 - accuracy: 0.9669 - precision: 0.9660 - a=recall: 0.9682\n",
            "Epoch 69/500\n",
            "110/110 [==============================] - 0s 2ms/step - loss: 0.0787 - accuracy: 0.9694 - precision: 0.9693 - a=recall: 0.9699\n",
            "Epoch 70/500\n",
            "110/110 [==============================] - 0s 2ms/step - loss: 0.0801 - accuracy: 0.9686 - precision: 0.9677 - a=recall: 0.9699\n",
            "Epoch 71/500\n",
            "110/110 [==============================] - 0s 2ms/step - loss: 0.0802 - accuracy: 0.9683 - precision: 0.9692 - a=recall: 0.9676\n",
            "Epoch 72/500\n",
            "110/110 [==============================] - 0s 2ms/step - loss: 0.0789 - accuracy: 0.9680 - precision: 0.9671 - a=recall: 0.9693\n",
            "Epoch 73/500\n",
            "110/110 [==============================] - 0s 2ms/step - loss: 0.0781 - accuracy: 0.9686 - precision: 0.9687 - a=recall: 0.9687\n",
            "Epoch 74/500\n",
            "110/110 [==============================] - 0s 2ms/step - loss: 0.0780 - accuracy: 0.9686 - precision: 0.9682 - a=recall: 0.9693\n",
            "Epoch 75/500\n",
            "110/110 [==============================] - 0s 2ms/step - loss: 0.0780 - accuracy: 0.9654 - precision: 0.9643 - a=recall: 0.9670\n",
            "Epoch 76/500\n",
            "110/110 [==============================] - 0s 2ms/step - loss: 0.0811 - accuracy: 0.9680 - precision: 0.9660 - a=recall: 0.9704\n",
            "Epoch 77/500\n",
            "110/110 [==============================] - 0s 2ms/step - loss: 0.0804 - accuracy: 0.9666 - precision: 0.9659 - a=recall: 0.9676\n",
            "Epoch 78/500\n",
            "110/110 [==============================] - 0s 2ms/step - loss: 0.0805 - accuracy: 0.9657 - precision: 0.9675 - a=recall: 0.9642\n",
            "Epoch 79/500\n",
            "110/110 [==============================] - 0s 2ms/step - loss: 0.0797 - accuracy: 0.9674 - precision: 0.9665 - a=recall: 0.9687\n",
            "Epoch 80/500\n",
            "110/110 [==============================] - 0s 2ms/step - loss: 0.0798 - accuracy: 0.9686 - precision: 0.9687 - a=recall: 0.9687\n",
            "Epoch 81/500\n",
            "110/110 [==============================] - 0s 2ms/step - loss: 0.0767 - accuracy: 0.9686 - precision: 0.9703 - a=recall: 0.9670\n",
            "Epoch 82/500\n",
            "110/110 [==============================] - 0s 2ms/step - loss: 0.0789 - accuracy: 0.9686 - precision: 0.9687 - a=recall: 0.9687\n",
            "Epoch 83/500\n",
            "110/110 [==============================] - 0s 2ms/step - loss: 0.0814 - accuracy: 0.9646 - precision: 0.9663 - a=recall: 0.9630\n",
            "Epoch 84/500\n",
            "110/110 [==============================] - 0s 2ms/step - loss: 0.0819 - accuracy: 0.9657 - precision: 0.9664 - a=recall: 0.9653\n",
            "Epoch 85/500\n",
            "110/110 [==============================] - 0s 2ms/step - loss: 0.0768 - accuracy: 0.9700 - precision: 0.9694 - a=recall: 0.9710\n",
            "Epoch 86/500\n",
            "110/110 [==============================] - 0s 2ms/step - loss: 0.0804 - accuracy: 0.9674 - precision: 0.9665 - a=recall: 0.9687\n",
            "Epoch 87/500\n",
            "110/110 [==============================] - 0s 2ms/step - loss: 0.0786 - accuracy: 0.9674 - precision: 0.9692 - a=recall: 0.9659\n",
            "Epoch 88/500\n",
            "110/110 [==============================] - 0s 2ms/step - loss: 0.0776 - accuracy: 0.9660 - precision: 0.9664 - a=recall: 0.9659\n",
            "Epoch 89/500\n",
            "110/110 [==============================] - 0s 2ms/step - loss: 0.0822 - accuracy: 0.9663 - precision: 0.9665 - a=recall: 0.9665\n",
            "Epoch 90/500\n",
            "110/110 [==============================] - 0s 2ms/step - loss: 0.0790 - accuracy: 0.9671 - precision: 0.9660 - a=recall: 0.9687\n",
            "Epoch 91/500\n",
            "110/110 [==============================] - 0s 2ms/step - loss: 0.0813 - accuracy: 0.9657 - precision: 0.9638 - a=recall: 0.9682\n",
            "Epoch 92/500\n",
            "110/110 [==============================] - 0s 2ms/step - loss: 0.0769 - accuracy: 0.9686 - precision: 0.9709 - a=recall: 0.9665\n",
            "Epoch 93/500\n",
            "110/110 [==============================] - 0s 2ms/step - loss: 0.0767 - accuracy: 0.9706 - precision: 0.9710 - a=recall: 0.9704\n",
            "Epoch 94/500\n",
            "110/110 [==============================] - 0s 2ms/step - loss: 0.0787 - accuracy: 0.9689 - precision: 0.9688 - a=recall: 0.9693\n",
            "Epoch 95/500\n",
            "110/110 [==============================] - 0s 2ms/step - loss: 0.0767 - accuracy: 0.9666 - precision: 0.9675 - a=recall: 0.9659\n",
            "Epoch 96/500\n",
            "110/110 [==============================] - 0s 2ms/step - loss: 0.0781 - accuracy: 0.9680 - precision: 0.9708 - a=recall: 0.9653\n",
            "Epoch 97/500\n",
            "110/110 [==============================] - 0s 2ms/step - loss: 0.0808 - accuracy: 0.9691 - precision: 0.9672 - a=recall: 0.9716\n",
            "Epoch 98/500\n",
            "110/110 [==============================] - 0s 2ms/step - loss: 0.0778 - accuracy: 0.9660 - precision: 0.9675 - a=recall: 0.9648\n",
            "Epoch 99/500\n",
            "110/110 [==============================] - 0s 2ms/step - loss: 0.0769 - accuracy: 0.9697 - precision: 0.9672 - a=recall: 0.9727\n",
            "Epoch 100/500\n",
            "110/110 [==============================] - 0s 2ms/step - loss: 0.0817 - accuracy: 0.9646 - precision: 0.9690 - a=recall: 0.9602\n",
            "Epoch 101/500\n",
            "110/110 [==============================] - 0s 2ms/step - loss: 0.0797 - accuracy: 0.9686 - precision: 0.9666 - a=recall: 0.9710\n",
            "Epoch 102/500\n",
            "110/110 [==============================] - 0s 2ms/step - loss: 0.0791 - accuracy: 0.9686 - precision: 0.9714 - a=recall: 0.9659\n",
            "Epoch 103/500\n",
            "110/110 [==============================] - 0s 2ms/step - loss: 0.0784 - accuracy: 0.9680 - precision: 0.9725 - a=recall: 0.9636\n",
            "Epoch 104/500\n",
            "110/110 [==============================] - 0s 2ms/step - loss: 0.0778 - accuracy: 0.9666 - precision: 0.9675 - a=recall: 0.9659\n",
            "Epoch 105/500\n",
            "110/110 [==============================] - 0s 2ms/step - loss: 0.0762 - accuracy: 0.9714 - precision: 0.9705 - a=recall: 0.9727\n",
            "Epoch 106/500\n",
            "110/110 [==============================] - 0s 2ms/step - loss: 0.0780 - accuracy: 0.9714 - precision: 0.9721 - a=recall: 0.9710\n",
            "Epoch 107/500\n",
            "110/110 [==============================] - 0s 2ms/step - loss: 0.0777 - accuracy: 0.9663 - precision: 0.9649 - a=recall: 0.9682\n",
            "Epoch 108/500\n",
            "110/110 [==============================] - 0s 2ms/step - loss: 0.0797 - accuracy: 0.9637 - precision: 0.9647 - a=recall: 0.9630\n",
            "Epoch 109/500\n",
            "110/110 [==============================] - 0s 2ms/step - loss: 0.0763 - accuracy: 0.9691 - precision: 0.9677 - a=recall: 0.9710\n",
            "Epoch 110/500\n",
            "110/110 [==============================] - 0s 2ms/step - loss: 0.0807 - accuracy: 0.9663 - precision: 0.9686 - a=recall: 0.9642\n",
            "Epoch 111/500\n",
            "110/110 [==============================] - 0s 2ms/step - loss: 0.0800 - accuracy: 0.9643 - precision: 0.9621 - a=recall: 0.9670\n",
            "Epoch 112/500\n",
            "110/110 [==============================] - 0s 2ms/step - loss: 0.0772 - accuracy: 0.9691 - precision: 0.9693 - a=recall: 0.9693\n",
            "Epoch 113/500\n",
            "110/110 [==============================] - 0s 2ms/step - loss: 0.0766 - accuracy: 0.9694 - precision: 0.9693 - a=recall: 0.9699\n",
            "Epoch 114/500\n",
            "110/110 [==============================] - 0s 2ms/step - loss: 0.0764 - accuracy: 0.9709 - precision: 0.9710 - a=recall: 0.9710\n",
            "Epoch 115/500\n",
            "110/110 [==============================] - 0s 2ms/step - loss: 0.0821 - accuracy: 0.9657 - precision: 0.9675 - a=recall: 0.9642\n",
            "Epoch 116/500\n",
            "110/110 [==============================] - 0s 2ms/step - loss: 0.0758 - accuracy: 0.9691 - precision: 0.9672 - a=recall: 0.9716\n",
            "Epoch 117/500\n",
            "110/110 [==============================] - 0s 2ms/step - loss: 0.0786 - accuracy: 0.9686 - precision: 0.9687 - a=recall: 0.9687\n",
            "Epoch 118/500\n",
            "110/110 [==============================] - 0s 2ms/step - loss: 0.0782 - accuracy: 0.9669 - precision: 0.9665 - a=recall: 0.9676\n",
            "Epoch 119/500\n",
            "110/110 [==============================] - 0s 2ms/step - loss: 0.0771 - accuracy: 0.9691 - precision: 0.9677 - a=recall: 0.9710\n",
            "Epoch 120/500\n",
            "110/110 [==============================] - 0s 2ms/step - loss: 0.0760 - accuracy: 0.9691 - precision: 0.9698 - a=recall: 0.9687\n",
            "Epoch 121/500\n",
            "110/110 [==============================] - 0s 2ms/step - loss: 0.0790 - accuracy: 0.9691 - precision: 0.9677 - a=recall: 0.9710\n",
            "Epoch 122/500\n",
            "110/110 [==============================] - 0s 2ms/step - loss: 0.0766 - accuracy: 0.9689 - precision: 0.9656 - a=recall: 0.9727\n",
            "Epoch 123/500\n",
            "110/110 [==============================] - 0s 2ms/step - loss: 0.0772 - accuracy: 0.9683 - precision: 0.9709 - a=recall: 0.9659\n",
            "Epoch 124/500\n",
            "110/110 [==============================] - 0s 2ms/step - loss: 0.0757 - accuracy: 0.9671 - precision: 0.9655 - a=recall: 0.9693\n",
            "Epoch 125/500\n",
            "110/110 [==============================] - 0s 2ms/step - loss: 0.0797 - accuracy: 0.9700 - precision: 0.9704 - a=recall: 0.9699\n",
            "Epoch 126/500\n",
            "110/110 [==============================] - 0s 2ms/step - loss: 0.0780 - accuracy: 0.9694 - precision: 0.9704 - a=recall: 0.9687\n",
            "Epoch 127/500\n",
            "110/110 [==============================] - 0s 2ms/step - loss: 0.0775 - accuracy: 0.9683 - precision: 0.9666 - a=recall: 0.9704\n",
            "Epoch 128/500\n",
            "110/110 [==============================] - 0s 2ms/step - loss: 0.0768 - accuracy: 0.9706 - precision: 0.9694 - a=recall: 0.9721\n",
            "Epoch 129/500\n",
            "110/110 [==============================] - 0s 2ms/step - loss: 0.0796 - accuracy: 0.9666 - precision: 0.9665 - a=recall: 0.9670\n",
            "Epoch 130/500\n",
            "110/110 [==============================] - 0s 2ms/step - loss: 0.0816 - accuracy: 0.9651 - precision: 0.9622 - a=recall: 0.9687\n",
            "Epoch 131/500\n",
            "110/110 [==============================] - 0s 2ms/step - loss: 0.0759 - accuracy: 0.9689 - precision: 0.9682 - a=recall: 0.9699\n",
            "Epoch 132/500\n",
            "110/110 [==============================] - 0s 2ms/step - loss: 0.0773 - accuracy: 0.9711 - precision: 0.9721 - a=recall: 0.9704\n",
            "Epoch 133/500\n",
            "110/110 [==============================] - 0s 2ms/step - loss: 0.0766 - accuracy: 0.9691 - precision: 0.9677 - a=recall: 0.9710\n",
            "Epoch 134/500\n",
            "110/110 [==============================] - 0s 2ms/step - loss: 0.0767 - accuracy: 0.9691 - precision: 0.9698 - a=recall: 0.9687\n",
            "Epoch 135/500\n",
            "110/110 [==============================] - 0s 2ms/step - loss: 0.0765 - accuracy: 0.9694 - precision: 0.9715 - a=recall: 0.9676\n",
            "Epoch 136/500\n",
            "110/110 [==============================] - 0s 2ms/step - loss: 0.0767 - accuracy: 0.9703 - precision: 0.9699 - a=recall: 0.9710\n",
            "Epoch 137/500\n",
            "110/110 [==============================] - 0s 2ms/step - loss: 0.0759 - accuracy: 0.9686 - precision: 0.9682 - a=recall: 0.9693\n",
            "Epoch 138/500\n",
            "110/110 [==============================] - 0s 2ms/step - loss: 0.0756 - accuracy: 0.9689 - precision: 0.9677 - a=recall: 0.9704\n",
            "Epoch 139/500\n",
            "110/110 [==============================] - 0s 2ms/step - loss: 0.0786 - accuracy: 0.9689 - precision: 0.9677 - a=recall: 0.9704\n",
            "Epoch 140/500\n",
            "110/110 [==============================] - 0s 2ms/step - loss: 0.0747 - accuracy: 0.9709 - precision: 0.9710 - a=recall: 0.9710\n",
            "Epoch 141/500\n",
            "110/110 [==============================] - 0s 2ms/step - loss: 0.0774 - accuracy: 0.9677 - precision: 0.9703 - a=recall: 0.9653\n",
            "Epoch 142/500\n",
            "110/110 [==============================] - 0s 2ms/step - loss: 0.0754 - accuracy: 0.9680 - precision: 0.9692 - a=recall: 0.9670\n",
            "Epoch 143/500\n",
            "110/110 [==============================] - 0s 2ms/step - loss: 0.0766 - accuracy: 0.9691 - precision: 0.9677 - a=recall: 0.9710\n",
            "Epoch 144/500\n",
            "110/110 [==============================] - 0s 2ms/step - loss: 0.0763 - accuracy: 0.9697 - precision: 0.9688 - a=recall: 0.9710\n",
            "Epoch 145/500\n",
            "110/110 [==============================] - 0s 2ms/step - loss: 0.0753 - accuracy: 0.9709 - precision: 0.9710 - a=recall: 0.9710\n",
            "Epoch 146/500\n",
            "110/110 [==============================] - 0s 2ms/step - loss: 0.0766 - accuracy: 0.9689 - precision: 0.9672 - a=recall: 0.9710\n",
            "Epoch 147/500\n",
            "110/110 [==============================] - 0s 2ms/step - loss: 0.0747 - accuracy: 0.9683 - precision: 0.9698 - a=recall: 0.9670\n",
            "Epoch 148/500\n",
            "110/110 [==============================] - 0s 2ms/step - loss: 0.0781 - accuracy: 0.9689 - precision: 0.9677 - a=recall: 0.9704\n",
            "Epoch 149/500\n",
            "110/110 [==============================] - 0s 2ms/step - loss: 0.0778 - accuracy: 0.9700 - precision: 0.9699 - a=recall: 0.9704\n",
            "Epoch 150/500\n",
            "110/110 [==============================] - 0s 2ms/step - loss: 0.0790 - accuracy: 0.9703 - precision: 0.9699 - a=recall: 0.9710\n",
            "Epoch 151/500\n",
            "110/110 [==============================] - 0s 2ms/step - loss: 0.0808 - accuracy: 0.9671 - precision: 0.9660 - a=recall: 0.9687\n",
            "Epoch 152/500\n",
            "110/110 [==============================] - 0s 2ms/step - loss: 0.0768 - accuracy: 0.9694 - precision: 0.9699 - a=recall: 0.9693\n",
            "Epoch 153/500\n",
            "110/110 [==============================] - 0s 2ms/step - loss: 0.0779 - accuracy: 0.9694 - precision: 0.9667 - a=recall: 0.9727\n",
            "Epoch 154/500\n",
            "110/110 [==============================] - 0s 2ms/step - loss: 0.0789 - accuracy: 0.9697 - precision: 0.9662 - a=recall: 0.9738\n",
            "Epoch 155/500\n",
            "110/110 [==============================] - 0s 2ms/step - loss: 0.0800 - accuracy: 0.9697 - precision: 0.9688 - a=recall: 0.9710\n",
            "Epoch 156/500\n",
            "110/110 [==============================] - 0s 2ms/step - loss: 0.0795 - accuracy: 0.9657 - precision: 0.9654 - a=recall: 0.9665\n",
            "Epoch 157/500\n",
            "110/110 [==============================] - 0s 2ms/step - loss: 0.0789 - accuracy: 0.9691 - precision: 0.9682 - a=recall: 0.9704\n",
            "Epoch 158/500\n",
            "110/110 [==============================] - 0s 2ms/step - loss: 0.0778 - accuracy: 0.9697 - precision: 0.9704 - a=recall: 0.9693\n",
            "Epoch 159/500\n",
            "110/110 [==============================] - 0s 2ms/step - loss: 0.0767 - accuracy: 0.9703 - precision: 0.9715 - a=recall: 0.9693\n",
            "Epoch 160/500\n",
            "110/110 [==============================] - 0s 2ms/step - loss: 0.0759 - accuracy: 0.9683 - precision: 0.9666 - a=recall: 0.9704\n",
            "Epoch 161/500\n",
            "110/110 [==============================] - 0s 2ms/step - loss: 0.0794 - accuracy: 0.9660 - precision: 0.9654 - a=recall: 0.9670\n",
            "Epoch 162/500\n",
            "110/110 [==============================] - 0s 2ms/step - loss: 0.0746 - accuracy: 0.9691 - precision: 0.9709 - a=recall: 0.9676\n",
            "Epoch 163/500\n",
            "110/110 [==============================] - 0s 2ms/step - loss: 0.0814 - accuracy: 0.9651 - precision: 0.9616 - a=recall: 0.9693\n",
            "Epoch 164/500\n",
            "110/110 [==============================] - 0s 2ms/step - loss: 0.0777 - accuracy: 0.9674 - precision: 0.9703 - a=recall: 0.9648\n",
            "Epoch 165/500\n",
            "110/110 [==============================] - 0s 2ms/step - loss: 0.0759 - accuracy: 0.9689 - precision: 0.9666 - a=recall: 0.9716\n",
            "Epoch 166/500\n",
            "110/110 [==============================] - 0s 2ms/step - loss: 0.0789 - accuracy: 0.9680 - precision: 0.9666 - a=recall: 0.9699\n",
            "Epoch 167/500\n",
            "110/110 [==============================] - 0s 2ms/step - loss: 0.0759 - accuracy: 0.9683 - precision: 0.9709 - a=recall: 0.9659\n",
            "Epoch 168/500\n",
            "110/110 [==============================] - 0s 2ms/step - loss: 0.0737 - accuracy: 0.9714 - precision: 0.9694 - a=recall: 0.9738\n",
            "Epoch 169/500\n",
            "110/110 [==============================] - 0s 2ms/step - loss: 0.0748 - accuracy: 0.9700 - precision: 0.9720 - a=recall: 0.9682\n",
            "Epoch 170/500\n",
            "110/110 [==============================] - 0s 2ms/step - loss: 0.0773 - accuracy: 0.9680 - precision: 0.9692 - a=recall: 0.9670\n",
            "Epoch 171/500\n",
            "110/110 [==============================] - 0s 2ms/step - loss: 0.0809 - accuracy: 0.9680 - precision: 0.9645 - a=recall: 0.9721\n",
            "Epoch 172/500\n",
            "110/110 [==============================] - 0s 2ms/step - loss: 0.0764 - accuracy: 0.9694 - precision: 0.9683 - a=recall: 0.9710\n",
            "Epoch 173/500\n",
            "110/110 [==============================] - 0s 2ms/step - loss: 0.0748 - accuracy: 0.9686 - precision: 0.9714 - a=recall: 0.9659\n",
            "Epoch 174/500\n",
            "110/110 [==============================] - 0s 2ms/step - loss: 0.0769 - accuracy: 0.9677 - precision: 0.9671 - a=recall: 0.9687\n",
            "Epoch 175/500\n",
            "110/110 [==============================] - 0s 2ms/step - loss: 0.0759 - accuracy: 0.9697 - precision: 0.9677 - a=recall: 0.9721\n",
            "Epoch 176/500\n",
            "110/110 [==============================] - 0s 2ms/step - loss: 0.0765 - accuracy: 0.9723 - precision: 0.9727 - a=recall: 0.9721\n",
            "Epoch 177/500\n",
            "110/110 [==============================] - 0s 2ms/step - loss: 0.0763 - accuracy: 0.9689 - precision: 0.9666 - a=recall: 0.9716\n",
            "Epoch 178/500\n",
            "110/110 [==============================] - 0s 2ms/step - loss: 0.0767 - accuracy: 0.9677 - precision: 0.9676 - a=recall: 0.9682\n",
            "Epoch 179/500\n",
            "110/110 [==============================] - 0s 2ms/step - loss: 0.0772 - accuracy: 0.9657 - precision: 0.9648 - a=recall: 0.9670\n",
            "Epoch 180/500\n",
            "110/110 [==============================] - 0s 2ms/step - loss: 0.0763 - accuracy: 0.9700 - precision: 0.9694 - a=recall: 0.9710\n",
            "Epoch 181/500\n",
            "110/110 [==============================] - 0s 2ms/step - loss: 0.0749 - accuracy: 0.9694 - precision: 0.9683 - a=recall: 0.9710\n",
            "Epoch 182/500\n",
            "110/110 [==============================] - 0s 2ms/step - loss: 0.0771 - accuracy: 0.9694 - precision: 0.9709 - a=recall: 0.9682\n",
            "Epoch 183/500\n",
            "110/110 [==============================] - 0s 2ms/step - loss: 0.0761 - accuracy: 0.9700 - precision: 0.9704 - a=recall: 0.9699\n",
            "Epoch 184/500\n",
            "110/110 [==============================] - 0s 2ms/step - loss: 0.0757 - accuracy: 0.9694 - precision: 0.9656 - a=recall: 0.9738\n",
            "Epoch 185/500\n",
            "110/110 [==============================] - 0s 2ms/step - loss: 0.0755 - accuracy: 0.9691 - precision: 0.9688 - a=recall: 0.9699\n",
            "Epoch 186/500\n",
            "110/110 [==============================] - 0s 2ms/step - loss: 0.0755 - accuracy: 0.9703 - precision: 0.9688 - a=recall: 0.9721\n",
            "Epoch 187/500\n",
            "110/110 [==============================] - 0s 2ms/step - loss: 0.0746 - accuracy: 0.9680 - precision: 0.9687 - a=recall: 0.9676\n",
            "Epoch 188/500\n",
            "110/110 [==============================] - 0s 2ms/step - loss: 0.0771 - accuracy: 0.9671 - precision: 0.9686 - a=recall: 0.9659\n",
            "Epoch 189/500\n",
            "110/110 [==============================] - 0s 2ms/step - loss: 0.0762 - accuracy: 0.9683 - precision: 0.9682 - a=recall: 0.9687\n",
            "Epoch 190/500\n",
            "110/110 [==============================] - 0s 2ms/step - loss: 0.0744 - accuracy: 0.9674 - precision: 0.9660 - a=recall: 0.9693\n",
            "Epoch 191/500\n",
            "110/110 [==============================] - 0s 2ms/step - loss: 0.0753 - accuracy: 0.9731 - precision: 0.9738 - a=recall: 0.9727\n",
            "Epoch 192/500\n",
            "110/110 [==============================] - 0s 2ms/step - loss: 0.0755 - accuracy: 0.9686 - precision: 0.9698 - a=recall: 0.9676\n",
            "Epoch 193/500\n",
            "110/110 [==============================] - 0s 2ms/step - loss: 0.0772 - accuracy: 0.9674 - precision: 0.9665 - a=recall: 0.9687\n",
            "Epoch 194/500\n",
            "110/110 [==============================] - 0s 2ms/step - loss: 0.0785 - accuracy: 0.9691 - precision: 0.9672 - a=recall: 0.9716\n",
            "Epoch 195/500\n",
            "110/110 [==============================] - 0s 2ms/step - loss: 0.0796 - accuracy: 0.9691 - precision: 0.9693 - a=recall: 0.9693\n",
            "Epoch 196/500\n",
            "110/110 [==============================] - 0s 2ms/step - loss: 0.0759 - accuracy: 0.9671 - precision: 0.9681 - a=recall: 0.9665\n",
            "Epoch 197/500\n",
            "110/110 [==============================] - 0s 2ms/step - loss: 0.0749 - accuracy: 0.9686 - precision: 0.9650 - a=recall: 0.9727\n",
            "Epoch 198/500\n",
            "110/110 [==============================] - 0s 2ms/step - loss: 0.0757 - accuracy: 0.9694 - precision: 0.9688 - a=recall: 0.9704\n",
            "Epoch 199/500\n",
            "110/110 [==============================] - 0s 2ms/step - loss: 0.0778 - accuracy: 0.9700 - precision: 0.9683 - a=recall: 0.9721\n",
            "Epoch 200/500\n",
            "110/110 [==============================] - 0s 2ms/step - loss: 0.0761 - accuracy: 0.9691 - precision: 0.9666 - a=recall: 0.9721\n",
            "Epoch 201/500\n",
            "110/110 [==============================] - 0s 2ms/step - loss: 0.0800 - accuracy: 0.9651 - precision: 0.9643 - a=recall: 0.9665\n",
            "Epoch 202/500\n",
            "110/110 [==============================] - 0s 2ms/step - loss: 0.0740 - accuracy: 0.9706 - precision: 0.9710 - a=recall: 0.9704\n",
            "Epoch 203/500\n",
            "110/110 [==============================] - 0s 2ms/step - loss: 0.0757 - accuracy: 0.9694 - precision: 0.9677 - a=recall: 0.9716\n",
            "Epoch 204/500\n",
            "110/110 [==============================] - 0s 2ms/step - loss: 0.0752 - accuracy: 0.9683 - precision: 0.9692 - a=recall: 0.9676\n",
            "Epoch 205/500\n",
            "110/110 [==============================] - 0s 2ms/step - loss: 0.0775 - accuracy: 0.9674 - precision: 0.9681 - a=recall: 0.9670\n",
            "Epoch 206/500\n",
            "110/110 [==============================] - 0s 2ms/step - loss: 0.0788 - accuracy: 0.9651 - precision: 0.9653 - a=recall: 0.9653\n",
            "Epoch 207/500\n",
            "110/110 [==============================] - 0s 2ms/step - loss: 0.0791 - accuracy: 0.9680 - precision: 0.9687 - a=recall: 0.9676\n",
            "Epoch 208/500\n",
            "110/110 [==============================] - 0s 2ms/step - loss: 0.0812 - accuracy: 0.9643 - precision: 0.9611 - a=recall: 0.9682\n",
            "Epoch 209/500\n",
            "110/110 [==============================] - 0s 2ms/step - loss: 0.0746 - accuracy: 0.9697 - precision: 0.9667 - a=recall: 0.9733\n",
            "Epoch 210/500\n",
            "110/110 [==============================] - 0s 2ms/step - loss: 0.0762 - accuracy: 0.9694 - precision: 0.9688 - a=recall: 0.9704\n",
            "Epoch 211/500\n",
            "110/110 [==============================] - 0s 2ms/step - loss: 0.0762 - accuracy: 0.9680 - precision: 0.9645 - a=recall: 0.9721\n",
            "Epoch 212/500\n",
            "110/110 [==============================] - 0s 2ms/step - loss: 0.0762 - accuracy: 0.9691 - precision: 0.9698 - a=recall: 0.9687\n",
            "Epoch 213/500\n",
            "110/110 [==============================] - 0s 2ms/step - loss: 0.0828 - accuracy: 0.9677 - precision: 0.9660 - a=recall: 0.9699\n",
            "Epoch 214/500\n",
            "110/110 [==============================] - 0s 2ms/step - loss: 0.0773 - accuracy: 0.9657 - precision: 0.9638 - a=recall: 0.9682\n",
            "Epoch 215/500\n",
            "110/110 [==============================] - 0s 2ms/step - loss: 0.0775 - accuracy: 0.9663 - precision: 0.9643 - a=recall: 0.9687\n",
            "Epoch 216/500\n",
            "110/110 [==============================] - 0s 2ms/step - loss: 0.0764 - accuracy: 0.9703 - precision: 0.9678 - a=recall: 0.9733\n",
            "Epoch 217/500\n",
            "110/110 [==============================] - 0s 2ms/step - loss: 0.0745 - accuracy: 0.9711 - precision: 0.9705 - a=recall: 0.9721\n",
            "Epoch 218/500\n",
            "110/110 [==============================] - 0s 2ms/step - loss: 0.0759 - accuracy: 0.9717 - precision: 0.9743 - a=recall: 0.9693\n",
            "Epoch 219/500\n",
            "110/110 [==============================] - 0s 2ms/step - loss: 0.0765 - accuracy: 0.9717 - precision: 0.9711 - a=recall: 0.9727\n",
            "Epoch 220/500\n",
            "110/110 [==============================] - 0s 2ms/step - loss: 0.0781 - accuracy: 0.9674 - precision: 0.9681 - a=recall: 0.9670\n",
            "Epoch 221/500\n",
            "110/110 [==============================] - 0s 2ms/step - loss: 0.0753 - accuracy: 0.9686 - precision: 0.9687 - a=recall: 0.9687\n",
            "Epoch 222/500\n",
            "110/110 [==============================] - 0s 2ms/step - loss: 0.0772 - accuracy: 0.9700 - precision: 0.9662 - a=recall: 0.9744\n",
            "Epoch 223/500\n",
            "110/110 [==============================] - 0s 2ms/step - loss: 0.0759 - accuracy: 0.9700 - precision: 0.9699 - a=recall: 0.9704\n",
            "Epoch 224/500\n",
            "110/110 [==============================] - 0s 2ms/step - loss: 0.0765 - accuracy: 0.9686 - precision: 0.9671 - a=recall: 0.9704\n",
            "Epoch 225/500\n",
            "110/110 [==============================] - 0s 2ms/step - loss: 0.0772 - accuracy: 0.9691 - precision: 0.9693 - a=recall: 0.9693\n",
            "Epoch 226/500\n",
            "110/110 [==============================] - 0s 2ms/step - loss: 0.0780 - accuracy: 0.9683 - precision: 0.9655 - a=recall: 0.9716\n",
            "Epoch 227/500\n",
            "110/110 [==============================] - 0s 2ms/step - loss: 0.0755 - accuracy: 0.9700 - precision: 0.9688 - a=recall: 0.9716\n",
            "Epoch 228/500\n",
            "110/110 [==============================] - 0s 2ms/step - loss: 0.0774 - accuracy: 0.9700 - precision: 0.9683 - a=recall: 0.9721\n",
            "Epoch 229/500\n",
            "110/110 [==============================] - 0s 2ms/step - loss: 0.0752 - accuracy: 0.9714 - precision: 0.9679 - a=recall: 0.9756\n",
            "Epoch 230/500\n",
            "110/110 [==============================] - 0s 2ms/step - loss: 0.0756 - accuracy: 0.9714 - precision: 0.9705 - a=recall: 0.9727\n",
            "Epoch 231/500\n",
            "110/110 [==============================] - 0s 2ms/step - loss: 0.0761 - accuracy: 0.9709 - precision: 0.9694 - a=recall: 0.9727\n",
            "Epoch 232/500\n",
            "110/110 [==============================] - 0s 2ms/step - loss: 0.0767 - accuracy: 0.9683 - precision: 0.9655 - a=recall: 0.9716\n",
            "Epoch 233/500\n",
            "110/110 [==============================] - 0s 2ms/step - loss: 0.0757 - accuracy: 0.9691 - precision: 0.9682 - a=recall: 0.9704\n",
            "Epoch 234/500\n",
            "110/110 [==============================] - 0s 2ms/step - loss: 0.0736 - accuracy: 0.9714 - precision: 0.9716 - a=recall: 0.9716\n",
            "Epoch 235/500\n",
            "110/110 [==============================] - 0s 2ms/step - loss: 0.0790 - accuracy: 0.9663 - precision: 0.9659 - a=recall: 0.9670\n",
            "Epoch 236/500\n",
            "110/110 [==============================] - 0s 2ms/step - loss: 0.0768 - accuracy: 0.9683 - precision: 0.9671 - a=recall: 0.9699\n",
            "Epoch 237/500\n",
            "110/110 [==============================] - 0s 2ms/step - loss: 0.0761 - accuracy: 0.9680 - precision: 0.9655 - a=recall: 0.9710\n",
            "Epoch 238/500\n",
            "110/110 [==============================] - 0s 2ms/step - loss: 0.0797 - accuracy: 0.9640 - precision: 0.9658 - a=recall: 0.9625\n",
            "Epoch 239/500\n",
            "110/110 [==============================] - 0s 2ms/step - loss: 0.0758 - accuracy: 0.9691 - precision: 0.9677 - a=recall: 0.9710\n",
            "Epoch 240/500\n",
            "110/110 [==============================] - 0s 2ms/step - loss: 0.0752 - accuracy: 0.9709 - precision: 0.9715 - a=recall: 0.9704\n",
            "Epoch 241/500\n",
            "110/110 [==============================] - 0s 2ms/step - loss: 0.0751 - accuracy: 0.9689 - precision: 0.9688 - a=recall: 0.9693\n",
            "Epoch 242/500\n",
            "110/110 [==============================] - 0s 2ms/step - loss: 0.0751 - accuracy: 0.9700 - precision: 0.9704 - a=recall: 0.9699\n",
            "Epoch 243/500\n",
            "110/110 [==============================] - 0s 2ms/step - loss: 0.0764 - accuracy: 0.9700 - precision: 0.9678 - a=recall: 0.9727\n",
            "Epoch 244/500\n",
            "110/110 [==============================] - 0s 2ms/step - loss: 0.0748 - accuracy: 0.9683 - precision: 0.9692 - a=recall: 0.9676\n",
            "Epoch 245/500\n",
            "110/110 [==============================] - 0s 2ms/step - loss: 0.0804 - accuracy: 0.9666 - precision: 0.9665 - a=recall: 0.9670\n",
            "Epoch 246/500\n",
            "110/110 [==============================] - 0s 2ms/step - loss: 0.0775 - accuracy: 0.9683 - precision: 0.9682 - a=recall: 0.9687\n",
            "Epoch 247/500\n",
            "110/110 [==============================] - 0s 2ms/step - loss: 0.0766 - accuracy: 0.9691 - precision: 0.9698 - a=recall: 0.9687\n",
            "Epoch 248/500\n",
            "110/110 [==============================] - 0s 2ms/step - loss: 0.0770 - accuracy: 0.9677 - precision: 0.9655 - a=recall: 0.9704\n",
            "Epoch 249/500\n",
            "110/110 [==============================] - 0s 2ms/step - loss: 0.0778 - accuracy: 0.9669 - precision: 0.9654 - a=recall: 0.9687\n",
            "Epoch 250/500\n",
            "110/110 [==============================] - 0s 2ms/step - loss: 0.0761 - accuracy: 0.9669 - precision: 0.9654 - a=recall: 0.9687\n",
            "Epoch 251/500\n",
            "110/110 [==============================] - 0s 2ms/step - loss: 0.0778 - accuracy: 0.9677 - precision: 0.9650 - a=recall: 0.9710\n",
            "Epoch 252/500\n",
            "110/110 [==============================] - 0s 2ms/step - loss: 0.0758 - accuracy: 0.9680 - precision: 0.9692 - a=recall: 0.9670\n",
            "Epoch 253/500\n",
            "110/110 [==============================] - 0s 2ms/step - loss: 0.0777 - accuracy: 0.9677 - precision: 0.9692 - a=recall: 0.9665\n",
            "Epoch 254/500\n",
            "110/110 [==============================] - 0s 2ms/step - loss: 0.0752 - accuracy: 0.9729 - precision: 0.9711 - a=recall: 0.9750\n",
            "Epoch 255/500\n",
            "110/110 [==============================] - 0s 2ms/step - loss: 0.0735 - accuracy: 0.9700 - precision: 0.9678 - a=recall: 0.9727\n",
            "Epoch 256/500\n",
            "110/110 [==============================] - 0s 2ms/step - loss: 0.0754 - accuracy: 0.9711 - precision: 0.9710 - a=recall: 0.9716\n",
            "Epoch 257/500\n",
            "110/110 [==============================] - 0s 2ms/step - loss: 0.0761 - accuracy: 0.9706 - precision: 0.9662 - a=recall: 0.9756\n",
            "Epoch 258/500\n",
            "110/110 [==============================] - 0s 2ms/step - loss: 0.0745 - accuracy: 0.9697 - precision: 0.9709 - a=recall: 0.9687\n",
            "Epoch 259/500\n",
            "110/110 [==============================] - 0s 2ms/step - loss: 0.0766 - accuracy: 0.9677 - precision: 0.9660 - a=recall: 0.9699\n",
            "Epoch 260/500\n",
            "110/110 [==============================] - 0s 2ms/step - loss: 0.0756 - accuracy: 0.9711 - precision: 0.9710 - a=recall: 0.9716\n",
            "Epoch 261/500\n",
            "110/110 [==============================] - 0s 2ms/step - loss: 0.0748 - accuracy: 0.9686 - precision: 0.9693 - a=recall: 0.9682\n",
            "Epoch 262/500\n",
            "110/110 [==============================] - 0s 2ms/step - loss: 0.0773 - accuracy: 0.9683 - precision: 0.9677 - a=recall: 0.9693\n",
            "Epoch 263/500\n",
            "110/110 [==============================] - 0s 2ms/step - loss: 0.0762 - accuracy: 0.9674 - precision: 0.9665 - a=recall: 0.9687\n",
            "Epoch 264/500\n",
            "110/110 [==============================] - 0s 2ms/step - loss: 0.0763 - accuracy: 0.9683 - precision: 0.9671 - a=recall: 0.9699\n",
            "Epoch 265/500\n",
            "110/110 [==============================] - 0s 2ms/step - loss: 0.0770 - accuracy: 0.9683 - precision: 0.9692 - a=recall: 0.9676\n",
            "Epoch 266/500\n",
            "110/110 [==============================] - 0s 2ms/step - loss: 0.0760 - accuracy: 0.9671 - precision: 0.9692 - a=recall: 0.9653\n",
            "Epoch 267/500\n",
            "110/110 [==============================] - 0s 2ms/step - loss: 0.0755 - accuracy: 0.9677 - precision: 0.9666 - a=recall: 0.9693\n",
            "Epoch 268/500\n",
            "110/110 [==============================] - 0s 2ms/step - loss: 0.0748 - accuracy: 0.9689 - precision: 0.9698 - a=recall: 0.9682\n",
            "Epoch 269/500\n",
            "110/110 [==============================] - 0s 2ms/step - loss: 0.0750 - accuracy: 0.9686 - precision: 0.9698 - a=recall: 0.9676\n",
            "Epoch 270/500\n",
            "110/110 [==============================] - 0s 2ms/step - loss: 0.0745 - accuracy: 0.9700 - precision: 0.9688 - a=recall: 0.9716\n",
            "Epoch 271/500\n",
            "110/110 [==============================] - 0s 2ms/step - loss: 0.0753 - accuracy: 0.9680 - precision: 0.9687 - a=recall: 0.9676\n",
            "Epoch 272/500\n",
            "110/110 [==============================] - 0s 2ms/step - loss: 0.0766 - accuracy: 0.9700 - precision: 0.9694 - a=recall: 0.9710\n",
            "Epoch 273/500\n",
            "110/110 [==============================] - 0s 2ms/step - loss: 0.0751 - accuracy: 0.9717 - precision: 0.9711 - a=recall: 0.9727\n",
            "Epoch 274/500\n",
            "110/110 [==============================] - 0s 2ms/step - loss: 0.0751 - accuracy: 0.9703 - precision: 0.9710 - a=recall: 0.9699\n",
            "Epoch 275/500\n",
            "110/110 [==============================] - 0s 2ms/step - loss: 0.0759 - accuracy: 0.9680 - precision: 0.9671 - a=recall: 0.9693\n",
            "Epoch 276/500\n",
            "110/110 [==============================] - 0s 3ms/step - loss: 0.0740 - accuracy: 0.9717 - precision: 0.9732 - a=recall: 0.9704\n",
            "Epoch 277/500\n",
            "110/110 [==============================] - 0s 3ms/step - loss: 0.0764 - accuracy: 0.9683 - precision: 0.9671 - a=recall: 0.9699\n",
            "Epoch 278/500\n",
            "110/110 [==============================] - 0s 3ms/step - loss: 0.0751 - accuracy: 0.9717 - precision: 0.9711 - a=recall: 0.9727\n",
            "Epoch 279/500\n",
            "110/110 [==============================] - 0s 3ms/step - loss: 0.0746 - accuracy: 0.9680 - precision: 0.9682 - a=recall: 0.9682\n",
            "Epoch 280/500\n",
            "110/110 [==============================] - 0s 3ms/step - loss: 0.0748 - accuracy: 0.9697 - precision: 0.9683 - a=recall: 0.9716\n",
            "Epoch 281/500\n",
            "110/110 [==============================] - 0s 3ms/step - loss: 0.0760 - accuracy: 0.9686 - precision: 0.9682 - a=recall: 0.9693\n",
            "Epoch 282/500\n",
            "110/110 [==============================] - 0s 2ms/step - loss: 0.0767 - accuracy: 0.9706 - precision: 0.9699 - a=recall: 0.9716\n",
            "Epoch 283/500\n",
            "110/110 [==============================] - 0s 2ms/step - loss: 0.0748 - accuracy: 0.9697 - precision: 0.9699 - a=recall: 0.9699\n",
            "Epoch 284/500\n",
            "110/110 [==============================] - 0s 3ms/step - loss: 0.0761 - accuracy: 0.9691 - precision: 0.9693 - a=recall: 0.9693\n",
            "Epoch 285/500\n",
            "110/110 [==============================] - 0s 2ms/step - loss: 0.0758 - accuracy: 0.9691 - precision: 0.9688 - a=recall: 0.9699\n",
            "Epoch 286/500\n",
            "110/110 [==============================] - 0s 2ms/step - loss: 0.0742 - accuracy: 0.9700 - precision: 0.9688 - a=recall: 0.9716\n",
            "Epoch 287/500\n",
            "110/110 [==============================] - 0s 2ms/step - loss: 0.0752 - accuracy: 0.9700 - precision: 0.9699 - a=recall: 0.9704\n",
            "Epoch 288/500\n",
            "110/110 [==============================] - 0s 2ms/step - loss: 0.0762 - accuracy: 0.9677 - precision: 0.9676 - a=recall: 0.9682\n",
            "Epoch 289/500\n",
            "110/110 [==============================] - 0s 2ms/step - loss: 0.0758 - accuracy: 0.9691 - precision: 0.9682 - a=recall: 0.9704\n",
            "Epoch 290/500\n",
            "110/110 [==============================] - 0s 2ms/step - loss: 0.0777 - accuracy: 0.9663 - precision: 0.9686 - a=recall: 0.9642\n",
            "Epoch 291/500\n",
            "110/110 [==============================] - 0s 2ms/step - loss: 0.0751 - accuracy: 0.9689 - precision: 0.9656 - a=recall: 0.9727\n",
            "Epoch 292/500\n",
            "110/110 [==============================] - 0s 2ms/step - loss: 0.0753 - accuracy: 0.9689 - precision: 0.9698 - a=recall: 0.9682\n",
            "Epoch 293/500\n",
            "110/110 [==============================] - 0s 2ms/step - loss: 0.0735 - accuracy: 0.9714 - precision: 0.9721 - a=recall: 0.9710\n",
            "Epoch 294/500\n",
            "110/110 [==============================] - 0s 2ms/step - loss: 0.0748 - accuracy: 0.9720 - precision: 0.9716 - a=recall: 0.9727\n",
            "Epoch 295/500\n",
            "110/110 [==============================] - 0s 2ms/step - loss: 0.0756 - accuracy: 0.9723 - precision: 0.9711 - a=recall: 0.9738\n",
            "Epoch 296/500\n",
            "110/110 [==============================] - 0s 2ms/step - loss: 0.0752 - accuracy: 0.9706 - precision: 0.9689 - a=recall: 0.9727\n",
            "Epoch 297/500\n",
            "110/110 [==============================] - 0s 2ms/step - loss: 0.0759 - accuracy: 0.9714 - precision: 0.9700 - a=recall: 0.9733\n",
            "Epoch 298/500\n",
            "110/110 [==============================] - 0s 2ms/step - loss: 0.0755 - accuracy: 0.9694 - precision: 0.9699 - a=recall: 0.9693\n",
            "Epoch 299/500\n",
            "110/110 [==============================] - 0s 2ms/step - loss: 0.0745 - accuracy: 0.9686 - precision: 0.9682 - a=recall: 0.9693\n",
            "Epoch 300/500\n",
            "110/110 [==============================] - 0s 2ms/step - loss: 0.0763 - accuracy: 0.9691 - precision: 0.9682 - a=recall: 0.9704\n",
            "Epoch 301/500\n",
            "110/110 [==============================] - 0s 2ms/step - loss: 0.0754 - accuracy: 0.9691 - precision: 0.9688 - a=recall: 0.9699\n",
            "Epoch 302/500\n",
            "110/110 [==============================] - 0s 2ms/step - loss: 0.0757 - accuracy: 0.9694 - precision: 0.9672 - a=recall: 0.9721\n",
            "Epoch 303/500\n",
            "110/110 [==============================] - 0s 2ms/step - loss: 0.0755 - accuracy: 0.9677 - precision: 0.9692 - a=recall: 0.9665\n",
            "Epoch 304/500\n",
            "110/110 [==============================] - 0s 2ms/step - loss: 0.0747 - accuracy: 0.9697 - precision: 0.9693 - a=recall: 0.9704\n",
            "Epoch 305/500\n",
            "110/110 [==============================] - 0s 2ms/step - loss: 0.0765 - accuracy: 0.9703 - precision: 0.9710 - a=recall: 0.9699\n",
            "Epoch 306/500\n",
            "110/110 [==============================] - 0s 2ms/step - loss: 0.0754 - accuracy: 0.9694 - precision: 0.9688 - a=recall: 0.9704\n",
            "Epoch 307/500\n",
            "110/110 [==============================] - 0s 2ms/step - loss: 0.0745 - accuracy: 0.9694 - precision: 0.9672 - a=recall: 0.9721\n",
            "Epoch 308/500\n",
            "110/110 [==============================] - 0s 2ms/step - loss: 0.0744 - accuracy: 0.9694 - precision: 0.9699 - a=recall: 0.9693\n",
            "Epoch 309/500\n",
            "110/110 [==============================] - 0s 2ms/step - loss: 0.0753 - accuracy: 0.9694 - precision: 0.9683 - a=recall: 0.9710\n",
            "Epoch 310/500\n",
            "110/110 [==============================] - 0s 2ms/step - loss: 0.0752 - accuracy: 0.9697 - precision: 0.9683 - a=recall: 0.9716\n",
            "Epoch 311/500\n",
            "110/110 [==============================] - 0s 2ms/step - loss: 0.0748 - accuracy: 0.9694 - precision: 0.9736 - a=recall: 0.9653\n",
            "Epoch 312/500\n",
            "110/110 [==============================] - 0s 2ms/step - loss: 0.0762 - accuracy: 0.9714 - precision: 0.9694 - a=recall: 0.9738\n",
            "Epoch 313/500\n",
            "110/110 [==============================] - 0s 2ms/step - loss: 0.0759 - accuracy: 0.9697 - precision: 0.9699 - a=recall: 0.9699\n",
            "Epoch 314/500\n",
            "110/110 [==============================] - 0s 2ms/step - loss: 0.0769 - accuracy: 0.9703 - precision: 0.9673 - a=recall: 0.9738\n",
            "Epoch 315/500\n",
            "110/110 [==============================] - 0s 2ms/step - loss: 0.0781 - accuracy: 0.9689 - precision: 0.9682 - a=recall: 0.9699\n",
            "Epoch 316/500\n",
            "110/110 [==============================] - 0s 2ms/step - loss: 0.0767 - accuracy: 0.9677 - precision: 0.9703 - a=recall: 0.9653\n",
            "Epoch 317/500\n",
            "110/110 [==============================] - 0s 2ms/step - loss: 0.0773 - accuracy: 0.9686 - precision: 0.9677 - a=recall: 0.9699\n",
            "Epoch 318/500\n",
            "110/110 [==============================] - 0s 2ms/step - loss: 0.0763 - accuracy: 0.9691 - precision: 0.9714 - a=recall: 0.9670\n",
            "Epoch 319/500\n",
            "110/110 [==============================] - 0s 2ms/step - loss: 0.0743 - accuracy: 0.9691 - precision: 0.9682 - a=recall: 0.9704\n",
            "Epoch 320/500\n",
            "110/110 [==============================] - 0s 2ms/step - loss: 0.0738 - accuracy: 0.9677 - precision: 0.9655 - a=recall: 0.9704\n",
            "Epoch 321/500\n",
            "110/110 [==============================] - 0s 2ms/step - loss: 0.0762 - accuracy: 0.9671 - precision: 0.9670 - a=recall: 0.9676\n",
            "Epoch 322/500\n",
            "110/110 [==============================] - 0s 2ms/step - loss: 0.0737 - accuracy: 0.9697 - precision: 0.9709 - a=recall: 0.9687\n",
            "Epoch 323/500\n",
            "110/110 [==============================] - 0s 2ms/step - loss: 0.0739 - accuracy: 0.9697 - precision: 0.9693 - a=recall: 0.9704\n",
            "Epoch 324/500\n",
            "110/110 [==============================] - 0s 2ms/step - loss: 0.0772 - accuracy: 0.9694 - precision: 0.9661 - a=recall: 0.9733\n",
            "Epoch 325/500\n",
            "110/110 [==============================] - 0s 2ms/step - loss: 0.0751 - accuracy: 0.9694 - precision: 0.9688 - a=recall: 0.9704\n",
            "Epoch 326/500\n",
            "110/110 [==============================] - 0s 2ms/step - loss: 0.0774 - accuracy: 0.9669 - precision: 0.9681 - a=recall: 0.9659\n",
            "Epoch 327/500\n",
            "110/110 [==============================] - 0s 2ms/step - loss: 0.0752 - accuracy: 0.9691 - precision: 0.9693 - a=recall: 0.9693\n",
            "Epoch 328/500\n",
            "110/110 [==============================] - 0s 2ms/step - loss: 0.0761 - accuracy: 0.9697 - precision: 0.9704 - a=recall: 0.9693\n",
            "Epoch 329/500\n",
            "110/110 [==============================] - 0s 2ms/step - loss: 0.0772 - accuracy: 0.9689 - precision: 0.9688 - a=recall: 0.9693\n",
            "Epoch 330/500\n",
            "110/110 [==============================] - 0s 2ms/step - loss: 0.0737 - accuracy: 0.9703 - precision: 0.9726 - a=recall: 0.9682\n",
            "Epoch 331/500\n",
            "110/110 [==============================] - 0s 2ms/step - loss: 0.0791 - accuracy: 0.9669 - precision: 0.9660 - a=recall: 0.9682\n",
            "Epoch 332/500\n",
            "110/110 [==============================] - 0s 2ms/step - loss: 0.0752 - accuracy: 0.9691 - precision: 0.9693 - a=recall: 0.9693\n",
            "Epoch 333/500\n",
            "110/110 [==============================] - 0s 2ms/step - loss: 0.0756 - accuracy: 0.9691 - precision: 0.9704 - a=recall: 0.9682\n",
            "Epoch 334/500\n",
            "110/110 [==============================] - 0s 2ms/step - loss: 0.0768 - accuracy: 0.9671 - precision: 0.9665 - a=recall: 0.9682\n",
            "Epoch 335/500\n",
            "110/110 [==============================] - 0s 2ms/step - loss: 0.0724 - accuracy: 0.9691 - precision: 0.9714 - a=recall: 0.9670\n",
            "Epoch 336/500\n",
            "110/110 [==============================] - 0s 2ms/step - loss: 0.0749 - accuracy: 0.9697 - precision: 0.9688 - a=recall: 0.9710\n",
            "Epoch 337/500\n",
            "110/110 [==============================] - 0s 2ms/step - loss: 0.0758 - accuracy: 0.9683 - precision: 0.9666 - a=recall: 0.9704\n",
            "Epoch 338/500\n",
            "110/110 [==============================] - 0s 2ms/step - loss: 0.0773 - accuracy: 0.9683 - precision: 0.9671 - a=recall: 0.9699\n",
            "Epoch 339/500\n",
            "110/110 [==============================] - 0s 2ms/step - loss: 0.0760 - accuracy: 0.9691 - precision: 0.9693 - a=recall: 0.9693\n",
            "Epoch 340/500\n",
            "110/110 [==============================] - 0s 2ms/step - loss: 0.0757 - accuracy: 0.9686 - precision: 0.9693 - a=recall: 0.9682\n",
            "Epoch 341/500\n",
            "110/110 [==============================] - 0s 2ms/step - loss: 0.0751 - accuracy: 0.9686 - precision: 0.9682 - a=recall: 0.9693\n",
            "Epoch 342/500\n",
            "110/110 [==============================] - 0s 2ms/step - loss: 0.0768 - accuracy: 0.9689 - precision: 0.9693 - a=recall: 0.9687\n",
            "Epoch 343/500\n",
            "110/110 [==============================] - 0s 2ms/step - loss: 0.0748 - accuracy: 0.9674 - precision: 0.9671 - a=recall: 0.9682\n",
            "Epoch 344/500\n",
            "110/110 [==============================] - 0s 2ms/step - loss: 0.0758 - accuracy: 0.9680 - precision: 0.9666 - a=recall: 0.9699\n",
            "Epoch 345/500\n",
            "110/110 [==============================] - 0s 2ms/step - loss: 0.0769 - accuracy: 0.9680 - precision: 0.9692 - a=recall: 0.9670\n",
            "Epoch 346/500\n",
            "110/110 [==============================] - 0s 2ms/step - loss: 0.0747 - accuracy: 0.9686 - precision: 0.9671 - a=recall: 0.9704\n",
            "Epoch 347/500\n",
            "110/110 [==============================] - 0s 2ms/step - loss: 0.0743 - accuracy: 0.9697 - precision: 0.9709 - a=recall: 0.9687\n",
            "Epoch 348/500\n",
            "110/110 [==============================] - 0s 2ms/step - loss: 0.0746 - accuracy: 0.9697 - precision: 0.9677 - a=recall: 0.9721\n",
            "Epoch 349/500\n",
            "110/110 [==============================] - 0s 2ms/step - loss: 0.0737 - accuracy: 0.9691 - precision: 0.9720 - a=recall: 0.9665\n",
            "Epoch 350/500\n",
            "110/110 [==============================] - 0s 2ms/step - loss: 0.0748 - accuracy: 0.9703 - precision: 0.9688 - a=recall: 0.9721\n",
            "Epoch 351/500\n",
            "110/110 [==============================] - 0s 2ms/step - loss: 0.0777 - accuracy: 0.9697 - precision: 0.9688 - a=recall: 0.9710\n",
            "Epoch 352/500\n",
            "110/110 [==============================] - 0s 2ms/step - loss: 0.0753 - accuracy: 0.9694 - precision: 0.9683 - a=recall: 0.9710\n",
            "Epoch 353/500\n",
            "110/110 [==============================] - 0s 2ms/step - loss: 0.0740 - accuracy: 0.9717 - precision: 0.9705 - a=recall: 0.9733\n",
            "Epoch 354/500\n",
            "110/110 [==============================] - 0s 2ms/step - loss: 0.0768 - accuracy: 0.9691 - precision: 0.9688 - a=recall: 0.9699\n",
            "Epoch 355/500\n",
            "110/110 [==============================] - 0s 2ms/step - loss: 0.0768 - accuracy: 0.9683 - precision: 0.9698 - a=recall: 0.9670\n",
            "Epoch 356/500\n",
            "110/110 [==============================] - 0s 2ms/step - loss: 0.0755 - accuracy: 0.9671 - precision: 0.9670 - a=recall: 0.9676\n",
            "Epoch 357/500\n",
            "110/110 [==============================] - 0s 2ms/step - loss: 0.0772 - accuracy: 0.9703 - precision: 0.9688 - a=recall: 0.9721\n",
            "Epoch 358/500\n",
            "110/110 [==============================] - 0s 2ms/step - loss: 0.0755 - accuracy: 0.9720 - precision: 0.9738 - a=recall: 0.9704\n",
            "Epoch 359/500\n",
            "110/110 [==============================] - 0s 2ms/step - loss: 0.0750 - accuracy: 0.9694 - precision: 0.9683 - a=recall: 0.9710\n",
            "Epoch 360/500\n",
            "110/110 [==============================] - 0s 2ms/step - loss: 0.0751 - accuracy: 0.9700 - precision: 0.9694 - a=recall: 0.9710\n",
            "Epoch 361/500\n",
            "110/110 [==============================] - 0s 2ms/step - loss: 0.0758 - accuracy: 0.9700 - precision: 0.9678 - a=recall: 0.9727\n",
            "Epoch 362/500\n",
            "110/110 [==============================] - 0s 2ms/step - loss: 0.0774 - accuracy: 0.9677 - precision: 0.9671 - a=recall: 0.9687\n",
            "Epoch 363/500\n",
            "110/110 [==============================] - 0s 2ms/step - loss: 0.0744 - accuracy: 0.9674 - precision: 0.9660 - a=recall: 0.9693\n",
            "Epoch 364/500\n",
            "110/110 [==============================] - 0s 2ms/step - loss: 0.0739 - accuracy: 0.9706 - precision: 0.9705 - a=recall: 0.9710\n",
            "Epoch 365/500\n",
            "110/110 [==============================] - 0s 2ms/step - loss: 0.0794 - accuracy: 0.9680 - precision: 0.9650 - a=recall: 0.9716\n",
            "Epoch 366/500\n",
            "110/110 [==============================] - 0s 2ms/step - loss: 0.0750 - accuracy: 0.9697 - precision: 0.9704 - a=recall: 0.9693\n",
            "Epoch 367/500\n",
            "110/110 [==============================] - 0s 2ms/step - loss: 0.0753 - accuracy: 0.9703 - precision: 0.9683 - a=recall: 0.9727\n",
            "Epoch 368/500\n",
            "110/110 [==============================] - 0s 2ms/step - loss: 0.0739 - accuracy: 0.9703 - precision: 0.9704 - a=recall: 0.9704\n",
            "Epoch 369/500\n",
            "110/110 [==============================] - 0s 2ms/step - loss: 0.0770 - accuracy: 0.9686 - precision: 0.9666 - a=recall: 0.9710\n",
            "Epoch 370/500\n",
            "110/110 [==============================] - 0s 2ms/step - loss: 0.0751 - accuracy: 0.9689 - precision: 0.9693 - a=recall: 0.9687\n",
            "Epoch 371/500\n",
            "110/110 [==============================] - 0s 2ms/step - loss: 0.0742 - accuracy: 0.9683 - precision: 0.9661 - a=recall: 0.9710\n",
            "Epoch 372/500\n",
            "110/110 [==============================] - 0s 2ms/step - loss: 0.0756 - accuracy: 0.9691 - precision: 0.9677 - a=recall: 0.9710\n",
            "Epoch 373/500\n",
            "110/110 [==============================] - 0s 2ms/step - loss: 0.0762 - accuracy: 0.9683 - precision: 0.9666 - a=recall: 0.9704\n",
            "Epoch 374/500\n",
            "110/110 [==============================] - 0s 2ms/step - loss: 0.0739 - accuracy: 0.9697 - precision: 0.9683 - a=recall: 0.9716\n",
            "Epoch 375/500\n",
            "110/110 [==============================] - 0s 2ms/step - loss: 0.0765 - accuracy: 0.9703 - precision: 0.9704 - a=recall: 0.9704\n",
            "Epoch 376/500\n",
            "110/110 [==============================] - 0s 2ms/step - loss: 0.0751 - accuracy: 0.9686 - precision: 0.9677 - a=recall: 0.9699\n",
            "Epoch 377/500\n",
            "110/110 [==============================] - 0s 2ms/step - loss: 0.0755 - accuracy: 0.9694 - precision: 0.9704 - a=recall: 0.9687\n",
            "Epoch 378/500\n",
            "110/110 [==============================] - 0s 2ms/step - loss: 0.0737 - accuracy: 0.9709 - precision: 0.9694 - a=recall: 0.9727\n",
            "Epoch 379/500\n",
            "110/110 [==============================] - 0s 2ms/step - loss: 0.0753 - accuracy: 0.9694 - precision: 0.9709 - a=recall: 0.9682\n",
            "Epoch 380/500\n",
            "110/110 [==============================] - 0s 2ms/step - loss: 0.0754 - accuracy: 0.9709 - precision: 0.9699 - a=recall: 0.9721\n",
            "Epoch 381/500\n",
            "110/110 [==============================] - 0s 2ms/step - loss: 0.0754 - accuracy: 0.9700 - precision: 0.9694 - a=recall: 0.9710\n",
            "Epoch 382/500\n",
            "110/110 [==============================] - 0s 2ms/step - loss: 0.0796 - accuracy: 0.9669 - precision: 0.9681 - a=recall: 0.9659\n",
            "Epoch 383/500\n",
            "110/110 [==============================] - 0s 2ms/step - loss: 0.0732 - accuracy: 0.9700 - precision: 0.9678 - a=recall: 0.9727\n",
            "Epoch 384/500\n",
            "110/110 [==============================] - 0s 2ms/step - loss: 0.0738 - accuracy: 0.9674 - precision: 0.9687 - a=recall: 0.9665\n",
            "Epoch 385/500\n",
            "110/110 [==============================] - 0s 2ms/step - loss: 0.0759 - accuracy: 0.9703 - precision: 0.9715 - a=recall: 0.9693\n",
            "Epoch 386/500\n",
            "110/110 [==============================] - 0s 2ms/step - loss: 0.0760 - accuracy: 0.9686 - precision: 0.9698 - a=recall: 0.9676\n",
            "Epoch 387/500\n",
            "110/110 [==============================] - 0s 2ms/step - loss: 0.0761 - accuracy: 0.9709 - precision: 0.9694 - a=recall: 0.9727\n",
            "Epoch 388/500\n",
            "110/110 [==============================] - 0s 2ms/step - loss: 0.0765 - accuracy: 0.9703 - precision: 0.9699 - a=recall: 0.9710\n",
            "Epoch 389/500\n",
            "110/110 [==============================] - 0s 2ms/step - loss: 0.0755 - accuracy: 0.9694 - precision: 0.9693 - a=recall: 0.9699\n",
            "Epoch 390/500\n",
            "110/110 [==============================] - 0s 2ms/step - loss: 0.0762 - accuracy: 0.9689 - precision: 0.9666 - a=recall: 0.9716\n",
            "Epoch 391/500\n",
            "110/110 [==============================] - 0s 2ms/step - loss: 0.0777 - accuracy: 0.9700 - precision: 0.9715 - a=recall: 0.9687\n",
            "Epoch 392/500\n",
            "110/110 [==============================] - 0s 2ms/step - loss: 0.0753 - accuracy: 0.9703 - precision: 0.9715 - a=recall: 0.9693\n",
            "Epoch 393/500\n",
            "110/110 [==============================] - 0s 2ms/step - loss: 0.0747 - accuracy: 0.9680 - precision: 0.9676 - a=recall: 0.9687\n",
            "Epoch 394/500\n",
            "110/110 [==============================] - 0s 2ms/step - loss: 0.0775 - accuracy: 0.9691 - precision: 0.9672 - a=recall: 0.9716\n",
            "Epoch 395/500\n",
            "110/110 [==============================] - 0s 2ms/step - loss: 0.0752 - accuracy: 0.9689 - precision: 0.9693 - a=recall: 0.9687\n",
            "Epoch 396/500\n",
            "110/110 [==============================] - 0s 2ms/step - loss: 0.0741 - accuracy: 0.9714 - precision: 0.9700 - a=recall: 0.9733\n",
            "Epoch 397/500\n",
            "110/110 [==============================] - 0s 2ms/step - loss: 0.0754 - accuracy: 0.9680 - precision: 0.9655 - a=recall: 0.9710\n",
            "Epoch 398/500\n",
            "110/110 [==============================] - 0s 2ms/step - loss: 0.0753 - accuracy: 0.9703 - precision: 0.9694 - a=recall: 0.9716\n",
            "Epoch 399/500\n",
            "110/110 [==============================] - 0s 2ms/step - loss: 0.0758 - accuracy: 0.9677 - precision: 0.9676 - a=recall: 0.9682\n",
            "Epoch 400/500\n",
            "110/110 [==============================] - 0s 2ms/step - loss: 0.0753 - accuracy: 0.9709 - precision: 0.9710 - a=recall: 0.9710\n",
            "Epoch 401/500\n",
            "110/110 [==============================] - 0s 2ms/step - loss: 0.0735 - accuracy: 0.9697 - precision: 0.9731 - a=recall: 0.9665\n",
            "Epoch 402/500\n",
            "110/110 [==============================] - 0s 2ms/step - loss: 0.0775 - accuracy: 0.9677 - precision: 0.9666 - a=recall: 0.9693\n",
            "Epoch 403/500\n",
            "110/110 [==============================] - 0s 2ms/step - loss: 0.0750 - accuracy: 0.9697 - precision: 0.9667 - a=recall: 0.9733\n",
            "Epoch 404/500\n",
            "110/110 [==============================] - 0s 2ms/step - loss: 0.0750 - accuracy: 0.9703 - precision: 0.9720 - a=recall: 0.9687\n",
            "Epoch 405/500\n",
            "110/110 [==============================] - 0s 2ms/step - loss: 0.0750 - accuracy: 0.9689 - precision: 0.9688 - a=recall: 0.9693\n",
            "Epoch 406/500\n",
            "110/110 [==============================] - 0s 2ms/step - loss: 0.0754 - accuracy: 0.9683 - precision: 0.9661 - a=recall: 0.9710\n",
            "Epoch 407/500\n",
            "110/110 [==============================] - 0s 2ms/step - loss: 0.0738 - accuracy: 0.9720 - precision: 0.9732 - a=recall: 0.9710\n",
            "Epoch 408/500\n",
            "110/110 [==============================] - 0s 2ms/step - loss: 0.0753 - accuracy: 0.9711 - precision: 0.9710 - a=recall: 0.9716\n",
            "Epoch 409/500\n",
            "110/110 [==============================] - 0s 2ms/step - loss: 0.0759 - accuracy: 0.9677 - precision: 0.9681 - a=recall: 0.9676\n",
            "Epoch 410/500\n",
            "110/110 [==============================] - 0s 2ms/step - loss: 0.0733 - accuracy: 0.9711 - precision: 0.9700 - a=recall: 0.9727\n",
            "Epoch 411/500\n",
            "110/110 [==============================] - 0s 2ms/step - loss: 0.0745 - accuracy: 0.9703 - precision: 0.9710 - a=recall: 0.9699\n",
            "Epoch 412/500\n",
            "110/110 [==============================] - 0s 2ms/step - loss: 0.0747 - accuracy: 0.9709 - precision: 0.9705 - a=recall: 0.9716\n",
            "Epoch 413/500\n",
            "110/110 [==============================] - 0s 2ms/step - loss: 0.0758 - accuracy: 0.9694 - precision: 0.9677 - a=recall: 0.9716\n",
            "Epoch 414/500\n",
            "110/110 [==============================] - 0s 2ms/step - loss: 0.0779 - accuracy: 0.9680 - precision: 0.9645 - a=recall: 0.9721\n",
            "Epoch 415/500\n",
            "110/110 [==============================] - 0s 2ms/step - loss: 0.0747 - accuracy: 0.9694 - precision: 0.9683 - a=recall: 0.9710\n",
            "Epoch 416/500\n",
            "110/110 [==============================] - 0s 2ms/step - loss: 0.0765 - accuracy: 0.9691 - precision: 0.9688 - a=recall: 0.9699\n",
            "Epoch 417/500\n",
            "110/110 [==============================] - 0s 2ms/step - loss: 0.0752 - accuracy: 0.9691 - precision: 0.9677 - a=recall: 0.9710\n",
            "Epoch 418/500\n",
            "110/110 [==============================] - 0s 2ms/step - loss: 0.0744 - accuracy: 0.9711 - precision: 0.9705 - a=recall: 0.9721\n",
            "Epoch 419/500\n",
            "110/110 [==============================] - 0s 2ms/step - loss: 0.0753 - accuracy: 0.9680 - precision: 0.9682 - a=recall: 0.9682\n",
            "Epoch 420/500\n",
            "110/110 [==============================] - 0s 2ms/step - loss: 0.0750 - accuracy: 0.9677 - precision: 0.9660 - a=recall: 0.9699\n",
            "Epoch 421/500\n",
            "110/110 [==============================] - 0s 2ms/step - loss: 0.0765 - accuracy: 0.9671 - precision: 0.9703 - a=recall: 0.9642\n",
            "Epoch 422/500\n",
            "110/110 [==============================] - 0s 2ms/step - loss: 0.0784 - accuracy: 0.9674 - precision: 0.9650 - a=recall: 0.9704\n",
            "Epoch 423/500\n",
            "110/110 [==============================] - 0s 2ms/step - loss: 0.0768 - accuracy: 0.9674 - precision: 0.9681 - a=recall: 0.9670\n",
            "Epoch 424/500\n",
            "110/110 [==============================] - 0s 2ms/step - loss: 0.0765 - accuracy: 0.9683 - precision: 0.9682 - a=recall: 0.9687\n",
            "Epoch 425/500\n",
            "110/110 [==============================] - 0s 2ms/step - loss: 0.0744 - accuracy: 0.9706 - precision: 0.9705 - a=recall: 0.9710\n",
            "Epoch 426/500\n",
            "110/110 [==============================] - 0s 2ms/step - loss: 0.0751 - accuracy: 0.9706 - precision: 0.9689 - a=recall: 0.9727\n",
            "Epoch 427/500\n",
            "110/110 [==============================] - 0s 2ms/step - loss: 0.0755 - accuracy: 0.9703 - precision: 0.9678 - a=recall: 0.9733\n",
            "Epoch 428/500\n",
            "110/110 [==============================] - 0s 2ms/step - loss: 0.0748 - accuracy: 0.9691 - precision: 0.9693 - a=recall: 0.9693\n",
            "Epoch 429/500\n",
            "110/110 [==============================] - 0s 2ms/step - loss: 0.0761 - accuracy: 0.9683 - precision: 0.9687 - a=recall: 0.9682\n",
            "Epoch 430/500\n",
            "110/110 [==============================] - 0s 2ms/step - loss: 0.0759 - accuracy: 0.9711 - precision: 0.9716 - a=recall: 0.9710\n",
            "Epoch 431/500\n",
            "110/110 [==============================] - 0s 2ms/step - loss: 0.0754 - accuracy: 0.9709 - precision: 0.9715 - a=recall: 0.9704\n",
            "Epoch 432/500\n",
            "110/110 [==============================] - 0s 2ms/step - loss: 0.0754 - accuracy: 0.9671 - precision: 0.9676 - a=recall: 0.9670\n",
            "Epoch 433/500\n",
            "110/110 [==============================] - 0s 2ms/step - loss: 0.0779 - accuracy: 0.9703 - precision: 0.9699 - a=recall: 0.9710\n",
            "Epoch 434/500\n",
            "110/110 [==============================] - 0s 2ms/step - loss: 0.0762 - accuracy: 0.9703 - precision: 0.9710 - a=recall: 0.9699\n",
            "Epoch 435/500\n",
            "110/110 [==============================] - 0s 2ms/step - loss: 0.0742 - accuracy: 0.9706 - precision: 0.9683 - a=recall: 0.9733\n",
            "Epoch 436/500\n",
            "110/110 [==============================] - 0s 2ms/step - loss: 0.0759 - accuracy: 0.9694 - precision: 0.9677 - a=recall: 0.9716\n",
            "Epoch 437/500\n",
            "110/110 [==============================] - 0s 2ms/step - loss: 0.0756 - accuracy: 0.9686 - precision: 0.9677 - a=recall: 0.9699\n",
            "Epoch 438/500\n",
            "110/110 [==============================] - 0s 2ms/step - loss: 0.0760 - accuracy: 0.9706 - precision: 0.9683 - a=recall: 0.9733\n",
            "Epoch 439/500\n",
            "110/110 [==============================] - 0s 2ms/step - loss: 0.0740 - accuracy: 0.9680 - precision: 0.9676 - a=recall: 0.9687\n",
            "Epoch 440/500\n",
            "110/110 [==============================] - 0s 2ms/step - loss: 0.0759 - accuracy: 0.9677 - precision: 0.9687 - a=recall: 0.9670\n",
            "Epoch 441/500\n",
            "110/110 [==============================] - 0s 2ms/step - loss: 0.0745 - accuracy: 0.9700 - precision: 0.9710 - a=recall: 0.9693\n",
            "Epoch 442/500\n",
            "110/110 [==============================] - 0s 2ms/step - loss: 0.0761 - accuracy: 0.9697 - precision: 0.9699 - a=recall: 0.9699\n",
            "Epoch 443/500\n",
            "110/110 [==============================] - 0s 2ms/step - loss: 0.0752 - accuracy: 0.9686 - precision: 0.9693 - a=recall: 0.9682\n",
            "Epoch 444/500\n",
            "110/110 [==============================] - 0s 2ms/step - loss: 0.0766 - accuracy: 0.9666 - precision: 0.9686 - a=recall: 0.9648\n",
            "Epoch 445/500\n",
            "110/110 [==============================] - 0s 2ms/step - loss: 0.0739 - accuracy: 0.9720 - precision: 0.9721 - a=recall: 0.9721\n",
            "Epoch 446/500\n",
            "110/110 [==============================] - 0s 2ms/step - loss: 0.0784 - accuracy: 0.9694 - precision: 0.9693 - a=recall: 0.9699\n",
            "Epoch 447/500\n",
            "110/110 [==============================] - 0s 2ms/step - loss: 0.0756 - accuracy: 0.9694 - precision: 0.9699 - a=recall: 0.9693\n",
            "Epoch 448/500\n",
            "110/110 [==============================] - 0s 2ms/step - loss: 0.0748 - accuracy: 0.9683 - precision: 0.9677 - a=recall: 0.9693\n",
            "Epoch 449/500\n",
            "110/110 [==============================] - 0s 2ms/step - loss: 0.0766 - accuracy: 0.9677 - precision: 0.9666 - a=recall: 0.9693\n",
            "Epoch 450/500\n",
            "110/110 [==============================] - 0s 2ms/step - loss: 0.0764 - accuracy: 0.9674 - precision: 0.9671 - a=recall: 0.9682\n",
            "Epoch 451/500\n",
            "110/110 [==============================] - 0s 2ms/step - loss: 0.0746 - accuracy: 0.9709 - precision: 0.9710 - a=recall: 0.9710\n",
            "Epoch 452/500\n",
            "110/110 [==============================] - 0s 2ms/step - loss: 0.0753 - accuracy: 0.9706 - precision: 0.9705 - a=recall: 0.9710\n",
            "Epoch 453/500\n",
            "110/110 [==============================] - 0s 2ms/step - loss: 0.0758 - accuracy: 0.9697 - precision: 0.9677 - a=recall: 0.9721\n",
            "Epoch 454/500\n",
            "110/110 [==============================] - 0s 2ms/step - loss: 0.0753 - accuracy: 0.9686 - precision: 0.9698 - a=recall: 0.9676\n",
            "Epoch 455/500\n",
            "110/110 [==============================] - 0s 2ms/step - loss: 0.0760 - accuracy: 0.9697 - precision: 0.9699 - a=recall: 0.9699\n",
            "Epoch 456/500\n",
            "110/110 [==============================] - 0s 2ms/step - loss: 0.0740 - accuracy: 0.9677 - precision: 0.9687 - a=recall: 0.9670\n",
            "Epoch 457/500\n",
            "110/110 [==============================] - 0s 2ms/step - loss: 0.0755 - accuracy: 0.9686 - precision: 0.9687 - a=recall: 0.9687\n",
            "Epoch 458/500\n",
            "110/110 [==============================] - 0s 2ms/step - loss: 0.0766 - accuracy: 0.9677 - precision: 0.9666 - a=recall: 0.9693\n",
            "Epoch 459/500\n",
            "110/110 [==============================] - 0s 2ms/step - loss: 0.0754 - accuracy: 0.9689 - precision: 0.9682 - a=recall: 0.9699\n",
            "Epoch 460/500\n",
            "110/110 [==============================] - 0s 2ms/step - loss: 0.0749 - accuracy: 0.9691 - precision: 0.9704 - a=recall: 0.9682\n",
            "Epoch 461/500\n",
            "110/110 [==============================] - 0s 2ms/step - loss: 0.0795 - accuracy: 0.9663 - precision: 0.9633 - a=recall: 0.9699\n",
            "Epoch 462/500\n",
            "110/110 [==============================] - 0s 2ms/step - loss: 0.0768 - accuracy: 0.9691 - precision: 0.9709 - a=recall: 0.9676\n",
            "Epoch 463/500\n",
            "110/110 [==============================] - 0s 2ms/step - loss: 0.0765 - accuracy: 0.9674 - precision: 0.9634 - a=recall: 0.9721\n",
            "Epoch 464/500\n",
            "110/110 [==============================] - 0s 2ms/step - loss: 0.0748 - accuracy: 0.9680 - precision: 0.9692 - a=recall: 0.9670\n",
            "Epoch 465/500\n",
            "110/110 [==============================] - 0s 2ms/step - loss: 0.0748 - accuracy: 0.9703 - precision: 0.9688 - a=recall: 0.9721\n",
            "Epoch 466/500\n",
            "110/110 [==============================] - 0s 2ms/step - loss: 0.0761 - accuracy: 0.9697 - precision: 0.9709 - a=recall: 0.9687\n",
            "Epoch 467/500\n",
            "110/110 [==============================] - 0s 2ms/step - loss: 0.0748 - accuracy: 0.9711 - precision: 0.9705 - a=recall: 0.9721\n",
            "Epoch 468/500\n",
            "110/110 [==============================] - 0s 2ms/step - loss: 0.0781 - accuracy: 0.9674 - precision: 0.9681 - a=recall: 0.9670\n",
            "Epoch 469/500\n",
            "110/110 [==============================] - 0s 2ms/step - loss: 0.0741 - accuracy: 0.9686 - precision: 0.9671 - a=recall: 0.9704\n",
            "Epoch 470/500\n",
            "110/110 [==============================] - 0s 2ms/step - loss: 0.0758 - accuracy: 0.9694 - precision: 0.9677 - a=recall: 0.9716\n",
            "Epoch 471/500\n",
            "110/110 [==============================] - 0s 2ms/step - loss: 0.0754 - accuracy: 0.9669 - precision: 0.9681 - a=recall: 0.9659\n",
            "Epoch 472/500\n",
            "110/110 [==============================] - 0s 2ms/step - loss: 0.0764 - accuracy: 0.9709 - precision: 0.9726 - a=recall: 0.9693\n",
            "Epoch 473/500\n",
            "110/110 [==============================] - 0s 2ms/step - loss: 0.0757 - accuracy: 0.9697 - precision: 0.9688 - a=recall: 0.9710\n",
            "Epoch 474/500\n",
            "110/110 [==============================] - 0s 2ms/step - loss: 0.0749 - accuracy: 0.9691 - precision: 0.9698 - a=recall: 0.9687\n",
            "Epoch 475/500\n",
            "110/110 [==============================] - 0s 2ms/step - loss: 0.0767 - accuracy: 0.9689 - precision: 0.9709 - a=recall: 0.9670\n",
            "Epoch 476/500\n",
            "110/110 [==============================] - 0s 2ms/step - loss: 0.0749 - accuracy: 0.9697 - precision: 0.9699 - a=recall: 0.9699\n",
            "Epoch 477/500\n",
            "110/110 [==============================] - 0s 2ms/step - loss: 0.0750 - accuracy: 0.9686 - precision: 0.9666 - a=recall: 0.9710\n",
            "Epoch 478/500\n",
            "110/110 [==============================] - 0s 2ms/step - loss: 0.0746 - accuracy: 0.9694 - precision: 0.9699 - a=recall: 0.9693\n",
            "Epoch 479/500\n",
            "110/110 [==============================] - 0s 2ms/step - loss: 0.0753 - accuracy: 0.9680 - precision: 0.9682 - a=recall: 0.9682\n",
            "Epoch 480/500\n",
            "110/110 [==============================] - 0s 2ms/step - loss: 0.0746 - accuracy: 0.9694 - precision: 0.9688 - a=recall: 0.9704\n",
            "Epoch 481/500\n",
            "110/110 [==============================] - 0s 2ms/step - loss: 0.0748 - accuracy: 0.9703 - precision: 0.9731 - a=recall: 0.9676\n",
            "Epoch 482/500\n",
            "110/110 [==============================] - 0s 2ms/step - loss: 0.0749 - accuracy: 0.9706 - precision: 0.9673 - a=recall: 0.9744\n",
            "Epoch 483/500\n",
            "110/110 [==============================] - 0s 2ms/step - loss: 0.0771 - accuracy: 0.9677 - precision: 0.9655 - a=recall: 0.9704\n",
            "Epoch 484/500\n",
            "110/110 [==============================] - 0s 2ms/step - loss: 0.0743 - accuracy: 0.9697 - precision: 0.9709 - a=recall: 0.9687\n",
            "Epoch 485/500\n",
            "110/110 [==============================] - 0s 2ms/step - loss: 0.0757 - accuracy: 0.9697 - precision: 0.9699 - a=recall: 0.9699\n",
            "Epoch 486/500\n",
            "110/110 [==============================] - 0s 2ms/step - loss: 0.0751 - accuracy: 0.9691 - precision: 0.9693 - a=recall: 0.9693\n",
            "Epoch 487/500\n",
            "110/110 [==============================] - 0s 2ms/step - loss: 0.0740 - accuracy: 0.9694 - precision: 0.9688 - a=recall: 0.9704\n",
            "Epoch 488/500\n",
            "110/110 [==============================] - 0s 2ms/step - loss: 0.0750 - accuracy: 0.9691 - precision: 0.9672 - a=recall: 0.9716\n",
            "Epoch 489/500\n",
            "110/110 [==============================] - 0s 2ms/step - loss: 0.0766 - accuracy: 0.9674 - precision: 0.9665 - a=recall: 0.9687\n",
            "Epoch 490/500\n",
            "110/110 [==============================] - 0s 2ms/step - loss: 0.0754 - accuracy: 0.9674 - precision: 0.9681 - a=recall: 0.9670\n",
            "Epoch 491/500\n",
            "110/110 [==============================] - 0s 2ms/step - loss: 0.0745 - accuracy: 0.9683 - precision: 0.9650 - a=recall: 0.9721\n",
            "Epoch 492/500\n",
            "110/110 [==============================] - 0s 2ms/step - loss: 0.0743 - accuracy: 0.9697 - precision: 0.9683 - a=recall: 0.9716\n",
            "Epoch 493/500\n",
            "110/110 [==============================] - 0s 2ms/step - loss: 0.0771 - accuracy: 0.9671 - precision: 0.9649 - a=recall: 0.9699\n",
            "Epoch 494/500\n",
            "110/110 [==============================] - 0s 2ms/step - loss: 0.0742 - accuracy: 0.9697 - precision: 0.9699 - a=recall: 0.9699\n",
            "Epoch 495/500\n",
            "110/110 [==============================] - 0s 2ms/step - loss: 0.0740 - accuracy: 0.9677 - precision: 0.9666 - a=recall: 0.9693\n",
            "Epoch 496/500\n",
            "110/110 [==============================] - 0s 2ms/step - loss: 0.0752 - accuracy: 0.9689 - precision: 0.9693 - a=recall: 0.9687\n",
            "Epoch 497/500\n",
            "110/110 [==============================] - 0s 2ms/step - loss: 0.0806 - accuracy: 0.9666 - precision: 0.9665 - a=recall: 0.9670\n",
            "Epoch 498/500\n",
            "110/110 [==============================] - 0s 2ms/step - loss: 0.0762 - accuracy: 0.9689 - precision: 0.9666 - a=recall: 0.9716\n",
            "Epoch 499/500\n",
            "110/110 [==============================] - 0s 2ms/step - loss: 0.0755 - accuracy: 0.9703 - precision: 0.9688 - a=recall: 0.9721\n",
            "Epoch 500/500\n",
            "110/110 [==============================] - 0s 2ms/step - loss: 0.0742 - accuracy: 0.9700 - precision: 0.9699 - a=recall: 0.9704\n"
          ]
        }
      ],
      "source": [
        "history= model.fit(X_train, y_train, epochs= 500)"
      ]
    },
    {
      "cell_type": "code",
      "execution_count": 65,
      "metadata": {
        "colab": {
          "base_uri": "https://localhost:8080/",
          "height": 295
        },
        "id": "AV6bAOmfNgMK",
        "outputId": "8150f003-2a34-4ecf-c108-c1e06cf58cc7"
      },
      "outputs": [
        {
          "output_type": "execute_result",
          "data": {
            "text/plain": [
              "<matplotlib.axes._subplots.AxesSubplot at 0x7fde923b9210>"
            ]
          },
          "metadata": {},
          "execution_count": 65
        },
        {
          "output_type": "display_data",
          "data": {
            "text/plain": [
              "<Figure size 432x288 with 1 Axes>"
            ],
            "image/png": "[encoded data removed]"
          },
          "metadata": {}
        }
      ],
      "source": [
        "pd.DataFrame(history.history).plot()"
      ]
    },
    {
      "cell_type": "code",
      "source": [
        "model.evaluate(X_test, y_test)"
      ],
      "metadata": {
        "colab": {
          "base_uri": "https://localhost:8080/"
        },
        "id": "PcyXs_aVYNK1",
        "outputId": "af8b5b89-4dea-439a-eec9-e974e5ce6bc3"
      },
      "execution_count": 67,
      "outputs": [
        {
          "output_type": "stream",
          "name": "stdout",
          "text": [
            "47/47 [==============================] - 0s 1ms/step - loss: 0.0785 - accuracy: 0.9660 - precision: 0.9625 - a=recall: 0.9690\n"
          ]
        },
        {
          "output_type": "execute_result",
          "data": {
            "text/plain": [
              "[0.07849664241075516,\n",
              " 0.9660226702690125,\n",
              " 0.962516725063324,\n",
              " 0.9690027236938477]"
            ]
          },
          "metadata": {},
          "execution_count": 67
        }
      ]
    },
    {
      "cell_type": "code",
      "execution_count": 68,
      "metadata": {
        "id": "4IQCHmZrOZD8"
      },
      "outputs": [],
      "source": [
        "tf.random.set_seed(55)\n",
        "model1= tf.keras.Sequential([\n",
        "                            tf.keras.layers.Dense(5, activation='relu'),\n",
        "                            tf.keras.layers.Dense(2, activation='relu'),\n",
        "                            tf.keras.layers.Dense(1, activation='sigmoid')\n",
        "])"
      ]
    },
    {
      "cell_type": "code",
      "execution_count": 69,
      "metadata": {
        "colab": {
          "base_uri": "https://localhost:8080/"
        },
        "id": "CCYruXO0Oe4r",
        "outputId": "86d3208f-5bc7-4ace-f698-8a742a76f834"
      },
      "outputs": [
        {
          "output_type": "stream",
          "name": "stderr",
          "text": [
            "/usr/local/lib/python3.7/dist-packages/keras/optimizer_v2/gradient_descent.py:102: UserWarning: The `lr` argument is deprecated, use `learning_rate` instead.\n",
            "  super(SGD, self).__init__(name, **kwargs)\n"
          ]
        }
      ],
      "source": [
        "model1.compile(loss= tf.keras.losses.binary_crossentropy,\n",
        "              optimizer= tf.keras.optimizers.SGD(lr=0.01),\n",
        "              metrics= [tf.keras.metrics.BinaryAccuracy(name='accuracy'),\n",
        "                        tf.keras.metrics.Precision(name='precision'),\n",
        "                        tf.keras.metrics.Recall(name='a=recall')\n",
        "              ]\n",
        "              )"
      ]
    },
    {
      "cell_type": "code",
      "execution_count": 70,
      "metadata": {
        "colab": {
          "base_uri": "https://localhost:8080/"
        },
        "id": "UAOntHBDPB76",
        "outputId": "a5bef779-428b-45e4-e3e5-3c33db00b19b"
      },
      "outputs": [
        {
          "output_type": "stream",
          "name": "stdout",
          "text": [
            "Epoch 1/400\n",
            "110/110 [==============================] - 1s 2ms/step - loss: 0.7239 - accuracy: 0.4974 - precision: 0.0000e+00 - a=recall: 0.0000e+00\n",
            "Epoch 2/400\n",
            "110/110 [==============================] - 0s 2ms/step - loss: 0.6736 - accuracy: 0.4977 - precision: 1.0000 - a=recall: 5.6850e-04\n",
            "Epoch 3/400\n",
            "110/110 [==============================] - 0s 2ms/step - loss: 0.6614 - accuracy: 0.5674 - precision: 0.9804 - a=recall: 0.1421\n",
            "Epoch 4/400\n",
            "110/110 [==============================] - 0s 2ms/step - loss: 0.6379 - accuracy: 0.7126 - precision: 0.9245 - a=recall: 0.4662\n",
            "Epoch 5/400\n",
            "110/110 [==============================] - 0s 2ms/step - loss: 0.5956 - accuracy: 0.7943 - precision: 0.9206 - a=recall: 0.6464\n",
            "Epoch 6/400\n",
            "110/110 [==============================] - 0s 2ms/step - loss: 0.5366 - accuracy: 0.8366 - precision: 0.9520 - a=recall: 0.7106\n",
            "Epoch 7/400\n",
            "110/110 [==============================] - 0s 2ms/step - loss: 0.4723 - accuracy: 0.8629 - precision: 0.9644 - a=recall: 0.7550\n",
            "Epoch 8/400\n",
            "110/110 [==============================] - 0s 2ms/step - loss: 0.4162 - accuracy: 0.8806 - precision: 0.9692 - a=recall: 0.7874\n",
            "Epoch 9/400\n",
            "110/110 [==============================] - 0s 2ms/step - loss: 0.3706 - accuracy: 0.8926 - precision: 0.9675 - a=recall: 0.8135\n",
            "Epoch 10/400\n",
            "110/110 [==============================] - 0s 2ms/step - loss: 0.3345 - accuracy: 0.9111 - precision: 0.9677 - a=recall: 0.8516\n",
            "Epoch 11/400\n",
            "110/110 [==============================] - 0s 2ms/step - loss: 0.2998 - accuracy: 0.9360 - precision: 0.9688 - a=recall: 0.9016\n",
            "Epoch 12/400\n",
            "110/110 [==============================] - 0s 2ms/step - loss: 0.2721 - accuracy: 0.9449 - precision: 0.9672 - a=recall: 0.9215\n",
            "Epoch 13/400\n",
            "110/110 [==============================] - 0s 2ms/step - loss: 0.2467 - accuracy: 0.9503 - precision: 0.9687 - a=recall: 0.9312\n",
            "Epoch 14/400\n",
            "110/110 [==============================] - 0s 2ms/step - loss: 0.2280 - accuracy: 0.9537 - precision: 0.9645 - a=recall: 0.9426\n",
            "Epoch 15/400\n",
            "110/110 [==============================] - 0s 1ms/step - loss: 0.2128 - accuracy: 0.9520 - precision: 0.9666 - a=recall: 0.9369\n",
            "Epoch 16/400\n",
            "110/110 [==============================] - 0s 2ms/step - loss: 0.1993 - accuracy: 0.9531 - precision: 0.9645 - a=recall: 0.9414\n",
            "Epoch 17/400\n",
            "110/110 [==============================] - 0s 2ms/step - loss: 0.1886 - accuracy: 0.9549 - precision: 0.9635 - a=recall: 0.9460\n",
            "Epoch 18/400\n",
            "110/110 [==============================] - 0s 2ms/step - loss: 0.1783 - accuracy: 0.9586 - precision: 0.9697 - a=recall: 0.9471\n",
            "Epoch 19/400\n",
            "110/110 [==============================] - 0s 2ms/step - loss: 0.1704 - accuracy: 0.9569 - precision: 0.9680 - a=recall: 0.9454\n",
            "Epoch 20/400\n",
            "110/110 [==============================] - 0s 2ms/step - loss: 0.1654 - accuracy: 0.9560 - precision: 0.9674 - a=recall: 0.9443\n",
            "Epoch 21/400\n",
            "110/110 [==============================] - 0s 2ms/step - loss: 0.1595 - accuracy: 0.9560 - precision: 0.9641 - a=recall: 0.9477\n",
            "Epoch 22/400\n",
            "110/110 [==============================] - 0s 2ms/step - loss: 0.1513 - accuracy: 0.9571 - precision: 0.9658 - a=recall: 0.9483\n",
            "Epoch 23/400\n",
            "110/110 [==============================] - 0s 2ms/step - loss: 0.1488 - accuracy: 0.9583 - precision: 0.9654 - a=recall: 0.9511\n",
            "Epoch 24/400\n",
            "110/110 [==============================] - 0s 2ms/step - loss: 0.1472 - accuracy: 0.9526 - precision: 0.9617 - a=recall: 0.9431\n",
            "Epoch 25/400\n",
            "110/110 [==============================] - 0s 2ms/step - loss: 0.1402 - accuracy: 0.9586 - precision: 0.9681 - a=recall: 0.9488\n",
            "Epoch 26/400\n",
            "110/110 [==============================] - 0s 2ms/step - loss: 0.1363 - accuracy: 0.9574 - precision: 0.9648 - a=recall: 0.9500\n",
            "Epoch 27/400\n",
            "110/110 [==============================] - 0s 2ms/step - loss: 0.1345 - accuracy: 0.9563 - precision: 0.9636 - a=recall: 0.9488\n",
            "Epoch 28/400\n",
            "110/110 [==============================] - 0s 2ms/step - loss: 0.1311 - accuracy: 0.9591 - precision: 0.9681 - a=recall: 0.9500\n",
            "Epoch 29/400\n",
            "110/110 [==============================] - 0s 2ms/step - loss: 0.1314 - accuracy: 0.9566 - precision: 0.9615 - a=recall: 0.9517\n",
            "Epoch 30/400\n",
            "110/110 [==============================] - 0s 2ms/step - loss: 0.1271 - accuracy: 0.9574 - precision: 0.9611 - a=recall: 0.9540\n",
            "Epoch 31/400\n",
            "110/110 [==============================] - 0s 2ms/step - loss: 0.1251 - accuracy: 0.9589 - precision: 0.9665 - a=recall: 0.9511\n",
            "Epoch 32/400\n",
            "110/110 [==============================] - 0s 2ms/step - loss: 0.1249 - accuracy: 0.9566 - precision: 0.9610 - a=recall: 0.9522\n",
            "Epoch 33/400\n",
            "110/110 [==============================] - 0s 2ms/step - loss: 0.1211 - accuracy: 0.9611 - precision: 0.9656 - a=recall: 0.9568\n",
            "Epoch 34/400\n",
            "110/110 [==============================] - 0s 2ms/step - loss: 0.1222 - accuracy: 0.9571 - precision: 0.9642 - a=recall: 0.9500\n",
            "Epoch 35/400\n",
            "110/110 [==============================] - 0s 2ms/step - loss: 0.1181 - accuracy: 0.9591 - precision: 0.9617 - a=recall: 0.9568\n",
            "Epoch 36/400\n",
            "110/110 [==============================] - 0s 2ms/step - loss: 0.1185 - accuracy: 0.9606 - precision: 0.9677 - a=recall: 0.9534\n",
            "Epoch 37/400\n",
            "110/110 [==============================] - 0s 2ms/step - loss: 0.1177 - accuracy: 0.9589 - precision: 0.9638 - a=recall: 0.9540\n",
            "Epoch 38/400\n",
            "110/110 [==============================] - 0s 2ms/step - loss: 0.1165 - accuracy: 0.9571 - precision: 0.9574 - a=recall: 0.9574\n",
            "Epoch 39/400\n",
            "110/110 [==============================] - 0s 2ms/step - loss: 0.1141 - accuracy: 0.9597 - precision: 0.9623 - a=recall: 0.9574\n",
            "Epoch 40/400\n",
            "110/110 [==============================] - 0s 2ms/step - loss: 0.1144 - accuracy: 0.9589 - precision: 0.9649 - a=recall: 0.9528\n",
            "Epoch 41/400\n",
            "110/110 [==============================] - 0s 2ms/step - loss: 0.1140 - accuracy: 0.9551 - precision: 0.9609 - a=recall: 0.9494\n",
            "Epoch 42/400\n",
            "110/110 [==============================] - 0s 2ms/step - loss: 0.1106 - accuracy: 0.9591 - precision: 0.9649 - a=recall: 0.9534\n",
            "Epoch 43/400\n",
            "110/110 [==============================] - 0s 2ms/step - loss: 0.1091 - accuracy: 0.9631 - precision: 0.9679 - a=recall: 0.9585\n",
            "Epoch 44/400\n",
            "110/110 [==============================] - 0s 2ms/step - loss: 0.1087 - accuracy: 0.9623 - precision: 0.9635 - a=recall: 0.9613\n",
            "Epoch 45/400\n",
            "110/110 [==============================] - 0s 2ms/step - loss: 0.1093 - accuracy: 0.9589 - precision: 0.9643 - a=recall: 0.9534\n",
            "Epoch 46/400\n",
            "110/110 [==============================] - 0s 2ms/step - loss: 0.1083 - accuracy: 0.9603 - precision: 0.9613 - a=recall: 0.9596\n",
            "Epoch 47/400\n",
            "110/110 [==============================] - 0s 2ms/step - loss: 0.1076 - accuracy: 0.9606 - precision: 0.9618 - a=recall: 0.9596\n",
            "Epoch 48/400\n",
            "110/110 [==============================] - 0s 2ms/step - loss: 0.1087 - accuracy: 0.9577 - precision: 0.9611 - a=recall: 0.9545\n",
            "Epoch 49/400\n",
            "110/110 [==============================] - 0s 2ms/step - loss: 0.1061 - accuracy: 0.9597 - precision: 0.9628 - a=recall: 0.9568\n",
            "Epoch 50/400\n",
            "110/110 [==============================] - 0s 2ms/step - loss: 0.1043 - accuracy: 0.9620 - precision: 0.9604 - a=recall: 0.9642\n",
            "Epoch 51/400\n",
            "110/110 [==============================] - 0s 2ms/step - loss: 0.1065 - accuracy: 0.9583 - precision: 0.9585 - a=recall: 0.9585\n",
            "Epoch 52/400\n",
            "110/110 [==============================] - 0s 2ms/step - loss: 0.1041 - accuracy: 0.9623 - precision: 0.9646 - a=recall: 0.9602\n",
            "Epoch 53/400\n",
            "110/110 [==============================] - 0s 2ms/step - loss: 0.1063 - accuracy: 0.9574 - precision: 0.9584 - a=recall: 0.9568\n",
            "Epoch 54/400\n",
            "110/110 [==============================] - 0s 2ms/step - loss: 0.1062 - accuracy: 0.9603 - precision: 0.9639 - a=recall: 0.9568\n",
            "Epoch 55/400\n",
            "110/110 [==============================] - 0s 2ms/step - loss: 0.1084 - accuracy: 0.9571 - precision: 0.9600 - a=recall: 0.9545\n",
            "Epoch 56/400\n",
            "110/110 [==============================] - 0s 2ms/step - loss: 0.1034 - accuracy: 0.9580 - precision: 0.9580 - a=recall: 0.9585\n",
            "Epoch 57/400\n",
            "110/110 [==============================] - 0s 2ms/step - loss: 0.1019 - accuracy: 0.9626 - precision: 0.9667 - a=recall: 0.9585\n",
            "Epoch 58/400\n",
            "110/110 [==============================] - 0s 2ms/step - loss: 0.1021 - accuracy: 0.9609 - precision: 0.9640 - a=recall: 0.9579\n",
            "Epoch 59/400\n",
            "110/110 [==============================] - 0s 1ms/step - loss: 0.1013 - accuracy: 0.9609 - precision: 0.9640 - a=recall: 0.9579\n",
            "Epoch 60/400\n",
            "110/110 [==============================] - 0s 2ms/step - loss: 0.1028 - accuracy: 0.9589 - precision: 0.9617 - a=recall: 0.9562\n",
            "Epoch 61/400\n",
            "110/110 [==============================] - 0s 2ms/step - loss: 0.1039 - accuracy: 0.9577 - precision: 0.9585 - a=recall: 0.9574\n",
            "Epoch 62/400\n",
            "110/110 [==============================] - 0s 2ms/step - loss: 0.1010 - accuracy: 0.9597 - precision: 0.9612 - a=recall: 0.9585\n",
            "Epoch 63/400\n",
            "110/110 [==============================] - 0s 2ms/step - loss: 0.1030 - accuracy: 0.9600 - precision: 0.9613 - a=recall: 0.9591\n",
            "Epoch 64/400\n",
            "110/110 [==============================] - 0s 2ms/step - loss: 0.0998 - accuracy: 0.9629 - precision: 0.9646 - a=recall: 0.9613\n",
            "Epoch 65/400\n",
            "110/110 [==============================] - 0s 2ms/step - loss: 0.1022 - accuracy: 0.9600 - precision: 0.9602 - a=recall: 0.9602\n",
            "Epoch 66/400\n",
            "110/110 [==============================] - 0s 2ms/step - loss: 0.1024 - accuracy: 0.9609 - precision: 0.9634 - a=recall: 0.9585\n",
            "Epoch 67/400\n",
            "110/110 [==============================] - 0s 2ms/step - loss: 0.1000 - accuracy: 0.9606 - precision: 0.9602 - a=recall: 0.9613\n",
            "Epoch 68/400\n",
            "110/110 [==============================] - 0s 2ms/step - loss: 0.1033 - accuracy: 0.9580 - precision: 0.9611 - a=recall: 0.9551\n",
            "Epoch 69/400\n",
            "110/110 [==============================] - 0s 2ms/step - loss: 0.1035 - accuracy: 0.9574 - precision: 0.9595 - a=recall: 0.9557\n",
            "Epoch 70/400\n",
            "110/110 [==============================] - 0s 2ms/step - loss: 0.0967 - accuracy: 0.9611 - precision: 0.9629 - a=recall: 0.9596\n",
            "Epoch 71/400\n",
            "110/110 [==============================] - 0s 2ms/step - loss: 0.0986 - accuracy: 0.9591 - precision: 0.9596 - a=recall: 0.9591\n",
            "Epoch 72/400\n",
            "110/110 [==============================] - 0s 2ms/step - loss: 0.0992 - accuracy: 0.9629 - precision: 0.9604 - a=recall: 0.9659\n",
            "Epoch 73/400\n",
            "110/110 [==============================] - 0s 2ms/step - loss: 0.0991 - accuracy: 0.9597 - precision: 0.9618 - a=recall: 0.9579\n",
            "Epoch 74/400\n",
            "110/110 [==============================] - 0s 2ms/step - loss: 0.0990 - accuracy: 0.9566 - precision: 0.9589 - a=recall: 0.9545\n",
            "Epoch 75/400\n",
            "110/110 [==============================] - 0s 2ms/step - loss: 0.0974 - accuracy: 0.9631 - precision: 0.9625 - a=recall: 0.9642\n",
            "Epoch 76/400\n",
            "110/110 [==============================] - 0s 2ms/step - loss: 0.0957 - accuracy: 0.9646 - precision: 0.9642 - a=recall: 0.9653\n",
            "Epoch 77/400\n",
            "110/110 [==============================] - 0s 2ms/step - loss: 0.0966 - accuracy: 0.9623 - precision: 0.9651 - a=recall: 0.9596\n",
            "Epoch 78/400\n",
            "110/110 [==============================] - 0s 2ms/step - loss: 0.0974 - accuracy: 0.9651 - precision: 0.9664 - a=recall: 0.9642\n",
            "Epoch 79/400\n",
            "110/110 [==============================] - 0s 2ms/step - loss: 0.1014 - accuracy: 0.9611 - precision: 0.9598 - a=recall: 0.9630\n",
            "Epoch 80/400\n",
            "110/110 [==============================] - 0s 2ms/step - loss: 0.0970 - accuracy: 0.9609 - precision: 0.9598 - a=recall: 0.9625\n",
            "Epoch 81/400\n",
            "110/110 [==============================] - 0s 2ms/step - loss: 0.0987 - accuracy: 0.9594 - precision: 0.9596 - a=recall: 0.9596\n",
            "Epoch 82/400\n",
            "110/110 [==============================] - 0s 1ms/step - loss: 0.0996 - accuracy: 0.9583 - precision: 0.9601 - a=recall: 0.9568\n",
            "Epoch 83/400\n",
            "110/110 [==============================] - 0s 2ms/step - loss: 0.0965 - accuracy: 0.9629 - precision: 0.9625 - a=recall: 0.9636\n",
            "Epoch 84/400\n",
            "110/110 [==============================] - 0s 2ms/step - loss: 0.0956 - accuracy: 0.9626 - precision: 0.9636 - a=recall: 0.9619\n",
            "Epoch 85/400\n",
            "110/110 [==============================] - 0s 2ms/step - loss: 0.0978 - accuracy: 0.9580 - precision: 0.9569 - a=recall: 0.9596\n",
            "Epoch 86/400\n",
            "110/110 [==============================] - 0s 2ms/step - loss: 0.0960 - accuracy: 0.9591 - precision: 0.9591 - a=recall: 0.9596\n",
            "Epoch 87/400\n",
            "110/110 [==============================] - 0s 2ms/step - loss: 0.0966 - accuracy: 0.9597 - precision: 0.9628 - a=recall: 0.9568\n",
            "Epoch 88/400\n",
            "110/110 [==============================] - 0s 2ms/step - loss: 0.0954 - accuracy: 0.9591 - precision: 0.9586 - a=recall: 0.9602\n",
            "Epoch 89/400\n",
            "110/110 [==============================] - 0s 2ms/step - loss: 0.0937 - accuracy: 0.9626 - precision: 0.9620 - a=recall: 0.9636\n",
            "Epoch 90/400\n",
            "110/110 [==============================] - 0s 2ms/step - loss: 0.0987 - accuracy: 0.9594 - precision: 0.9596 - a=recall: 0.9596\n",
            "Epoch 91/400\n",
            "110/110 [==============================] - 0s 2ms/step - loss: 0.0953 - accuracy: 0.9654 - precision: 0.9648 - a=recall: 0.9665\n",
            "Epoch 92/400\n",
            "110/110 [==============================] - 0s 2ms/step - loss: 0.0962 - accuracy: 0.9600 - precision: 0.9618 - a=recall: 0.9585\n",
            "Epoch 93/400\n",
            "110/110 [==============================] - 0s 2ms/step - loss: 0.0967 - accuracy: 0.9600 - precision: 0.9581 - a=recall: 0.9625\n",
            "Epoch 94/400\n",
            "110/110 [==============================] - 0s 2ms/step - loss: 0.0964 - accuracy: 0.9623 - precision: 0.9635 - a=recall: 0.9613\n",
            "Epoch 95/400\n",
            "110/110 [==============================] - 0s 2ms/step - loss: 0.0959 - accuracy: 0.9606 - precision: 0.9597 - a=recall: 0.9619\n",
            "Epoch 96/400\n",
            "110/110 [==============================] - 0s 2ms/step - loss: 0.0945 - accuracy: 0.9603 - precision: 0.9629 - a=recall: 0.9579\n",
            "Epoch 97/400\n",
            "110/110 [==============================] - 0s 2ms/step - loss: 0.0941 - accuracy: 0.9623 - precision: 0.9573 - a=recall: 0.9682\n",
            "Epoch 98/400\n",
            "110/110 [==============================] - 0s 2ms/step - loss: 0.0957 - accuracy: 0.9606 - precision: 0.9602 - a=recall: 0.9613\n",
            "Epoch 99/400\n",
            "110/110 [==============================] - 0s 2ms/step - loss: 0.0938 - accuracy: 0.9623 - precision: 0.9651 - a=recall: 0.9596\n",
            "Epoch 100/400\n",
            "110/110 [==============================] - 0s 2ms/step - loss: 0.0948 - accuracy: 0.9623 - precision: 0.9635 - a=recall: 0.9613\n",
            "Epoch 101/400\n",
            "110/110 [==============================] - 0s 2ms/step - loss: 0.0929 - accuracy: 0.9637 - precision: 0.9652 - a=recall: 0.9625\n",
            "Epoch 102/400\n",
            "110/110 [==============================] - 0s 2ms/step - loss: 0.0945 - accuracy: 0.9629 - precision: 0.9630 - a=recall: 0.9630\n",
            "Epoch 103/400\n",
            "110/110 [==============================] - 0s 2ms/step - loss: 0.0928 - accuracy: 0.9643 - precision: 0.9637 - a=recall: 0.9653\n",
            "Epoch 104/400\n",
            "110/110 [==============================] - 0s 2ms/step - loss: 0.0966 - accuracy: 0.9589 - precision: 0.9575 - a=recall: 0.9608\n",
            "Epoch 105/400\n",
            "110/110 [==============================] - 0s 2ms/step - loss: 0.0953 - accuracy: 0.9611 - precision: 0.9608 - a=recall: 0.9619\n",
            "Epoch 106/400\n",
            "110/110 [==============================] - 0s 2ms/step - loss: 0.0953 - accuracy: 0.9603 - precision: 0.9639 - a=recall: 0.9568\n",
            "Epoch 107/400\n",
            "110/110 [==============================] - 0s 2ms/step - loss: 0.0959 - accuracy: 0.9603 - precision: 0.9644 - a=recall: 0.9562\n",
            "Epoch 108/400\n",
            "110/110 [==============================] - 0s 2ms/step - loss: 0.0931 - accuracy: 0.9634 - precision: 0.9641 - a=recall: 0.9630\n",
            "Epoch 109/400\n",
            "110/110 [==============================] - 0s 2ms/step - loss: 0.0926 - accuracy: 0.9620 - precision: 0.9604 - a=recall: 0.9642\n",
            "Epoch 110/400\n",
            "110/110 [==============================] - 0s 2ms/step - loss: 0.0941 - accuracy: 0.9634 - precision: 0.9641 - a=recall: 0.9630\n",
            "Epoch 111/400\n",
            "110/110 [==============================] - 0s 2ms/step - loss: 0.0938 - accuracy: 0.9617 - precision: 0.9603 - a=recall: 0.9636\n",
            "Epoch 112/400\n",
            "110/110 [==============================] - 0s 2ms/step - loss: 0.0949 - accuracy: 0.9606 - precision: 0.9608 - a=recall: 0.9608\n",
            "Epoch 113/400\n",
            "110/110 [==============================] - 0s 2ms/step - loss: 0.0942 - accuracy: 0.9606 - precision: 0.9587 - a=recall: 0.9630\n",
            "Epoch 114/400\n",
            "110/110 [==============================] - 0s 2ms/step - loss: 0.0938 - accuracy: 0.9606 - precision: 0.9608 - a=recall: 0.9608\n",
            "Epoch 115/400\n",
            "110/110 [==============================] - 0s 2ms/step - loss: 0.0920 - accuracy: 0.9629 - precision: 0.9662 - a=recall: 0.9596\n",
            "Epoch 116/400\n",
            "110/110 [==============================] - 0s 2ms/step - loss: 0.0941 - accuracy: 0.9609 - precision: 0.9608 - a=recall: 0.9613\n",
            "Epoch 117/400\n",
            "110/110 [==============================] - 0s 2ms/step - loss: 0.0923 - accuracy: 0.9637 - precision: 0.9615 - a=recall: 0.9665\n",
            "Epoch 118/400\n",
            "110/110 [==============================] - 0s 2ms/step - loss: 0.0929 - accuracy: 0.9609 - precision: 0.9598 - a=recall: 0.9625\n",
            "Epoch 119/400\n",
            "110/110 [==============================] - 0s 2ms/step - loss: 0.0933 - accuracy: 0.9634 - precision: 0.9620 - a=recall: 0.9653\n",
            "Epoch 120/400\n",
            "110/110 [==============================] - 0s 2ms/step - loss: 0.0948 - accuracy: 0.9580 - precision: 0.9590 - a=recall: 0.9574\n",
            "Epoch 121/400\n",
            "110/110 [==============================] - 0s 2ms/step - loss: 0.0919 - accuracy: 0.9634 - precision: 0.9626 - a=recall: 0.9648\n",
            "Epoch 122/400\n",
            "110/110 [==============================] - 0s 2ms/step - loss: 0.0918 - accuracy: 0.9603 - precision: 0.9587 - a=recall: 0.9625\n",
            "Epoch 123/400\n",
            "110/110 [==============================] - 0s 2ms/step - loss: 0.0921 - accuracy: 0.9583 - precision: 0.9544 - a=recall: 0.9630\n",
            "Epoch 124/400\n",
            "110/110 [==============================] - 0s 2ms/step - loss: 0.0919 - accuracy: 0.9597 - precision: 0.9576 - a=recall: 0.9625\n",
            "Epoch 125/400\n",
            "110/110 [==============================] - 0s 2ms/step - loss: 0.0899 - accuracy: 0.9660 - precision: 0.9664 - a=recall: 0.9659\n",
            "Epoch 126/400\n",
            "110/110 [==============================] - 0s 2ms/step - loss: 0.0909 - accuracy: 0.9626 - precision: 0.9651 - a=recall: 0.9602\n",
            "Epoch 127/400\n",
            "110/110 [==============================] - 0s 2ms/step - loss: 0.0917 - accuracy: 0.9594 - precision: 0.9602 - a=recall: 0.9591\n",
            "Epoch 128/400\n",
            "110/110 [==============================] - 0s 2ms/step - loss: 0.0953 - accuracy: 0.9611 - precision: 0.9613 - a=recall: 0.9613\n",
            "Epoch 129/400\n",
            "110/110 [==============================] - 0s 2ms/step - loss: 0.0908 - accuracy: 0.9651 - precision: 0.9653 - a=recall: 0.9653\n",
            "Epoch 130/400\n",
            "110/110 [==============================] - 0s 2ms/step - loss: 0.0946 - accuracy: 0.9623 - precision: 0.9651 - a=recall: 0.9596\n",
            "Epoch 131/400\n",
            "110/110 [==============================] - 0s 2ms/step - loss: 0.0916 - accuracy: 0.9611 - precision: 0.9613 - a=recall: 0.9613\n",
            "Epoch 132/400\n",
            "110/110 [==============================] - 0s 2ms/step - loss: 0.0913 - accuracy: 0.9594 - precision: 0.9560 - a=recall: 0.9636\n",
            "Epoch 133/400\n",
            "110/110 [==============================] - 0s 2ms/step - loss: 0.0927 - accuracy: 0.9591 - precision: 0.9622 - a=recall: 0.9562\n",
            "Epoch 134/400\n",
            "110/110 [==============================] - 0s 2ms/step - loss: 0.0948 - accuracy: 0.9591 - precision: 0.9617 - a=recall: 0.9568\n",
            "Epoch 135/400\n",
            "110/110 [==============================] - 0s 2ms/step - loss: 0.0920 - accuracy: 0.9606 - precision: 0.9624 - a=recall: 0.9591\n",
            "Epoch 136/400\n",
            "110/110 [==============================] - 0s 2ms/step - loss: 0.0917 - accuracy: 0.9637 - precision: 0.9642 - a=recall: 0.9636\n",
            "Epoch 137/400\n",
            "110/110 [==============================] - 0s 2ms/step - loss: 0.0922 - accuracy: 0.9603 - precision: 0.9576 - a=recall: 0.9636\n",
            "Epoch 138/400\n",
            "110/110 [==============================] - 0s 2ms/step - loss: 0.0920 - accuracy: 0.9594 - precision: 0.9596 - a=recall: 0.9596\n",
            "Epoch 139/400\n",
            "110/110 [==============================] - 0s 2ms/step - loss: 0.0875 - accuracy: 0.9663 - precision: 0.9681 - a=recall: 0.9648\n",
            "Epoch 140/400\n",
            "110/110 [==============================] - 0s 2ms/step - loss: 0.0908 - accuracy: 0.9631 - precision: 0.9668 - a=recall: 0.9596\n",
            "Epoch 141/400\n",
            "110/110 [==============================] - 0s 2ms/step - loss: 0.0902 - accuracy: 0.9609 - precision: 0.9618 - a=recall: 0.9602\n",
            "Epoch 142/400\n",
            "110/110 [==============================] - 0s 2ms/step - loss: 0.0912 - accuracy: 0.9611 - precision: 0.9619 - a=recall: 0.9608\n",
            "Epoch 143/400\n",
            "110/110 [==============================] - 0s 2ms/step - loss: 0.0903 - accuracy: 0.9643 - precision: 0.9621 - a=recall: 0.9670\n",
            "Epoch 144/400\n",
            "110/110 [==============================] - 0s 2ms/step - loss: 0.0908 - accuracy: 0.9629 - precision: 0.9630 - a=recall: 0.9630\n",
            "Epoch 145/400\n",
            "110/110 [==============================] - 0s 2ms/step - loss: 0.0906 - accuracy: 0.9611 - precision: 0.9598 - a=recall: 0.9630\n",
            "Epoch 146/400\n",
            "110/110 [==============================] - 0s 2ms/step - loss: 0.0904 - accuracy: 0.9634 - precision: 0.9626 - a=recall: 0.9648\n",
            "Epoch 147/400\n",
            "110/110 [==============================] - 0s 2ms/step - loss: 0.0920 - accuracy: 0.9606 - precision: 0.9613 - a=recall: 0.9602\n",
            "Epoch 148/400\n",
            "110/110 [==============================] - 0s 2ms/step - loss: 0.0911 - accuracy: 0.9594 - precision: 0.9617 - a=recall: 0.9574\n",
            "Epoch 149/400\n",
            "110/110 [==============================] - 0s 2ms/step - loss: 0.0891 - accuracy: 0.9614 - precision: 0.9635 - a=recall: 0.9596\n",
            "Epoch 150/400\n",
            "110/110 [==============================] - 0s 2ms/step - loss: 0.0902 - accuracy: 0.9629 - precision: 0.9615 - a=recall: 0.9648\n",
            "Epoch 151/400\n",
            "110/110 [==============================] - 0s 2ms/step - loss: 0.0890 - accuracy: 0.9640 - precision: 0.9658 - a=recall: 0.9625\n",
            "Epoch 152/400\n",
            "110/110 [==============================] - 0s 2ms/step - loss: 0.0898 - accuracy: 0.9634 - precision: 0.9636 - a=recall: 0.9636\n",
            "Epoch 153/400\n",
            "110/110 [==============================] - 0s 2ms/step - loss: 0.0894 - accuracy: 0.9657 - precision: 0.9654 - a=recall: 0.9665\n",
            "Epoch 154/400\n",
            "110/110 [==============================] - 0s 2ms/step - loss: 0.0869 - accuracy: 0.9660 - precision: 0.9659 - a=recall: 0.9665\n",
            "Epoch 155/400\n",
            "110/110 [==============================] - 0s 2ms/step - loss: 0.0894 - accuracy: 0.9634 - precision: 0.9652 - a=recall: 0.9619\n",
            "Epoch 156/400\n",
            "110/110 [==============================] - 0s 2ms/step - loss: 0.0896 - accuracy: 0.9629 - precision: 0.9604 - a=recall: 0.9659\n",
            "Epoch 157/400\n",
            "110/110 [==============================] - 0s 2ms/step - loss: 0.0891 - accuracy: 0.9643 - precision: 0.9637 - a=recall: 0.9653\n",
            "Epoch 158/400\n",
            "110/110 [==============================] - 0s 2ms/step - loss: 0.0915 - accuracy: 0.9609 - precision: 0.9598 - a=recall: 0.9625\n",
            "Epoch 159/400\n",
            "110/110 [==============================] - 0s 2ms/step - loss: 0.0917 - accuracy: 0.9617 - precision: 0.9640 - a=recall: 0.9596\n",
            "Epoch 160/400\n",
            "110/110 [==============================] - 0s 2ms/step - loss: 0.0921 - accuracy: 0.9600 - precision: 0.9597 - a=recall: 0.9608\n",
            "Epoch 161/400\n",
            "110/110 [==============================] - 0s 2ms/step - loss: 0.0900 - accuracy: 0.9623 - precision: 0.9625 - a=recall: 0.9625\n",
            "Epoch 162/400\n",
            "110/110 [==============================] - 0s 2ms/step - loss: 0.0879 - accuracy: 0.9660 - precision: 0.9691 - a=recall: 0.9630\n",
            "Epoch 163/400\n",
            "110/110 [==============================] - 0s 2ms/step - loss: 0.0902 - accuracy: 0.9634 - precision: 0.9626 - a=recall: 0.9648\n",
            "Epoch 164/400\n",
            "110/110 [==============================] - 0s 2ms/step - loss: 0.0883 - accuracy: 0.9614 - precision: 0.9640 - a=recall: 0.9591\n",
            "Epoch 165/400\n",
            "110/110 [==============================] - 0s 2ms/step - loss: 0.0884 - accuracy: 0.9640 - precision: 0.9642 - a=recall: 0.9642\n",
            "Epoch 166/400\n",
            "110/110 [==============================] - 0s 2ms/step - loss: 0.0899 - accuracy: 0.9626 - precision: 0.9625 - a=recall: 0.9630\n",
            "Epoch 167/400\n",
            "110/110 [==============================] - 0s 2ms/step - loss: 0.0892 - accuracy: 0.9634 - precision: 0.9610 - a=recall: 0.9665\n",
            "Epoch 168/400\n",
            "110/110 [==============================] - 0s 2ms/step - loss: 0.0875 - accuracy: 0.9626 - precision: 0.9625 - a=recall: 0.9630\n",
            "Epoch 169/400\n",
            "110/110 [==============================] - 0s 2ms/step - loss: 0.0877 - accuracy: 0.9611 - precision: 0.9629 - a=recall: 0.9596\n",
            "Epoch 170/400\n",
            "110/110 [==============================] - 0s 2ms/step - loss: 0.0877 - accuracy: 0.9649 - precision: 0.9664 - a=recall: 0.9636\n",
            "Epoch 171/400\n",
            "110/110 [==============================] - 0s 2ms/step - loss: 0.0896 - accuracy: 0.9631 - precision: 0.9636 - a=recall: 0.9630\n",
            "Epoch 172/400\n",
            "110/110 [==============================] - 0s 2ms/step - loss: 0.0891 - accuracy: 0.9643 - precision: 0.9642 - a=recall: 0.9648\n",
            "Epoch 173/400\n",
            "110/110 [==============================] - 0s 2ms/step - loss: 0.0892 - accuracy: 0.9614 - precision: 0.9614 - a=recall: 0.9619\n",
            "Epoch 174/400\n",
            "110/110 [==============================] - 0s 2ms/step - loss: 0.0889 - accuracy: 0.9629 - precision: 0.9636 - a=recall: 0.9625\n",
            "Epoch 175/400\n",
            "110/110 [==============================] - 0s 2ms/step - loss: 0.0879 - accuracy: 0.9637 - precision: 0.9621 - a=recall: 0.9659\n",
            "Epoch 176/400\n",
            "110/110 [==============================] - 0s 2ms/step - loss: 0.0893 - accuracy: 0.9637 - precision: 0.9642 - a=recall: 0.9636\n",
            "Epoch 177/400\n",
            "110/110 [==============================] - 0s 2ms/step - loss: 0.0879 - accuracy: 0.9617 - precision: 0.9598 - a=recall: 0.9642\n",
            "Epoch 178/400\n",
            "110/110 [==============================] - 0s 2ms/step - loss: 0.0873 - accuracy: 0.9631 - precision: 0.9625 - a=recall: 0.9642\n",
            "Epoch 179/400\n",
            "110/110 [==============================] - 0s 2ms/step - loss: 0.0885 - accuracy: 0.9640 - precision: 0.9679 - a=recall: 0.9602\n",
            "Epoch 180/400\n",
            "110/110 [==============================] - 0s 2ms/step - loss: 0.0911 - accuracy: 0.9600 - precision: 0.9602 - a=recall: 0.9602\n",
            "Epoch 181/400\n",
            "110/110 [==============================] - 0s 2ms/step - loss: 0.0893 - accuracy: 0.9609 - precision: 0.9645 - a=recall: 0.9574\n",
            "Epoch 182/400\n",
            "110/110 [==============================] - 0s 2ms/step - loss: 0.0893 - accuracy: 0.9649 - precision: 0.9653 - a=recall: 0.9648\n",
            "Epoch 183/400\n",
            "110/110 [==============================] - 0s 2ms/step - loss: 0.0870 - accuracy: 0.9649 - precision: 0.9680 - a=recall: 0.9619\n",
            "Epoch 184/400\n",
            "110/110 [==============================] - 0s 2ms/step - loss: 0.0891 - accuracy: 0.9629 - precision: 0.9630 - a=recall: 0.9630\n",
            "Epoch 185/400\n",
            "110/110 [==============================] - 0s 2ms/step - loss: 0.0887 - accuracy: 0.9623 - precision: 0.9614 - a=recall: 0.9636\n",
            "Epoch 186/400\n",
            "110/110 [==============================] - 0s 2ms/step - loss: 0.0895 - accuracy: 0.9617 - precision: 0.9624 - a=recall: 0.9613\n",
            "Epoch 187/400\n",
            "110/110 [==============================] - 0s 2ms/step - loss: 0.0875 - accuracy: 0.9651 - precision: 0.9664 - a=recall: 0.9642\n",
            "Epoch 188/400\n",
            "110/110 [==============================] - 0s 2ms/step - loss: 0.0881 - accuracy: 0.9631 - precision: 0.9636 - a=recall: 0.9630\n",
            "Epoch 189/400\n",
            "110/110 [==============================] - 0s 2ms/step - loss: 0.0861 - accuracy: 0.9631 - precision: 0.9647 - a=recall: 0.9619\n",
            "Epoch 190/400\n",
            "110/110 [==============================] - 0s 2ms/step - loss: 0.0859 - accuracy: 0.9649 - precision: 0.9680 - a=recall: 0.9619\n",
            "Epoch 191/400\n",
            "110/110 [==============================] - 0s 2ms/step - loss: 0.0855 - accuracy: 0.9671 - precision: 0.9670 - a=recall: 0.9676\n",
            "Epoch 192/400\n",
            "110/110 [==============================] - 0s 2ms/step - loss: 0.0878 - accuracy: 0.9617 - precision: 0.9646 - a=recall: 0.9591\n",
            "Epoch 193/400\n",
            "110/110 [==============================] - 0s 2ms/step - loss: 0.0884 - accuracy: 0.9637 - precision: 0.9636 - a=recall: 0.9642\n",
            "Epoch 194/400\n",
            "110/110 [==============================] - 0s 2ms/step - loss: 0.0874 - accuracy: 0.9634 - precision: 0.9620 - a=recall: 0.9653\n",
            "Epoch 195/400\n",
            "110/110 [==============================] - 0s 2ms/step - loss: 0.0867 - accuracy: 0.9657 - precision: 0.9664 - a=recall: 0.9653\n",
            "Epoch 196/400\n",
            "110/110 [==============================] - 0s 2ms/step - loss: 0.0878 - accuracy: 0.9637 - precision: 0.9605 - a=recall: 0.9676\n",
            "Epoch 197/400\n",
            "110/110 [==============================] - 0s 2ms/step - loss: 0.0855 - accuracy: 0.9686 - precision: 0.9687 - a=recall: 0.9687\n",
            "Epoch 198/400\n",
            "110/110 [==============================] - 0s 2ms/step - loss: 0.0873 - accuracy: 0.9640 - precision: 0.9642 - a=recall: 0.9642\n",
            "Epoch 199/400\n",
            "110/110 [==============================] - 0s 2ms/step - loss: 0.0859 - accuracy: 0.9651 - precision: 0.9664 - a=recall: 0.9642\n",
            "Epoch 200/400\n",
            "110/110 [==============================] - 0s 2ms/step - loss: 0.0863 - accuracy: 0.9611 - precision: 0.9619 - a=recall: 0.9608\n",
            "Epoch 201/400\n",
            "110/110 [==============================] - 0s 2ms/step - loss: 0.0876 - accuracy: 0.9634 - precision: 0.9620 - a=recall: 0.9653\n",
            "Epoch 202/400\n",
            "110/110 [==============================] - 0s 2ms/step - loss: 0.0851 - accuracy: 0.9649 - precision: 0.9664 - a=recall: 0.9636\n",
            "Epoch 203/400\n",
            "110/110 [==============================] - 0s 2ms/step - loss: 0.0892 - accuracy: 0.9637 - precision: 0.9621 - a=recall: 0.9659\n",
            "Epoch 204/400\n",
            "110/110 [==============================] - 0s 2ms/step - loss: 0.0856 - accuracy: 0.9646 - precision: 0.9642 - a=recall: 0.9653\n",
            "Epoch 205/400\n",
            "110/110 [==============================] - 0s 2ms/step - loss: 0.0857 - accuracy: 0.9617 - precision: 0.9656 - a=recall: 0.9579\n",
            "Epoch 206/400\n",
            "110/110 [==============================] - 0s 2ms/step - loss: 0.0863 - accuracy: 0.9634 - precision: 0.9631 - a=recall: 0.9642\n",
            "Epoch 207/400\n",
            "110/110 [==============================] - 0s 2ms/step - loss: 0.0872 - accuracy: 0.9623 - precision: 0.9630 - a=recall: 0.9619\n",
            "Epoch 208/400\n",
            "110/110 [==============================] - 0s 2ms/step - loss: 0.0864 - accuracy: 0.9651 - precision: 0.9664 - a=recall: 0.9642\n",
            "Epoch 209/400\n",
            "110/110 [==============================] - 0s 2ms/step - loss: 0.0859 - accuracy: 0.9629 - precision: 0.9646 - a=recall: 0.9613\n",
            "Epoch 210/400\n",
            "110/110 [==============================] - 0s 2ms/step - loss: 0.0863 - accuracy: 0.9646 - precision: 0.9658 - a=recall: 0.9636\n",
            "Epoch 211/400\n",
            "110/110 [==============================] - 0s 2ms/step - loss: 0.0872 - accuracy: 0.9663 - precision: 0.9675 - a=recall: 0.9653\n",
            "Epoch 212/400\n",
            "110/110 [==============================] - 0s 2ms/step - loss: 0.0874 - accuracy: 0.9620 - precision: 0.9651 - a=recall: 0.9591\n",
            "Epoch 213/400\n",
            "110/110 [==============================] - 0s 2ms/step - loss: 0.0877 - accuracy: 0.9651 - precision: 0.9653 - a=recall: 0.9653\n",
            "Epoch 214/400\n",
            "110/110 [==============================] - 0s 2ms/step - loss: 0.0848 - accuracy: 0.9654 - precision: 0.9659 - a=recall: 0.9653\n",
            "Epoch 215/400\n",
            "110/110 [==============================] - 0s 2ms/step - loss: 0.0859 - accuracy: 0.9649 - precision: 0.9685 - a=recall: 0.9613\n",
            "Epoch 216/400\n",
            "110/110 [==============================] - 0s 2ms/step - loss: 0.0858 - accuracy: 0.9629 - precision: 0.9630 - a=recall: 0.9630\n",
            "Epoch 217/400\n",
            "110/110 [==============================] - 0s 2ms/step - loss: 0.0863 - accuracy: 0.9634 - precision: 0.9641 - a=recall: 0.9630\n",
            "Epoch 218/400\n",
            "110/110 [==============================] - 0s 2ms/step - loss: 0.0887 - accuracy: 0.9623 - precision: 0.9641 - a=recall: 0.9608\n",
            "Epoch 219/400\n",
            "110/110 [==============================] - 0s 2ms/step - loss: 0.0834 - accuracy: 0.9666 - precision: 0.9675 - a=recall: 0.9659\n",
            "Epoch 220/400\n",
            "110/110 [==============================] - 0s 2ms/step - loss: 0.0841 - accuracy: 0.9654 - precision: 0.9643 - a=recall: 0.9670\n",
            "Epoch 221/400\n",
            "110/110 [==============================] - 0s 2ms/step - loss: 0.0861 - accuracy: 0.9663 - precision: 0.9670 - a=recall: 0.9659\n",
            "Epoch 222/400\n",
            "110/110 [==============================] - 0s 2ms/step - loss: 0.0845 - accuracy: 0.9646 - precision: 0.9637 - a=recall: 0.9659\n",
            "Epoch 223/400\n",
            "110/110 [==============================] - 0s 2ms/step - loss: 0.0856 - accuracy: 0.9660 - precision: 0.9702 - a=recall: 0.9619\n",
            "Epoch 224/400\n",
            "110/110 [==============================] - 0s 2ms/step - loss: 0.0855 - accuracy: 0.9629 - precision: 0.9646 - a=recall: 0.9613\n",
            "Epoch 225/400\n",
            "110/110 [==============================] - 0s 2ms/step - loss: 0.0859 - accuracy: 0.9643 - precision: 0.9647 - a=recall: 0.9642\n",
            "Epoch 226/400\n",
            "110/110 [==============================] - 0s 2ms/step - loss: 0.0858 - accuracy: 0.9640 - precision: 0.9642 - a=recall: 0.9642\n",
            "Epoch 227/400\n",
            "110/110 [==============================] - 0s 2ms/step - loss: 0.0855 - accuracy: 0.9626 - precision: 0.9630 - a=recall: 0.9625\n",
            "Epoch 228/400\n",
            "110/110 [==============================] - 0s 2ms/step - loss: 0.0857 - accuracy: 0.9660 - precision: 0.9664 - a=recall: 0.9659\n",
            "Epoch 229/400\n",
            "110/110 [==============================] - 0s 2ms/step - loss: 0.0861 - accuracy: 0.9629 - precision: 0.9630 - a=recall: 0.9630\n",
            "Epoch 230/400\n",
            "110/110 [==============================] - 0s 2ms/step - loss: 0.0851 - accuracy: 0.9663 - precision: 0.9681 - a=recall: 0.9648\n",
            "Epoch 231/400\n",
            "110/110 [==============================] - 0s 2ms/step - loss: 0.0861 - accuracy: 0.9674 - precision: 0.9671 - a=recall: 0.9682\n",
            "Epoch 232/400\n",
            "110/110 [==============================] - 0s 2ms/step - loss: 0.0846 - accuracy: 0.9671 - precision: 0.9665 - a=recall: 0.9682\n",
            "Epoch 233/400\n",
            "110/110 [==============================] - 0s 2ms/step - loss: 0.0857 - accuracy: 0.9646 - precision: 0.9679 - a=recall: 0.9613\n",
            "Epoch 234/400\n",
            "110/110 [==============================] - 0s 2ms/step - loss: 0.0830 - accuracy: 0.9640 - precision: 0.9652 - a=recall: 0.9630\n",
            "Epoch 235/400\n",
            "110/110 [==============================] - 0s 2ms/step - loss: 0.0864 - accuracy: 0.9634 - precision: 0.9647 - a=recall: 0.9625\n",
            "Epoch 236/400\n",
            "110/110 [==============================] - 0s 2ms/step - loss: 0.0835 - accuracy: 0.9663 - precision: 0.9686 - a=recall: 0.9642\n",
            "Epoch 237/400\n",
            "110/110 [==============================] - 0s 2ms/step - loss: 0.0847 - accuracy: 0.9657 - precision: 0.9654 - a=recall: 0.9665\n",
            "Epoch 238/400\n",
            "110/110 [==============================] - 0s 2ms/step - loss: 0.0830 - accuracy: 0.9649 - precision: 0.9680 - a=recall: 0.9619\n",
            "Epoch 239/400\n",
            "110/110 [==============================] - 0s 2ms/step - loss: 0.0839 - accuracy: 0.9674 - precision: 0.9687 - a=recall: 0.9665\n",
            "Epoch 240/400\n",
            "110/110 [==============================] - 0s 2ms/step - loss: 0.0857 - accuracy: 0.9637 - precision: 0.9658 - a=recall: 0.9619\n",
            "Epoch 241/400\n",
            "110/110 [==============================] - 0s 2ms/step - loss: 0.0843 - accuracy: 0.9663 - precision: 0.9649 - a=recall: 0.9682\n",
            "Epoch 242/400\n",
            "110/110 [==============================] - 0s 2ms/step - loss: 0.0849 - accuracy: 0.9660 - precision: 0.9686 - a=recall: 0.9636\n",
            "Epoch 243/400\n",
            "110/110 [==============================] - 0s 2ms/step - loss: 0.0846 - accuracy: 0.9651 - precision: 0.9606 - a=recall: 0.9704\n",
            "Epoch 244/400\n",
            "110/110 [==============================] - 0s 2ms/step - loss: 0.0847 - accuracy: 0.9651 - precision: 0.9648 - a=recall: 0.9659\n",
            "Epoch 245/400\n",
            "110/110 [==============================] - 0s 2ms/step - loss: 0.0847 - accuracy: 0.9671 - precision: 0.9681 - a=recall: 0.9665\n",
            "Epoch 246/400\n",
            "110/110 [==============================] - 0s 2ms/step - loss: 0.0827 - accuracy: 0.9671 - precision: 0.9713 - a=recall: 0.9630\n",
            "Epoch 247/400\n",
            "110/110 [==============================] - 0s 2ms/step - loss: 0.0844 - accuracy: 0.9623 - precision: 0.9614 - a=recall: 0.9636\n",
            "Epoch 248/400\n",
            "110/110 [==============================] - 0s 2ms/step - loss: 0.0840 - accuracy: 0.9646 - precision: 0.9653 - a=recall: 0.9642\n",
            "Epoch 249/400\n",
            "110/110 [==============================] - 0s 2ms/step - loss: 0.0820 - accuracy: 0.9694 - precision: 0.9725 - a=recall: 0.9665\n",
            "Epoch 250/400\n",
            "110/110 [==============================] - 0s 2ms/step - loss: 0.0847 - accuracy: 0.9651 - precision: 0.9653 - a=recall: 0.9653\n",
            "Epoch 251/400\n",
            "110/110 [==============================] - 0s 2ms/step - loss: 0.0831 - accuracy: 0.9646 - precision: 0.9648 - a=recall: 0.9648\n",
            "Epoch 252/400\n",
            "110/110 [==============================] - 0s 2ms/step - loss: 0.0841 - accuracy: 0.9640 - precision: 0.9642 - a=recall: 0.9642\n",
            "Epoch 253/400\n",
            "110/110 [==============================] - 0s 2ms/step - loss: 0.0829 - accuracy: 0.9660 - precision: 0.9691 - a=recall: 0.9630\n",
            "Epoch 254/400\n",
            "110/110 [==============================] - 0s 2ms/step - loss: 0.0843 - accuracy: 0.9663 - precision: 0.9670 - a=recall: 0.9659\n",
            "Epoch 255/400\n",
            "110/110 [==============================] - 0s 2ms/step - loss: 0.0841 - accuracy: 0.9640 - precision: 0.9658 - a=recall: 0.9625\n",
            "Epoch 256/400\n",
            "110/110 [==============================] - 0s 2ms/step - loss: 0.0841 - accuracy: 0.9643 - precision: 0.9674 - a=recall: 0.9613\n",
            "Epoch 257/400\n",
            "110/110 [==============================] - 0s 2ms/step - loss: 0.0844 - accuracy: 0.9677 - precision: 0.9671 - a=recall: 0.9687\n",
            "Epoch 258/400\n",
            "110/110 [==============================] - 0s 2ms/step - loss: 0.0826 - accuracy: 0.9660 - precision: 0.9664 - a=recall: 0.9659\n",
            "Epoch 259/400\n",
            "110/110 [==============================] - 0s 2ms/step - loss: 0.0835 - accuracy: 0.9671 - precision: 0.9670 - a=recall: 0.9676\n",
            "Epoch 260/400\n",
            "110/110 [==============================] - 0s 2ms/step - loss: 0.0828 - accuracy: 0.9666 - precision: 0.9670 - a=recall: 0.9665\n",
            "Epoch 261/400\n",
            "110/110 [==============================] - 0s 2ms/step - loss: 0.0846 - accuracy: 0.9666 - precision: 0.9649 - a=recall: 0.9687\n",
            "Epoch 262/400\n",
            "110/110 [==============================] - 0s 2ms/step - loss: 0.0830 - accuracy: 0.9663 - precision: 0.9681 - a=recall: 0.9648\n",
            "Epoch 263/400\n",
            "110/110 [==============================] - 0s 2ms/step - loss: 0.0835 - accuracy: 0.9649 - precision: 0.9664 - a=recall: 0.9636\n",
            "Epoch 264/400\n",
            "110/110 [==============================] - 0s 2ms/step - loss: 0.0836 - accuracy: 0.9666 - precision: 0.9665 - a=recall: 0.9670\n",
            "Epoch 265/400\n",
            "110/110 [==============================] - 0s 2ms/step - loss: 0.0839 - accuracy: 0.9649 - precision: 0.9669 - a=recall: 0.9630\n",
            "Epoch 266/400\n",
            "110/110 [==============================] - 0s 2ms/step - loss: 0.0843 - accuracy: 0.9637 - precision: 0.9647 - a=recall: 0.9630\n",
            "Epoch 267/400\n",
            "110/110 [==============================] - 0s 2ms/step - loss: 0.0822 - accuracy: 0.9669 - precision: 0.9670 - a=recall: 0.9670\n",
            "Epoch 268/400\n",
            "110/110 [==============================] - 0s 2ms/step - loss: 0.0842 - accuracy: 0.9671 - precision: 0.9655 - a=recall: 0.9693\n",
            "Epoch 269/400\n",
            "110/110 [==============================] - 0s 2ms/step - loss: 0.0850 - accuracy: 0.9669 - precision: 0.9697 - a=recall: 0.9642\n",
            "Epoch 270/400\n",
            "110/110 [==============================] - 0s 2ms/step - loss: 0.0847 - accuracy: 0.9640 - precision: 0.9621 - a=recall: 0.9665\n",
            "Epoch 271/400\n",
            "110/110 [==============================] - 0s 2ms/step - loss: 0.0827 - accuracy: 0.9671 - precision: 0.9676 - a=recall: 0.9670\n",
            "Epoch 272/400\n",
            "110/110 [==============================] - 0s 2ms/step - loss: 0.0828 - accuracy: 0.9651 - precision: 0.9643 - a=recall: 0.9665\n",
            "Epoch 273/400\n",
            "110/110 [==============================] - 0s 2ms/step - loss: 0.0844 - accuracy: 0.9660 - precision: 0.9649 - a=recall: 0.9676\n",
            "Epoch 274/400\n",
            "110/110 [==============================] - 0s 2ms/step - loss: 0.0836 - accuracy: 0.9666 - precision: 0.9665 - a=recall: 0.9670\n",
            "Epoch 275/400\n",
            "110/110 [==============================] - 0s 2ms/step - loss: 0.0831 - accuracy: 0.9654 - precision: 0.9653 - a=recall: 0.9659\n",
            "Epoch 276/400\n",
            "110/110 [==============================] - 0s 2ms/step - loss: 0.0818 - accuracy: 0.9694 - precision: 0.9709 - a=recall: 0.9682\n",
            "Epoch 277/400\n",
            "110/110 [==============================] - 0s 2ms/step - loss: 0.0829 - accuracy: 0.9660 - precision: 0.9696 - a=recall: 0.9625\n",
            "Epoch 278/400\n",
            "110/110 [==============================] - 0s 2ms/step - loss: 0.0831 - accuracy: 0.9654 - precision: 0.9653 - a=recall: 0.9659\n",
            "Epoch 279/400\n",
            "110/110 [==============================] - 0s 2ms/step - loss: 0.0855 - accuracy: 0.9643 - precision: 0.9626 - a=recall: 0.9665\n",
            "Epoch 280/400\n",
            "110/110 [==============================] - 0s 2ms/step - loss: 0.0822 - accuracy: 0.9683 - precision: 0.9677 - a=recall: 0.9693\n",
            "Epoch 281/400\n",
            "110/110 [==============================] - 0s 2ms/step - loss: 0.0825 - accuracy: 0.9674 - precision: 0.9681 - a=recall: 0.9670\n",
            "Epoch 282/400\n",
            "110/110 [==============================] - 0s 2ms/step - loss: 0.0827 - accuracy: 0.9663 - precision: 0.9686 - a=recall: 0.9642\n",
            "Epoch 283/400\n",
            "110/110 [==============================] - 0s 2ms/step - loss: 0.0840 - accuracy: 0.9643 - precision: 0.9647 - a=recall: 0.9642\n",
            "Epoch 284/400\n",
            "110/110 [==============================] - 0s 2ms/step - loss: 0.0831 - accuracy: 0.9646 - precision: 0.9621 - a=recall: 0.9676\n",
            "Epoch 285/400\n",
            "110/110 [==============================] - 0s 2ms/step - loss: 0.0818 - accuracy: 0.9654 - precision: 0.9669 - a=recall: 0.9642\n",
            "Epoch 286/400\n",
            "110/110 [==============================] - 0s 2ms/step - loss: 0.0835 - accuracy: 0.9674 - precision: 0.9708 - a=recall: 0.9642\n",
            "Epoch 287/400\n",
            "110/110 [==============================] - 0s 2ms/step - loss: 0.0813 - accuracy: 0.9669 - precision: 0.9708 - a=recall: 0.9630\n",
            "Epoch 288/400\n",
            "110/110 [==============================] - 0s 2ms/step - loss: 0.0819 - accuracy: 0.9660 - precision: 0.9664 - a=recall: 0.9659\n",
            "Epoch 289/400\n",
            "110/110 [==============================] - 0s 2ms/step - loss: 0.0832 - accuracy: 0.9649 - precision: 0.9658 - a=recall: 0.9642\n",
            "Epoch 290/400\n",
            "110/110 [==============================] - 0s 2ms/step - loss: 0.0820 - accuracy: 0.9669 - precision: 0.9692 - a=recall: 0.9648\n",
            "Epoch 291/400\n",
            "110/110 [==============================] - 0s 2ms/step - loss: 0.0835 - accuracy: 0.9637 - precision: 0.9642 - a=recall: 0.9636\n",
            "Epoch 292/400\n",
            "110/110 [==============================] - 0s 2ms/step - loss: 0.0813 - accuracy: 0.9677 - precision: 0.9687 - a=recall: 0.9670\n",
            "Epoch 293/400\n",
            "110/110 [==============================] - 0s 2ms/step - loss: 0.0817 - accuracy: 0.9680 - precision: 0.9682 - a=recall: 0.9682\n",
            "Epoch 294/400\n",
            "110/110 [==============================] - 0s 2ms/step - loss: 0.0825 - accuracy: 0.9651 - precision: 0.9685 - a=recall: 0.9619\n",
            "Epoch 295/400\n",
            "110/110 [==============================] - 0s 2ms/step - loss: 0.0818 - accuracy: 0.9680 - precision: 0.9703 - a=recall: 0.9659\n",
            "Epoch 296/400\n",
            "110/110 [==============================] - 0s 2ms/step - loss: 0.0818 - accuracy: 0.9671 - precision: 0.9649 - a=recall: 0.9699\n",
            "Epoch 297/400\n",
            "110/110 [==============================] - 0s 2ms/step - loss: 0.0839 - accuracy: 0.9683 - precision: 0.9661 - a=recall: 0.9710\n",
            "Epoch 298/400\n",
            "110/110 [==============================] - 0s 2ms/step - loss: 0.0804 - accuracy: 0.9671 - precision: 0.9676 - a=recall: 0.9670\n",
            "Epoch 299/400\n",
            "110/110 [==============================] - 0s 2ms/step - loss: 0.0823 - accuracy: 0.9669 - precision: 0.9654 - a=recall: 0.9687\n",
            "Epoch 300/400\n",
            "110/110 [==============================] - 0s 2ms/step - loss: 0.0819 - accuracy: 0.9674 - precision: 0.9681 - a=recall: 0.9670\n",
            "Epoch 301/400\n",
            "110/110 [==============================] - 0s 2ms/step - loss: 0.0833 - accuracy: 0.9666 - precision: 0.9670 - a=recall: 0.9665\n",
            "Epoch 302/400\n",
            "110/110 [==============================] - 0s 2ms/step - loss: 0.0846 - accuracy: 0.9657 - precision: 0.9627 - a=recall: 0.9693\n",
            "Epoch 303/400\n",
            "110/110 [==============================] - 0s 2ms/step - loss: 0.0854 - accuracy: 0.9620 - precision: 0.9635 - a=recall: 0.9608\n",
            "Epoch 304/400\n",
            "110/110 [==============================] - 0s 2ms/step - loss: 0.0814 - accuracy: 0.9674 - precision: 0.9655 - a=recall: 0.9699\n",
            "Epoch 305/400\n",
            "110/110 [==============================] - 0s 2ms/step - loss: 0.0821 - accuracy: 0.9654 - precision: 0.9675 - a=recall: 0.9636\n",
            "Epoch 306/400\n",
            "110/110 [==============================] - 0s 2ms/step - loss: 0.0832 - accuracy: 0.9666 - precision: 0.9665 - a=recall: 0.9670\n",
            "Epoch 307/400\n",
            "110/110 [==============================] - 0s 2ms/step - loss: 0.0821 - accuracy: 0.9651 - precision: 0.9659 - a=recall: 0.9648\n",
            "Epoch 308/400\n",
            "110/110 [==============================] - 0s 2ms/step - loss: 0.0825 - accuracy: 0.9660 - precision: 0.9654 - a=recall: 0.9670\n",
            "Epoch 309/400\n",
            "110/110 [==============================] - 0s 2ms/step - loss: 0.0828 - accuracy: 0.9651 - precision: 0.9653 - a=recall: 0.9653\n",
            "Epoch 310/400\n",
            "110/110 [==============================] - 0s 2ms/step - loss: 0.0815 - accuracy: 0.9654 - precision: 0.9653 - a=recall: 0.9659\n",
            "Epoch 311/400\n",
            "110/110 [==============================] - 0s 2ms/step - loss: 0.0815 - accuracy: 0.9663 - precision: 0.9686 - a=recall: 0.9642\n",
            "Epoch 312/400\n",
            "110/110 [==============================] - 0s 2ms/step - loss: 0.0820 - accuracy: 0.9683 - precision: 0.9677 - a=recall: 0.9693\n",
            "Epoch 313/400\n",
            "110/110 [==============================] - 0s 2ms/step - loss: 0.0840 - accuracy: 0.9657 - precision: 0.9648 - a=recall: 0.9670\n",
            "Epoch 314/400\n",
            "110/110 [==============================] - 0s 2ms/step - loss: 0.0818 - accuracy: 0.9666 - precision: 0.9665 - a=recall: 0.9670\n",
            "Epoch 315/400\n",
            "110/110 [==============================] - 0s 2ms/step - loss: 0.0819 - accuracy: 0.9660 - precision: 0.9649 - a=recall: 0.9676\n",
            "Epoch 316/400\n",
            "110/110 [==============================] - 0s 2ms/step - loss: 0.0808 - accuracy: 0.9671 - precision: 0.9692 - a=recall: 0.9653\n",
            "Epoch 317/400\n",
            "110/110 [==============================] - 0s 2ms/step - loss: 0.0825 - accuracy: 0.9654 - precision: 0.9669 - a=recall: 0.9642\n",
            "Epoch 318/400\n",
            "110/110 [==============================] - 0s 2ms/step - loss: 0.0844 - accuracy: 0.9646 - precision: 0.9642 - a=recall: 0.9653\n",
            "Epoch 319/400\n",
            "110/110 [==============================] - 0s 2ms/step - loss: 0.0841 - accuracy: 0.9649 - precision: 0.9642 - a=recall: 0.9659\n",
            "Epoch 320/400\n",
            "110/110 [==============================] - 0s 2ms/step - loss: 0.0811 - accuracy: 0.9663 - precision: 0.9681 - a=recall: 0.9648\n",
            "Epoch 321/400\n",
            "110/110 [==============================] - 0s 2ms/step - loss: 0.0813 - accuracy: 0.9674 - precision: 0.9671 - a=recall: 0.9682\n",
            "Epoch 322/400\n",
            "110/110 [==============================] - 0s 2ms/step - loss: 0.0817 - accuracy: 0.9666 - precision: 0.9665 - a=recall: 0.9670\n",
            "Epoch 323/400\n",
            "110/110 [==============================] - 0s 2ms/step - loss: 0.0816 - accuracy: 0.9671 - precision: 0.9686 - a=recall: 0.9659\n",
            "Epoch 324/400\n",
            "110/110 [==============================] - 0s 2ms/step - loss: 0.0830 - accuracy: 0.9646 - precision: 0.9626 - a=recall: 0.9670\n",
            "Epoch 325/400\n",
            "110/110 [==============================] - 0s 2ms/step - loss: 0.0807 - accuracy: 0.9677 - precision: 0.9681 - a=recall: 0.9676\n",
            "Epoch 326/400\n",
            "110/110 [==============================] - 0s 2ms/step - loss: 0.0806 - accuracy: 0.9689 - precision: 0.9720 - a=recall: 0.9659\n",
            "Epoch 327/400\n",
            "110/110 [==============================] - 0s 2ms/step - loss: 0.0811 - accuracy: 0.9691 - precision: 0.9693 - a=recall: 0.9693\n",
            "Epoch 328/400\n",
            "110/110 [==============================] - 0s 2ms/step - loss: 0.0817 - accuracy: 0.9663 - precision: 0.9659 - a=recall: 0.9670\n",
            "Epoch 329/400\n",
            "110/110 [==============================] - 0s 2ms/step - loss: 0.0841 - accuracy: 0.9646 - precision: 0.9642 - a=recall: 0.9653\n",
            "Epoch 330/400\n",
            "110/110 [==============================] - 0s 2ms/step - loss: 0.0805 - accuracy: 0.9669 - precision: 0.9697 - a=recall: 0.9642\n",
            "Epoch 331/400\n",
            "110/110 [==============================] - 0s 2ms/step - loss: 0.0801 - accuracy: 0.9669 - precision: 0.9654 - a=recall: 0.9687\n",
            "Epoch 332/400\n",
            "110/110 [==============================] - 0s 2ms/step - loss: 0.0816 - accuracy: 0.9677 - precision: 0.9681 - a=recall: 0.9676\n",
            "Epoch 333/400\n",
            "110/110 [==============================] - 0s 2ms/step - loss: 0.0808 - accuracy: 0.9654 - precision: 0.9659 - a=recall: 0.9653\n",
            "Epoch 334/400\n",
            "110/110 [==============================] - 0s 2ms/step - loss: 0.0814 - accuracy: 0.9689 - precision: 0.9698 - a=recall: 0.9682\n",
            "Epoch 335/400\n",
            "110/110 [==============================] - 0s 2ms/step - loss: 0.0793 - accuracy: 0.9674 - precision: 0.9665 - a=recall: 0.9687\n",
            "Epoch 336/400\n",
            "110/110 [==============================] - 0s 2ms/step - loss: 0.0803 - accuracy: 0.9663 - precision: 0.9643 - a=recall: 0.9687\n",
            "Epoch 337/400\n",
            "110/110 [==============================] - 0s 2ms/step - loss: 0.0826 - accuracy: 0.9677 - precision: 0.9666 - a=recall: 0.9693\n",
            "Epoch 338/400\n",
            "110/110 [==============================] - 0s 2ms/step - loss: 0.0799 - accuracy: 0.9686 - precision: 0.9698 - a=recall: 0.9676\n",
            "Epoch 339/400\n",
            "110/110 [==============================] - 0s 2ms/step - loss: 0.0799 - accuracy: 0.9691 - precision: 0.9677 - a=recall: 0.9710\n",
            "Epoch 340/400\n",
            "110/110 [==============================] - 0s 2ms/step - loss: 0.0829 - accuracy: 0.9654 - precision: 0.9664 - a=recall: 0.9648\n",
            "Epoch 341/400\n",
            "110/110 [==============================] - 0s 2ms/step - loss: 0.0798 - accuracy: 0.9660 - precision: 0.9670 - a=recall: 0.9653\n",
            "Epoch 342/400\n",
            "110/110 [==============================] - 0s 2ms/step - loss: 0.0834 - accuracy: 0.9671 - precision: 0.9681 - a=recall: 0.9665\n",
            "Epoch 343/400\n",
            "110/110 [==============================] - 0s 2ms/step - loss: 0.0815 - accuracy: 0.9677 - precision: 0.9681 - a=recall: 0.9676\n",
            "Epoch 344/400\n",
            "110/110 [==============================] - 0s 2ms/step - loss: 0.0798 - accuracy: 0.9697 - precision: 0.9683 - a=recall: 0.9716\n",
            "Epoch 345/400\n",
            "110/110 [==============================] - 0s 2ms/step - loss: 0.0799 - accuracy: 0.9686 - precision: 0.9709 - a=recall: 0.9665\n",
            "Epoch 346/400\n",
            "110/110 [==============================] - 0s 2ms/step - loss: 0.0802 - accuracy: 0.9686 - precision: 0.9693 - a=recall: 0.9682\n",
            "Epoch 347/400\n",
            "110/110 [==============================] - 0s 2ms/step - loss: 0.0808 - accuracy: 0.9674 - precision: 0.9671 - a=recall: 0.9682\n",
            "Epoch 348/400\n",
            "110/110 [==============================] - 0s 2ms/step - loss: 0.0821 - accuracy: 0.9677 - precision: 0.9650 - a=recall: 0.9710\n",
            "Epoch 349/400\n",
            "110/110 [==============================] - 0s 2ms/step - loss: 0.0800 - accuracy: 0.9683 - precision: 0.9682 - a=recall: 0.9687\n",
            "Epoch 350/400\n",
            "110/110 [==============================] - 0s 2ms/step - loss: 0.0807 - accuracy: 0.9694 - precision: 0.9699 - a=recall: 0.9693\n",
            "Epoch 351/400\n",
            "110/110 [==============================] - 0s 2ms/step - loss: 0.0798 - accuracy: 0.9694 - precision: 0.9677 - a=recall: 0.9716\n",
            "Epoch 352/400\n",
            "110/110 [==============================] - 0s 2ms/step - loss: 0.0810 - accuracy: 0.9643 - precision: 0.9647 - a=recall: 0.9642\n",
            "Epoch 353/400\n",
            "110/110 [==============================] - 0s 2ms/step - loss: 0.0792 - accuracy: 0.9694 - precision: 0.9677 - a=recall: 0.9716\n",
            "Epoch 354/400\n",
            "110/110 [==============================] - 0s 2ms/step - loss: 0.0800 - accuracy: 0.9663 - precision: 0.9665 - a=recall: 0.9665\n",
            "Epoch 355/400\n",
            "110/110 [==============================] - 0s 2ms/step - loss: 0.0803 - accuracy: 0.9651 - precision: 0.9664 - a=recall: 0.9642\n",
            "Epoch 356/400\n",
            "110/110 [==============================] - 0s 2ms/step - loss: 0.0799 - accuracy: 0.9683 - precision: 0.9687 - a=recall: 0.9682\n",
            "Epoch 357/400\n",
            "110/110 [==============================] - 0s 3ms/step - loss: 0.0809 - accuracy: 0.9637 - precision: 0.9615 - a=recall: 0.9665\n",
            "Epoch 358/400\n",
            "110/110 [==============================] - 0s 2ms/step - loss: 0.0804 - accuracy: 0.9651 - precision: 0.9685 - a=recall: 0.9619\n",
            "Epoch 359/400\n",
            "110/110 [==============================] - 0s 2ms/step - loss: 0.0790 - accuracy: 0.9686 - precision: 0.9703 - a=recall: 0.9670\n",
            "Epoch 360/400\n",
            "110/110 [==============================] - 0s 2ms/step - loss: 0.0796 - accuracy: 0.9674 - precision: 0.9676 - a=recall: 0.9676\n",
            "Epoch 361/400\n",
            "110/110 [==============================] - 0s 2ms/step - loss: 0.0805 - accuracy: 0.9660 - precision: 0.9654 - a=recall: 0.9670\n",
            "Epoch 362/400\n",
            "110/110 [==============================] - 0s 2ms/step - loss: 0.0785 - accuracy: 0.9697 - precision: 0.9715 - a=recall: 0.9682\n",
            "Epoch 363/400\n",
            "110/110 [==============================] - 0s 2ms/step - loss: 0.0793 - accuracy: 0.9669 - precision: 0.9654 - a=recall: 0.9687\n",
            "Epoch 364/400\n",
            "110/110 [==============================] - 0s 2ms/step - loss: 0.0807 - accuracy: 0.9680 - precision: 0.9682 - a=recall: 0.9682\n",
            "Epoch 365/400\n",
            "110/110 [==============================] - 0s 2ms/step - loss: 0.0776 - accuracy: 0.9711 - precision: 0.9726 - a=recall: 0.9699\n",
            "Epoch 366/400\n",
            "110/110 [==============================] - 0s 2ms/step - loss: 0.0831 - accuracy: 0.9649 - precision: 0.9669 - a=recall: 0.9630\n",
            "Epoch 367/400\n",
            "110/110 [==============================] - 0s 2ms/step - loss: 0.0813 - accuracy: 0.9674 - precision: 0.9671 - a=recall: 0.9682\n",
            "Epoch 368/400\n",
            "110/110 [==============================] - 0s 2ms/step - loss: 0.0810 - accuracy: 0.9657 - precision: 0.9664 - a=recall: 0.9653\n",
            "Epoch 369/400\n",
            "110/110 [==============================] - 0s 2ms/step - loss: 0.0795 - accuracy: 0.9634 - precision: 0.9657 - a=recall: 0.9613\n",
            "Epoch 370/400\n",
            "110/110 [==============================] - 0s 2ms/step - loss: 0.0803 - accuracy: 0.9683 - precision: 0.9687 - a=recall: 0.9682\n",
            "Epoch 371/400\n",
            "110/110 [==============================] - 0s 2ms/step - loss: 0.0819 - accuracy: 0.9669 - precision: 0.9681 - a=recall: 0.9659\n",
            "Epoch 372/400\n",
            "110/110 [==============================] - 0s 2ms/step - loss: 0.0799 - accuracy: 0.9680 - precision: 0.9692 - a=recall: 0.9670\n",
            "Epoch 373/400\n",
            "110/110 [==============================] - 0s 2ms/step - loss: 0.0790 - accuracy: 0.9686 - precision: 0.9687 - a=recall: 0.9687\n",
            "Epoch 374/400\n",
            "110/110 [==============================] - 0s 2ms/step - loss: 0.0782 - accuracy: 0.9711 - precision: 0.9716 - a=recall: 0.9710\n",
            "Epoch 375/400\n",
            "110/110 [==============================] - 0s 2ms/step - loss: 0.0799 - accuracy: 0.9674 - precision: 0.9697 - a=recall: 0.9653\n",
            "Epoch 376/400\n",
            "110/110 [==============================] - 0s 2ms/step - loss: 0.0812 - accuracy: 0.9666 - precision: 0.9654 - a=recall: 0.9682\n",
            "Epoch 377/400\n",
            "110/110 [==============================] - 0s 2ms/step - loss: 0.0806 - accuracy: 0.9691 - precision: 0.9682 - a=recall: 0.9704\n",
            "Epoch 378/400\n",
            "110/110 [==============================] - 0s 2ms/step - loss: 0.0808 - accuracy: 0.9677 - precision: 0.9660 - a=recall: 0.9699\n",
            "Epoch 379/400\n",
            "110/110 [==============================] - 0s 2ms/step - loss: 0.0807 - accuracy: 0.9654 - precision: 0.9669 - a=recall: 0.9642\n",
            "Epoch 380/400\n",
            "110/110 [==============================] - 0s 2ms/step - loss: 0.0788 - accuracy: 0.9691 - precision: 0.9666 - a=recall: 0.9721\n",
            "Epoch 381/400\n",
            "110/110 [==============================] - 0s 2ms/step - loss: 0.0781 - accuracy: 0.9694 - precision: 0.9715 - a=recall: 0.9676\n",
            "Epoch 382/400\n",
            "110/110 [==============================] - 0s 2ms/step - loss: 0.0778 - accuracy: 0.9683 - precision: 0.9682 - a=recall: 0.9687\n",
            "Epoch 383/400\n",
            "110/110 [==============================] - 0s 2ms/step - loss: 0.0800 - accuracy: 0.9691 - precision: 0.9682 - a=recall: 0.9704\n",
            "Epoch 384/400\n",
            "110/110 [==============================] - 0s 2ms/step - loss: 0.0805 - accuracy: 0.9660 - precision: 0.9664 - a=recall: 0.9659\n",
            "Epoch 385/400\n",
            "110/110 [==============================] - 0s 2ms/step - loss: 0.0786 - accuracy: 0.9691 - precision: 0.9677 - a=recall: 0.9710\n",
            "Epoch 386/400\n",
            "110/110 [==============================] - 0s 2ms/step - loss: 0.0807 - accuracy: 0.9666 - precision: 0.9665 - a=recall: 0.9670\n",
            "Epoch 387/400\n",
            "110/110 [==============================] - 0s 2ms/step - loss: 0.0789 - accuracy: 0.9677 - precision: 0.9692 - a=recall: 0.9665\n",
            "Epoch 388/400\n",
            "110/110 [==============================] - 0s 2ms/step - loss: 0.0789 - accuracy: 0.9700 - precision: 0.9704 - a=recall: 0.9699\n",
            "Epoch 389/400\n",
            "110/110 [==============================] - 0s 2ms/step - loss: 0.0776 - accuracy: 0.9723 - precision: 0.9711 - a=recall: 0.9738\n",
            "Epoch 390/400\n",
            "110/110 [==============================] - 0s 2ms/step - loss: 0.0798 - accuracy: 0.9669 - precision: 0.9686 - a=recall: 0.9653\n",
            "Epoch 391/400\n",
            "110/110 [==============================] - 0s 2ms/step - loss: 0.0788 - accuracy: 0.9671 - precision: 0.9681 - a=recall: 0.9665\n",
            "Epoch 392/400\n",
            "110/110 [==============================] - 0s 2ms/step - loss: 0.0784 - accuracy: 0.9680 - precision: 0.9692 - a=recall: 0.9670\n",
            "Epoch 393/400\n",
            "110/110 [==============================] - 0s 2ms/step - loss: 0.0782 - accuracy: 0.9669 - precision: 0.9665 - a=recall: 0.9676\n",
            "Epoch 394/400\n",
            "110/110 [==============================] - 0s 2ms/step - loss: 0.0800 - accuracy: 0.9683 - precision: 0.9682 - a=recall: 0.9687\n",
            "Epoch 395/400\n",
            "110/110 [==============================] - 0s 2ms/step - loss: 0.0798 - accuracy: 0.9677 - precision: 0.9676 - a=recall: 0.9682\n",
            "Epoch 396/400\n",
            "110/110 [==============================] - 0s 2ms/step - loss: 0.0809 - accuracy: 0.9663 - precision: 0.9665 - a=recall: 0.9665\n",
            "Epoch 397/400\n",
            "110/110 [==============================] - 0s 2ms/step - loss: 0.0797 - accuracy: 0.9669 - precision: 0.9639 - a=recall: 0.9704\n",
            "Epoch 398/400\n",
            "110/110 [==============================] - 0s 2ms/step - loss: 0.0793 - accuracy: 0.9683 - precision: 0.9682 - a=recall: 0.9687\n",
            "Epoch 399/400\n",
            "110/110 [==============================] - 0s 2ms/step - loss: 0.0806 - accuracy: 0.9694 - precision: 0.9683 - a=recall: 0.9710\n",
            "Epoch 400/400\n",
            "110/110 [==============================] - 0s 2ms/step - loss: 0.0788 - accuracy: 0.9683 - precision: 0.9682 - a=recall: 0.9687\n"
          ]
        }
      ],
      "source": [
        "history= model1.fit(X_train, y_train, epochs= 400)"
      ]
    },
    {
      "cell_type": "code",
      "execution_count": 71,
      "metadata": {
        "colab": {
          "base_uri": "https://localhost:8080/",
          "height": 294
        },
        "id": "C4Tse5VtQQ1l",
        "outputId": "52209481-230e-4393-b55e-5299ce1f5bf2"
      },
      "outputs": [
        {
          "output_type": "execute_result",
          "data": {
            "text/plain": [
              "<matplotlib.axes._subplots.AxesSubplot at 0x7fde9387a790>"
            ]
          },
          "metadata": {},
          "execution_count": 71
        },
        {
          "output_type": "display_data",
          "data": {
            "text/plain": [
              "<Figure size 432x288 with 1 Axes>"
            ],
            "image/png": "[encoded data removed]"
          },
          "metadata": {}
        }
      ],
      "source": [
        "pd.DataFrame(history.history).plot()"
      ]
    },
    {
      "cell_type": "code",
      "source": [
        "model1.evaluate(X_test, y_test)"
      ],
      "metadata": {
        "colab": {
          "base_uri": "https://localhost:8080/"
        },
        "id": "mvLn9B_pZ6XP",
        "outputId": "073336f1-e1ce-48da-88f7-aa604a232ca0"
      },
      "execution_count": 72,
      "outputs": [
        {
          "output_type": "stream",
          "name": "stdout",
          "text": [
            "47/47 [==============================] - 0s 2ms/step - loss: 0.1140 - accuracy: 0.9560 - precision: 0.9956 - a=recall: 0.9151\n"
          ]
        },
        {
          "output_type": "execute_result",
          "data": {
            "text/plain": [
              "[0.11401093006134033,\n",
              " 0.9560292959213257,\n",
              " 0.9956011772155762,\n",
              " 0.9150943160057068]"
            ]
          },
          "metadata": {},
          "execution_count": 72
        }
      ]
    }
  ],
  "metadata": {
    "colab": {
      "collapsed_sections": [],
      "provenance": []
    },
    "kernelspec": {
      "display_name": "Python 3",
      "language": "python",
      "name": "python3"
    },
    "language_info": {
      "codemirror_mode": {
        "name": "ipython",
        "version": 3
      },
      "file_extension": ".py",
      "mimetype": "text/x-python",
      "name": "python",
      "nbconvert_exporter": "python",
      "pygments_lexer": "ipython3",
      "version": "3.8.5"
    }
  },
  "nbformat": 4,
  "nbformat_minor": 0
}